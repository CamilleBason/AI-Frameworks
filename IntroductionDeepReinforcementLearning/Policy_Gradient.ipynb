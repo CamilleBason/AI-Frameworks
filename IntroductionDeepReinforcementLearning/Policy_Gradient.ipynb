{
 "cells": [
  {
   "cell_type": "markdown",
   "metadata": {},
   "source": [
    "<a href=\"https://colab.research.google.com/github/wikistat/AI-Frameworks/blob/master/IntroductionDeepReinforcementLearning/Policy_Gradient.ipynb\" target=\"_parent\"><img src=\"https://colab.research.google.com/assets/colab-badge.svg\" alt=\"Open In Colab\"/></a>"
   ]
  },
  {
   "cell_type": "markdown",
   "metadata": {},
   "source": [
    "# [IA Frameworks](https://github.com/wikistat/AI-Frameworks) - Introduction to Deep Reinforcement Learning "
   ]
  },
  {
   "cell_type": "markdown",
   "metadata": {},
   "source": [
    "<center>\n",
    "<a href=\"http://www.insa-toulouse.fr/\" ><img src=\"http://www.math.univ-toulouse.fr/~besse/Wikistat/Images/logo-insa.jpg\" style=\"float:left; max-width: 120px; display: inline\" alt=\"INSA\"/></a> \n",
    "<a href=\"http://wikistat.fr/\" ><img src=\"http://www.math.univ-toulouse.fr/~besse/Wikistat/Images/wikistat.jpg\" width=400, style=\"max-width: 150px; display: inline\"  alt=\"Wikistat\"/></a>\n",
    "<a href=\"http://www.math.univ-toulouse.fr/\" ><img src=\"http://www.math.univ-toulouse.fr/~besse/Wikistat/Images/logo_imt.jpg\" width=400,  style=\"float:right;  display: inline\" alt=\"IMT\"/> </a>\n",
    "    \n",
    "</center>"
   ]
  },
  {
   "cell_type": "markdown",
   "metadata": {},
   "source": [
    "# Part 2 : Policy Gradient Algorithm\n",
    "\n",
    "The objectives of this notebook are the following : \n",
    "\n",
    "* Implement Hard-Coded And Neural network policy to solve the *CartPole* Game \n",
    "* Implement Policy gradient algorithm to solve the *CartPole* Game \n"
   ]
  },
  {
   "cell_type": "markdown",
   "metadata": {},
   "source": [
    "# Files & Data (Google Colab)\n",
    "\n",
    "If you're running this notebook on Google colab, you do not have access to the `solutions` folder you get by cloning the repository locally. \n",
    "\n",
    "The following lines will allow you to build the folders and the files you need for this TP.\n",
    "\n",
    "**WARNING 1** Do not run this line localy.\n",
    "**WARNING 2** The magic command `%load` does not work work on google colab, you will have to copy-paste the solution on the notebook."
   ]
  },
  {
   "cell_type": "code",
   "execution_count": 1,
   "metadata": {},
   "outputs": [
    {
     "name": "stdout",
     "output_type": "stream",
     "text": [
      "mkdir: solution: File exists\n",
      "zsh:1: command not found: wget\n"
     ]
    }
   ],
   "source": [
    "! mkdir solution\n",
    "! wget -P solution https://github.com/wikistat/AI-Frameworks/raw/master/IntroductionDeepReinforcementLearning/solutions/"
   ]
  },
  {
   "cell_type": "markdown",
   "metadata": {},
   "source": [
    "# Import librairies"
   ]
  },
  {
   "cell_type": "code",
   "execution_count": 1,
   "metadata": {},
   "outputs": [],
   "source": [
    "import numpy as np\n",
    "import random\n",
    "import math\n",
    "\n",
    "# To plot figures and animations\n",
    "import matplotlib\n",
    "import matplotlib.animation as animation\n",
    "import matplotlib.pyplot as plt\n",
    "from IPython.display import HTML\n",
    "\n",
    "\n",
    "#Tensorflow/Keras utils\n",
    "import tensorflow.keras.models as km\n",
    "import tensorflow.keras.layers as kl\n",
    "import tensorflow.keras.initializers as ki\n",
    "import tensorflow.keras.optimizers as ko\n",
    "import tensorflow.keras.backend as K\n",
    "\n",
    "\n",
    "# Gym Library\n",
    "import gym"
   ]
  },
  {
   "cell_type": "markdown",
   "metadata": {},
   "source": [
    "The following functions enable to build a video from a list of images. <br>\n",
    "They will be used to build video of the game you will played."
   ]
  },
  {
   "cell_type": "code",
   "execution_count": 2,
   "metadata": {},
   "outputs": [],
   "source": [
    "def update_scene(num, frames, patch):\n",
    "    patch.set_data(frames[num])\n",
    "    return patch,\n",
    "\n",
    "def plot_animation(frames, repeat=False, interval=40):\n",
    "    plt.close()  # or else nbagg sometimes plots in the previous cell\n",
    "    fig = plt.figure()\n",
    "    patch = plt.imshow(frames[0])\n",
    "    plt.axis('off')\n",
    "    return animation.FuncAnimation(fig, update_scene, fargs=(frames, patch), frames=len(frames), repeat=repeat, interval=interval)"
   ]
  },
  {
   "cell_type": "markdown",
   "metadata": {
    "toc-hr-collapsed": true,
    "toc-nb-collapsed": true
   },
   "source": [
    "# AI Gym Librairie\n",
    "<a href=\"https://gym.openai.com/\" ><img src=\"https://gym.openai.com/assets/dist/home/header/home-icon-54c30e2345.svg\" style=\"float:left; max-width: 120px; display: inline\" alt=\"INSA\"/></a> "
   ]
  },
  {
   "cell_type": "markdown",
   "metadata": {},
   "source": [
    "In this notebook we will be using [OpenAI gym](https://gym.openai.com/), a great toolkit for developing and comparing Reinforcement Learning algorithms. It provides many environments for your learning *agents* to interact with."
   ]
  },
  {
   "cell_type": "markdown",
   "metadata": {},
   "source": [
    "# A simple environment: the Cart-Pole"
   ]
  },
  {
   "cell_type": "markdown",
   "metadata": {},
   "source": [
    "## Description\n",
    "A pole is attached by an un-actuated joint to a cart, which moves along a frictionless track. The pendulum starts upright, and the goal is to prevent it from falling over by increasing and reducing the cart's velocity.\n",
    "\n",
    "### Observation\n",
    "\n",
    "Num | Observation | Min | Max\n",
    "---|---|---|---\n",
    "0 | Cart Position | -2.4 | 2.4\n",
    "1 | Cart Velocity | -Inf | Inf\n",
    "2 | Pole Angle | ~ -41.8&deg; | ~ 41.8&deg;\n",
    "3 | Pole Velocity At Tip | -Inf | Inf\n",
    "\n",
    "### Actions\n",
    "\n",
    "Num | Action\n",
    "--- | ---\n",
    "0 | Push cart to the left\n",
    "1 | Push cart to the righ&t\n",
    "\n",
    "Note: The amount the velocity is reduced or increased is not fixed as it depends on the angle the pole is pointing. This is because the center of gravity of the pole increases the amount of energy needed to move the cart underneath it\n",
    "\n",
    "### Reward\n",
    "Reward is 1 for every step taken, including the termination step\n",
    "\n",
    "### Starting State\n",
    "All observations are assigned a uniform random value between ±0.05\n",
    "\n",
    "### Episode Termination\n",
    "1. Pole Angle is more than ±12°\n",
    "2. Cart Position is more than ±2.4 (center of the cart reaches the edge of the display)\n",
    "3. Episode length is greater than 200\n",
    "\n",
    "### Solved Requirements\n",
    "Considered solved when the average reward is greater than or equal to 195.0 over 100 consecutive trials.\n",
    "\n",
    "The description above if part of the official description of this environemtn. Read full description [here](https://github.com/openai/gym/wiki/CartPole-v0).\n",
    "\n",
    "The following command will load the `CartPole` environment."
   ]
  },
  {
   "cell_type": "code",
   "execution_count": 3,
   "metadata": {},
   "outputs": [],
   "source": [
    "env = gym.make(\"CartPole-v0\")"
   ]
  },
  {
   "cell_type": "code",
   "execution_count": 4,
   "metadata": {},
   "outputs": [
    {
     "name": "stdout",
     "output_type": "stream",
     "text": [
      "Environemnt is a 400x600x3 images\n"
     ]
    }
   ],
   "source": [
    "env.reset()\n",
    "img = env.render(mode = \"rgb_array\")\n",
    "env.close()\n",
    "print(\"Environemnt is a %dx%dx%d images\" %img.shape)"
   ]
  },
  {
   "cell_type": "code",
   "execution_count": 5,
   "metadata": {},
   "outputs": [
    {
     "data": {
      "text/plain": [
       "(-0.5, 599.5, 399.5, -0.5)"
      ]
     },
     "execution_count": 5,
     "metadata": {},
     "output_type": "execute_result"
    },
    {
     "data": {
      "image/png": "[encoded data removed]",
      "text/plain": [
       "<Figure size 432x288 with 1 Axes>"
      ]
     },
     "metadata": {
      "needs_background": "light"
     },
     "output_type": "display_data"
    }
   ],
   "source": [
    "plt.imshow(img)\n",
    "plt.axis(\"off\")"
   ]
  },
  {
   "cell_type": "markdown",
   "metadata": {},
   "source": [
    "If you have forgotten how the `CartPole` environment works, open the `Deep_Q_Learning_CartPole.ipynb` notebook to run explanation's cell."
   ]
  },
  {
   "cell_type": "markdown",
   "metadata": {},
   "source": [
    "# Hard coded policy\n",
    "\n",
    "How can we make the poll remain upright? We will need to define a _policy_ for that. \n",
    "\n",
    "This is the strategy that the agent will use to select an action at each step. It can use all the past actions and observations to decide what to do.\n",
    "\n",
    "Let's first implement **Hard Coded policies**, *i.e.* simple rules that defines which action to takes according to the parameters."
   ]
  },
  {
   "cell_type": "code",
   "execution_count": 9,
   "metadata": {},
   "outputs": [],
   "source": [
    "def run_one_episode(policy, return_frames=False):\n",
    "    frames = []\n",
    "    observation = env.reset()    \n",
    "    reward_episod = 0    \n",
    "    done = False\n",
    "    while not(done):\n",
    "        action = policy(observation)\n",
    "        observation, reward, done, _ = env.step(action)\n",
    "        reward_episod += reward\n",
    "        if return_frames:\n",
    "            img = env.render(mode = \"rgb_array\")\n",
    "            env.close()\n",
    "            frames.append(img)\n",
    "    return reward_episod, frames"
   ]
  },
  {
   "cell_type": "code",
   "execution_count": 12,
   "metadata": {},
   "outputs": [],
   "source": [
    "def play_games(policy, n_games=100):\n",
    "    all_reward_sum = []   \n",
    "    n_game = 0          \n",
    "    while n_game < n_games:\n",
    "        reward_episod, _ = run_one_episode(policy)\n",
    "        if n_game %10 == 0:\n",
    "            print(\"Game played : %d. Mean and Standart deviation's reward for the last 10 episode: %.1f - %.1f\" %(n_game, np.mean(all_reward_sum[-10:]), np.std(all_reward_sum[-10:])) )\n",
    "        all_reward_sum.append(reward_episod)\n",
    "        n_game += 1\n",
    "    print(\"Over %d episodes, mean reward: %.1f, std : %.1f\" %(n_games, np.mean(all_reward_sum), np.std(all_reward_sum)))"
   ]
  },
  {
   "cell_type": "markdown",
   "metadata": {},
   "source": [
    "## Random policy"
   ]
  },
  {
   "cell_type": "markdown",
   "metadata": {},
   "source": [
    "Let's start with a completly random policy and see how much time the poll will remain upright over 100 episodes."
   ]
  },
  {
   "cell_type": "code",
   "execution_count": 13,
   "metadata": {},
   "outputs": [
    {
     "name": "stdout",
     "output_type": "stream",
     "text": [
      "Game played : 0. Mean and Standart deviation's reward for the last 10 episode: nan - nan\n",
      "Game played : 10. Mean and Standart deviation's reward for the last 10 episode: 25.5 - 11.5\n",
      "Game played : 20. Mean and Standart deviation's reward for the last 10 episode: 23.5 - 11.0\n",
      "Game played : 30. Mean and Standart deviation's reward for the last 10 episode: 19.9 - 8.2\n",
      "Game played : 40. Mean and Standart deviation's reward for the last 10 episode: 19.0 - 7.8\n",
      "Game played : 50. Mean and Standart deviation's reward for the last 10 episode: 31.0 - 13.5\n",
      "Game played : 60. Mean and Standart deviation's reward for the last 10 episode: 17.9 - 6.2\n",
      "Game played : 70. Mean and Standart deviation's reward for the last 10 episode: 22.1 - 7.7\n",
      "Game played : 80. Mean and Standart deviation's reward for the last 10 episode: 19.6 - 7.6\n",
      "Game played : 90. Mean and Standart deviation's reward for the last 10 episode: 25.2 - 11.7\n",
      "Over 100 episodes, mean reward: 22.3, std : 10.4\n"
     ]
    }
   ],
   "source": [
    "def policy_random(state):\n",
    "    return env.action_space.sample()\n",
    "play_games(policy = policy_random)"
   ]
  },
  {
   "cell_type": "markdown",
   "metadata": {},
   "source": [
    "#### Visualize a complete game\n",
    "\n",
    "Let's run one pisode with his random policy and save all images representing the environment at each step."
   ]
  },
  {
   "cell_type": "code",
   "execution_count": 16,
   "metadata": {},
   "outputs": [],
   "source": [
    "reward_episod, frames = run_one_episode(policy = policy_random, return_frames=True)\n",
    "HTML(plot_animation(frames).to_html5_video())"
   ]
  },
  {
   "cell_type": "markdown",
   "metadata": {},
   "source": [
    "### Simple strategy"
   ]
  },
  {
   "cell_type": "markdown",
   "metadata": {},
   "source": [
    "Let's hard code a simple strategy: if the pole is tilting to the left, then push the cart to the left, and _vice versa_. Let's see if that works.\n",
    "\n",
    "**Exercise** implement this policy and play 100 games with this policy. What are the means and std deviation of the reward sum over the 100 games?"
   ]
  },
  {
   "cell_type": "code",
   "execution_count": 19,
   "metadata": {},
   "outputs": [],
   "source": [
    "# %load solutions/pg_simple_policy.py"
   ]
  },
  {
   "cell_type": "code",
   "execution_count": 20,
   "metadata": {},
   "outputs": [
    {
     "name": "stdout",
     "output_type": "stream",
     "text": [
      "Game played : 0. Mean and Standart deviation's reward for the last 10 episode: nan - nan\n",
      "Game played : 10. Mean and Standart deviation's reward for the last 10 episode: 40.2 - 4.1\n",
      "Game played : 20. Mean and Standart deviation's reward for the last 10 episode: 41.2 - 6.4\n",
      "Game played : 30. Mean and Standart deviation's reward for the last 10 episode: 44.5 - 7.4\n",
      "Game played : 40. Mean and Standart deviation's reward for the last 10 episode: 41.2 - 9.5\n",
      "Game played : 50. Mean and Standart deviation's reward for the last 10 episode: 43.8 - 11.4\n",
      "Game played : 60. Mean and Standart deviation's reward for the last 10 episode: 41.4 - 8.3\n",
      "Game played : 70. Mean and Standart deviation's reward for the last 10 episode: 42.6 - 7.3\n",
      "Game played : 80. Mean and Standart deviation's reward for the last 10 episode: 42.7 - 10.3\n",
      "Game played : 90. Mean and Standart deviation's reward for the last 10 episode: 38.8 - 4.9\n",
      "Over 100 episodes, mean reward: 41.9, std : 8.1\n"
     ]
    },
    {
     "name": "stderr",
     "output_type": "stream",
     "text": [
      "/Users/brendanguillouet/anaconda3/envs/AIF/lib/python3.8/site-packages/numpy/core/fromnumeric.py:3334: RuntimeWarning: Mean of empty slice.\n",
      "  return _methods._mean(a, axis=axis, dtype=dtype,\n",
      "/Users/brendanguillouet/anaconda3/envs/AIF/lib/python3.8/site-packages/numpy/core/_methods.py:161: RuntimeWarning: invalid value encountered in double_scalars\n",
      "  ret = ret.dtype.type(ret / rcount)\n",
      "/Users/brendanguillouet/anaconda3/envs/AIF/lib/python3.8/site-packages/numpy/core/_methods.py:216: RuntimeWarning: Degrees of freedom <= 0 for slice\n",
      "  ret = _var(a, axis=axis, dtype=dtype, out=out, ddof=ddof,\n",
      "/Users/brendanguillouet/anaconda3/envs/AIF/lib/python3.8/site-packages/numpy/core/_methods.py:185: RuntimeWarning: invalid value encountered in true_divide\n",
      "  arrmean = um.true_divide(\n",
      "/Users/brendanguillouet/anaconda3/envs/AIF/lib/python3.8/site-packages/numpy/core/_methods.py:209: RuntimeWarning: invalid value encountered in double_scalars\n",
      "  ret = ret.dtype.type(ret / rcount)\n"
     ]
    }
   ],
   "source": [
    "play_games(policy = simple_policy)"
   ]
  },
  {
   "cell_type": "markdown",
   "metadata": {},
   "source": [
    "**Q** What can you say about this strategy?"
   ]
  },
  {
   "cell_type": "markdown",
   "metadata": {},
   "source": [
    "**Exercise** Vizualize a complete game:"
   ]
  },
  {
   "cell_type": "code",
   "execution_count": 24,
   "metadata": {},
   "outputs": [
    {
     "data": {
      "text/html": [
       "<video width=\"432\" height=\"288\" controls autoplay>\n",
       "  <source type=\"video/mp4\" src=\"data:video/mp4;base64,AAAAIGZ0eXBNNFYgAAACAE00ViBpc29taXNvMmF2YzEAAAAIZnJlZQAAD69tZGF0AAACrgYF//+q\n",
       "3EXpvebZSLeWLNgg2SPu73gyNjQgLSBjb3JlIDE2MCByMzAxMSBjZGU5YTkzIC0gSC4yNjQvTVBF\n",
       "Ry00IEFWQyBjb2RlYyAtIENvcHlsZWZ0IDIwMDMtMjAyMCAtIGh0dHA6Ly93d3cudmlkZW9sYW4u\n",
       "b3JnL3gyNjQuaHRtbCAtIG9wdGlvbnM6IGNhYmFjPTEgcmVmPTMgZGVibG9jaz0xOjA6MCBhbmFs\n",
       "eXNlPTB4MzoweDExMyBtZT1oZXggc3VibWU9NyBwc3k9MSBwc3lfcmQ9MS4wMDowLjAwIG1peGVk\n",
       "X3JlZj0xIG1lX3JhbmdlPTE2IGNocm9tYV9tZT0xIHRyZWxsaXM9MSA4eDhkY3Q9MSBjcW09MCBk\n",
       "ZWFkem9uZT0yMSwxMSBmYXN0X3Bza2lwPTEgY2hyb21hX3FwX29mZnNldD0tMiB0aHJlYWRzPTkg\n",
       "bG9va2FoZWFkX3RocmVhZHM9MSBzbGljZWRfdGhyZWFkcz0wIG5yPTAgZGVjaW1hdGU9MSBpbnRl\n",
       "cmxhY2VkPTAgYmx1cmF5X2NvbXBhdD0wIGNvbnN0cmFpbmVkX2ludHJhPTAgYmZyYW1lcz0zIGJf\n",
       "cHlyYW1pZD0yIGJfYWRhcHQ9MSBiX2JpYXM9MCBkaXJlY3Q9MSB3ZWlnaHRiPTEgb3Blbl9nb3A9\n",
       "MCB3ZWlnaHRwPTIga2V5aW50PTI1MCBrZXlpbnRfbWluPTI1IHNjZW5lY3V0PTQwIGludHJhX3Jl\n",
       "ZnJlc2g9MCByY19sb29rYWhlYWQ9NDAgcmM9Y3JmIG1idHJlZT0xIGNyZj0yMy4wIHFjb21wPTAu\n",
       "NjAgcXBtaW49MCBxcG1heD02OSBxcHN0ZXA9NCBpcF9yYXRpbz0xLjQwIGFxPTE6MS4wMACAAAAB\n",
       "ZmWIhAA7//73Tr8Cm0WXagOSVwr2yqQmWblSawHypgAAAwAAEbBufJcNeavSJAAArYACODOPhbL1\n",
       "4/wO1/ABRohXah5vDYuytXgUWKS5eAdeNj4duMQDEYa1c4CH2IvboLCJ4sdMfK+MX/tlYyCJ+z7q\n",
       "NyeMdruQQn4bqLTMWcko4NEiBjPxnLSWp+j4OfM3mu3v7RHMetDUdapFo8KsaWQEq/U4zGRoe1I8\n",
       "At79HidjyOl7P4yzV0KHFyX+Dt5ZAxq8CIpgCZW+P4bfP4tt/4x7l8OXdJe0vt/bxKiod7Wsg1ZG\n",
       "geNtfYtdV3uvXjhkyYvK8BJQVBGAZ7rkyz/+4lgewSSAcNCH4NvBOnziKSx7y3Tb4E3m4rTuwtop\n",
       "bPEm44JicBWLzYUxD8IhYyWgrb9ns/5nybuYOvSdd5fewUBehi+2JUhn70UpnzxhPtMNZ9cKnhhP\n",
       "9Izjmn05KBLlQBhlAAADAhMAAACoQZokbEO//qmWAAVvsuyoFPWJBLHD86d6hKYgVyg5iyshTuEY\n",
       "vBjgn7GUneKtHTj0/K3T4+ZzO1uYLg8E6NEpSKIkbpzfZVdCwliM1rF5sjza2UWmglVDC4we4ns0\n",
       "e4gBAVSrWnOacqKnAkis10oDV28hEdm+Ozus0YzDUL5czcTj9sdSWd3j4UgrPb8aeowzboiHqXi6\n",
       "hyWBRk3QMwk6cXrlV/vJCxqAAAAAH0GeQniF/wAGcU2SvI+LgHPNSyOi0G4ayStA1R8jBXEAAAAo\n",
       "AZ5hdEK/AAiviI4+6xSTRR8bEMRnL0AGiVlL2FKB0cIsXYxkmJPOYAAAACwBnmNqQr8ABFeb7dy1\n",
       "hQ4IYRYPTtLgBBXV2fx+IXY0Ops4HhWWTA6Ww6BjAQAAADdBmmhJqEFomUwId//+qZYAArfxQNFg\n",
       "CH4TG8ocqwCkFF9//CQY+ObRiM4NCPtvWKunhrnk5WEFAAAANUGehkURLC//AAZvRnN6i/LKR8FJ\n",
       "vXGTB+7ralIAShxj9aUCmMbl/qYLAVkeAvCU2QWG33atAAAAFgGepXRCvwABFYuqK11qbp/K+UH1\n",
       "LdsAAAAbAZ6nakK/AAESJM+eCeN1yBzh7EsTafN7f1pMAAAAlEGaqkmoQWyZTBRMO//+qZYABW8/\n",
       "DQ6jxOohHACk4qrLtBxW2d7HcvHrazgQlGvjEwVHCIsOpIB16eTkBVnYVR72iRF9/0SaGFjExPO0\n",
       "7sgMfbvsFRVUwqkADQ67FputTEG61zvMmSsgy5yHaYFR261RqHNxvneiHal23gG79TIwPVfiBQYP\n",
       "KvN2I5XmEsO/j9/4iPgAAAAfAZ7JakK/AAirnywsSmPTcPrARv5XWwzrMq/jIywGDQAAAJRBms5J\n",
       "4QpSZTAh3/6plgAFd+AcOBU+FWwBEAarRRx8COxJdPjVqAExLPhham6mWcjkUeQUezAbg3JvLQoP\n",
       "AmEqM3tEYvMf9xDyeYj7/0tRhOArZHDN5xosGGjJyZ5sOI/h9ULUBYFYDMAgQr7RgeLDOyM8xn0N\n",
       "FM+xd9yiGhBad4fqOb8WneAjTqx5VICNFh+GlbyOAAAAKkGe7EU0TC//AAM3IapZYN67t3B9dlGP\n",
       "d6ZZVUveGAjJjf2RWcwiocytggAAACEBnwt0Qr8ACK3izAqY3goThPNkEoBG2ZbTsH1bxTIUogkA\n",
       "AAApAZ8NakK/AAiskLStWm6igQL6y8K69fXph9PgAN9pbUab9/QSbRrQJfEAAAB7QZsSSahBaJlM\n",
       "CHf//qmWAAK6RzHMOgAtOr6wE4hWlwZXHJEIcAmjY6zOI13jUcnutjMjAKDibY/6W0gLLH5mGfyo\n",
       "aWJ3NY2+QDyfpAdPmjMYC+EDb1+KDqrwheTbVVUNmG1Tp2rGZfmoQXHqHVJXDZeJvvBOCUkiiQjx\n",
       "AAAAIkGfMEURLC//AAM4GOHjB1Db9Y8VMesM+5WTyP7mH9REfrAAAAAfAZ9PdEK/AAQ10KCTpKI8\n",
       "3fahJcIE784ABx1Vls30mAAAAB0Bn1FqQr8ABDdgNR5IvLapHYVh7A89EaYsq5XzFwAAAKxBm1ZJ\n",
       "qEFsmUwId//+qZYABW6LjrAgEHyiENGEnA0Eyre1IQ7sVkEfix/e9W8vrdGpRFyLmkGvCfRWmTJS\n",
       "2B/9QdUJyx/rrAIp9s7PWg0mnztzOu85+/1TI5GfTGxbh7aVGGvMrMkH+81nYgnt9lS6s2pNSJLP\n",
       "6PN7pCe5GmB+3Auq9Oft7QqQbEL+prpuk1RJlq7YlTveSPPcm5wt49mT6mydBjIDkHLHtjmAAAAA\n",
       "OkGfdEUVLC//AAMlEYhR47dd6HuMT3zJ/MBXOSxRhMUAAJeVJsgdU73gbREO76XGiNPX2yXrLV0r\n",
       "0AQAAAAlAZ+TdEK/AARXv2OVvItNo7KHO4mCkg3KXWp4TbYbe63ZyL3rmwAAACcBn5VqQr8ACKuu\n",
       "CyuDX4sXN2BWkaw/QDf5goBZw383Rh5WVhX7RIAAAACiQZuaSahBbJlMCHf//qmWAAVwXI36lvrG\n",
       "y4AQ69oB1EQU0v89ZKTm8DHfwUmTr6Ngx6Dz5zPCfncOA4vD0m28o1ciPc7maEaV/360j22B9bzl\n",
       "A0313QLYoOJMPWvLHjf0UfFTZJ7XqTBeuVn6LnwK6fxMdrqfRk049gdWwL/kgj0nEbRWXSE0Y02S\n",
       "fD37xNbkhuk06IAvaL/RrY1pQdCAmkl1AAAAMEGfuEUVLC//AAZyN2tyhJ7y2X379YCbX7RSzYDz\n",
       "0ImgRvjjfkqHm6Q3JdCtHATkCQAAAC8Bn9d0Qr8ABDXRI7dFXHA42M2rWNLUzVD9+OkAHD/FPRiJ\n",
       "gtckxgGjbCA68ft9gAAAACUBn9lqQr8ACKyPH5vKAGTSbpJMdE8tMvk3R/45vj4pMef3fXEhAAAA\n",
       "eEGb3kmoQWyZTAh3//6plgACuoiVt60ALF77tLjG62v1TrH52WuE/xJUbEgKNV2UaqMHVAy4SFNp\n",
       "0poLpV7c/wz1iq70bSeHRujultS4RWne3qbxHLRtT3+3JFDQPx8/H7DIcbAir+j8vc3YZlYrD2sJ\n",
       "DpfjRrgX+gAAACZBn/xFFSwv/wABnDRkY9lg+kFOlykKRl0AHh4cTMoQYXDkE+u4wQAAAB8Bnht0\n",
       "Qr8AAiwgtKmyJuJU/xCSS/A/R1q8WTF1q679AAAAGAGeHWpCvwAEVkdsCuB4Z5NfMMIEtJ0pgAAA\n",
       "AFlBmgFJqEFsmUwIb//+p4QABWknX9XWgAaOUFxJA8970X6ElW56c+J/hxtSJgwmRoIXckC7KFuu\n",
       "hWvacYx1ZAvLXjPK5nWPsIxWDuQkrJHpaAj+kOHwXz2SWAAAACBBnj9FFSwr/wAEN2A0x2FSQquD\n",
       "iPtSIzw4x75PnmjfMQAAACsBnkBqQr8ABFUu5DYzr3dOqY2LRPXC7B8RX97YAMk6vrrYfeDf/5Ni\n",
       "wMmAAAAAckGaRUmoQWyZTAhv//6nhAAKxtyQA2x20YGRo5LS7B8MaORuBKNYyqLixfweBRGP97GZ\n",
       "zrZBRD++YRNy5mBy3XkwYzQv/cWMf1RteiHBiaAvegOHiOBkM9+Fkf1uPoC9WKXX7ke/WVL5XKyn\n",
       "TwV7oX9uQQAAAD5BnmNFFSwv/wADLagfJVX9UCXfp/8c+YbEDOeScW/531zBdoDHqXMAAP4xGiWp\n",
       "U6VqZwzJL3/QeludtmuNYAAAAC4BnoJ0Qr8ACK+KF9DqtFZMSRJBYDrrvvAGAtRmRlQ2wQiM25oA\n",
       "N2+fgj1ZucSxAAAAJAGehGpCvwAEN2AHEQ35gIPo4oZmiGBRLyHaCq+1E5F0s3/3gQAAAKZBmolJ\n",
       "qEFsmUwIZ//+nhAAKgDzoqaPnpXizRQedqwAONj7WhoQ53jGGotlEQBATwP5abIa66v+9vu7MA5o\n",
       "n8VAHUgoSYy/VwyNzqv3IDlFNGfYTr84d4NTPiSZddm9Yi5GDWFn1E9P5fqQta6vdIWUdVJy2kpG\n",
       "wKweeYfA36/n02I2rew45Gr+YyPP8UTCM7QtTyJstct5xPJkrf671dS5o9tI9mjhAAAAU0Gep0UV\n",
       "LC//AAZxxeb5iQ5q8zkBGqvl7xqAEs7BGWyaGMXgZcz3cFwCuMBPU+HTSdGjIrlNMdFendXed3zh\n",
       "hZUFCWsyfiCXjpFKs5TPElUg6ycTAAAANAGexnRCvwAIrsVkdhXGrXKAC3HcMNjf4SKfh4lYwyJH\n",
       "q1EcVFAvTa4sz+00Gh9RYCAOD6kAAAAzAZ7IakK/AARQ/EC0QvveiXkGTw9wnQAfIqaxYOyec+0Z\n",
       "1rQDAFVRTkFcJn/IHSIXXDNgAAAANEGay0moQWyZTBRMK//+OEAAUgro8aG1+cbk4Ac0MaHE6JGS\n",
       "aikDX5WP92pNBoYioEYAfIEAAAAsAZ7qakK/AAiwZpSXQPs+EKckaDK6NLHAcXye6+hZOeLjtSAD\n",
       "+H3cOFIqO0AAAAU6bW9vdgAAAGxtdmhkAAAAAAAAAAAAAAAAAAAD6AAABuAAAQAAAQAAAAAAAAAA\n",
       "AAAAAAEAAAAAAAAAAAAAAAAAAAABAAAAAAAAAAAAAAAAAABAAAAAAAAAAAAAAAAAAAAAAAAAAAAA\n",
       "AAAAAAAAAAAAAgAABGR0cmFrAAAAXHRraGQAAAADAAAAAAAAAAAAAAABAAAAAAAABuAAAAAAAAAA\n",
       "AAAAAAAAAAAAAAEAAAAAAAAAAAAAAAAAAAABAAAAAAAAAAAAAAAAAABAAAAAAbAAAAEgAAAAAAAk\n",
       "ZWR0cwAAABxlbHN0AAAAAAAAAAEAAAbgAAAEAAABAAAAAAPcbWRpYQAAACBtZGhkAAAAAAAAAAAA\n",
       "AAAAAAAyAAAAWABVxAAAAAAALWhkbHIAAAAAAAAAAHZpZGUAAAAAAAAAAAAAAABWaWRlb0hhbmRs\n",
       "ZXIAAAADh21pbmYAAAAUdm1oZAAAAAEAAAAAAAAAAAAAACRkaW5mAAAAHGRyZWYAAAAAAAAAAQAA\n",
       "AAx1cmwgAAAAAQAAA0dzdGJsAAAAt3N0c2QAAAAAAAAAAQAAAKdhdmMxAAAAAAAAAAEAAAAAAAAA\n",
       "AAAAAAAAAAAAAbABIABIAAAASAAAAAAAAAABAAAAAAAAAAAAAAAAAAAAAAAAAAAAAAAAAAAAAAAA\n",
       "AAAAGP//AAAANWF2Y0MBZAAV/+EAGGdkABWs2UGwloQAAAMABAAAAwDIPFi2WAEABmjr48siwP34\n",
       "+AAAAAAcdXVpZGtoQPJfJE/FujmlG88DI/MAAAAAAAAAGHN0dHMAAAAAAAAAAQAAACwAAAIAAAAA\n",
       "FHN0c3MAAAAAAAAAAQAAAAEAAAFoY3R0cwAAAAAAAAArAAAAAQAABAAAAAABAAAKAAAAAAEAAAQA\n",
       "AAAAAQAAAAAAAAABAAACAAAAAAEAAAoAAAAAAQAABAAAAAABAAAAAAAAAAEAAAIAAAAAAQAABgAA\n",
       "AAABAAACAAAAAAEAAAoAAAAAAQAABAAAAAABAAAAAAAAAAEAAAIAAAAAAQAACgAAAAABAAAEAAAA\n",
       "AAEAAAAAAAAAAQAAAgAAAAABAAAKAAAAAAEAAAQAAAAAAQAAAAAAAAABAAACAAAAAAEAAAoAAAAA\n",
       "AQAABAAAAAABAAAAAAAAAAEAAAIAAAAAAQAACgAAAAABAAAEAAAAAAEAAAAAAAAAAQAAAgAAAAAB\n",
       "AAAIAAAAAAIAAAIAAAAAAQAACgAAAAABAAAEAAAAAAEAAAAAAAAAAQAAAgAAAAABAAAKAAAAAAEA\n",
       "AAQAAAAAAQAAAAAAAAABAAACAAAAAAEAAAYAAAAAAQAAAgAAAAAcc3RzYwAAAAAAAAABAAAAAQAA\n",
       "ACwAAAABAAAAxHN0c3oAAAAAAAAAAAAAACwAAAQcAAAArAAAACMAAAAsAAAAMAAAADsAAAA5AAAA\n",
       "GgAAAB8AAACYAAAAIwAAAJgAAAAuAAAAJQAAAC0AAAB/AAAAJgAAACMAAAAhAAAAsAAAAD4AAAAp\n",
       "AAAAKwAAAKYAAAA0AAAAMwAAACkAAAB8AAAAKgAAACMAAAAcAAAAXQAAACQAAAAvAAAAdgAAAEIA\n",
       "AAAyAAAAKAAAAKoAAABXAAAAOAAAADcAAAA4AAAAMAAAABRzdGNvAAAAAAAAAAEAAAAwAAAAYnVk\n",
       "dGEAAABabWV0YQAAAAAAAAAhaGRscgAAAAAAAAAAbWRpcmFwcGwAAAAAAAAAAAAAAAAtaWxzdAAA\n",
       "ACWpdG9vAAAAHWRhdGEAAAABAAAAAExhdmY1OC40NS4xMDA=\n",
       "\">\n",
       "  Your browser does not support the video tag.\n",
       "</video>"
      ],
      "text/plain": [
       "<IPython.core.display.HTML object>"
      ]
     },
     "execution_count": 24,
     "metadata": {},
     "output_type": "execute_result"
    },
    {
     "data": {
      "image/png": "[encoded data removed]",
      "text/plain": [
       "<Figure size 432x288 with 1 Axes>"
      ]
     },
     "metadata": {
      "needs_background": "light"
     },
     "output_type": "display_data"
    }
   ],
   "source": [
    "reward_episod, frames = run_one_episode(policy = simple_policy, return_frames=True)\n",
    "HTML(plot_animation(frames).to_html5_video())"
   ]
  },
  {
   "cell_type": "markdown",
   "metadata": {},
   "source": [
    "# Neural Network Policies"
   ]
  },
  {
   "cell_type": "markdown",
   "metadata": {},
   "source": [
    "Let's create a neural network to build a better policy.\n",
    "\n",
    "This network will take the observations as inputs, and output the probability of the action to take for each observation. <br>\n",
    "\n",
    "In the case of the Cart-Pole environment, there are just two possible actions (left or right), so we only need one output neuron: it will output the probability `p` of the action 1 (right), and of course the probability of action 0 (right) will be `1 - p`.\n",
    "\n",
    "Let's first see how this neural network policy work without training it and then let's try to learn the simple policy define above."
   ]
  },
  {
   "cell_type": "markdown",
   "metadata": {},
   "source": [
    "## The architecture"
   ]
  },
  {
   "cell_type": "markdown",
   "metadata": {},
   "source": [
    "Because this problem is simple, we can define a very simple architecture for our neural network.<bR> \n",
    "    \n",
    "Here it's simple MLP with 1 hidden layer and four neurons."
   ]
  },
  {
   "cell_type": "code",
   "execution_count": 28,
   "metadata": {},
   "outputs": [
    {
     "name": "stdout",
     "output_type": "stream",
     "text": [
      "Model: \"sequential\"\n",
      "_________________________________________________________________\n",
      "Layer (type)                 Output Shape              Param #   \n",
      "=================================================================\n",
      "dense (Dense)                (None, 4)                 20        \n",
      "_________________________________________________________________\n",
      "dense_1 (Dense)              (None, 1)                 5         \n",
      "=================================================================\n",
      "Total params: 25\n",
      "Trainable params: 25\n",
      "Non-trainable params: 0\n",
      "_________________________________________________________________\n"
     ]
    }
   ],
   "source": [
    "# Specify the network architecture\n",
    "n_inputs = 4  # == env.observation_space.shape[0]\n",
    "n_hidden = 4  # it's a simple task, we don't need more than this\n",
    "n_outputs = 1 # only outputs the probability of accelerating right\n",
    "\n",
    "# Build the neural network\n",
    "policy_network=km.Sequential()\n",
    "policy_network.add(kl.Dense(n_hidden, input_shape = (n_inputs,), activation = \"relu\"))\n",
    "policy_network.add(kl.Dense(n_outputs, activation = \"sigmoid\"))\n",
    "policy_network.summary()"
   ]
  },
  {
   "cell_type": "markdown",
   "metadata": {},
   "source": [
    "Note that the model is not compile so far, no loss function is defined. "
   ]
  },
  {
   "cell_type": "markdown",
   "metadata": {},
   "source": [
    "## Policy from a neural network\n",
    "We can now easily predict the probability of both actions given the observation.\n",
    "\n",
    "**Exercise** Define a function to choose the action to take from an observation and the neural network."
   ]
  },
  {
   "cell_type": "code",
   "execution_count": 31,
   "metadata": {},
   "outputs": [],
   "source": [
    "# %load solutions/pg_neural_network_policy.py\n"
   ]
  },
  {
   "cell_type": "markdown",
   "metadata": {},
   "source": [
    "***NB*** :  In this particular environment, the past actions and observations can safely be ignored, since each observation contains the environment's full state. If there were some hidden state then you may need to consider past actions and observations in order to try to infer the hidden state of the environment. \n",
    "\n",
    "For example, if the environment only revealed the position of the cart but not its velocity, you would have to consider not only the current observation but also the previous observation in order to estimate the current velocity. <br> Another example:  if the observations are noisy: you may want to use the past few observations to estimate the most likely current state. Our problem is thus as simple as can be: the current observation is noise-free and contains the environment's full state."
   ]
  },
  {
   "cell_type": "markdown",
   "metadata": {},
   "source": [
    "## Random neural network policy.\n",
    "Let's see how this neural network policy perform.\n",
    "\n"
   ]
  },
  {
   "cell_type": "code",
   "execution_count": 30,
   "metadata": {},
   "outputs": [
    {
     "name": "stderr",
     "output_type": "stream",
     "text": [
      "/Users/brendanguillouet/anaconda3/envs/AIF/lib/python3.8/site-packages/numpy/core/fromnumeric.py:3334: RuntimeWarning: Mean of empty slice.\n",
      "  return _methods._mean(a, axis=axis, dtype=dtype,\n",
      "/Users/brendanguillouet/anaconda3/envs/AIF/lib/python3.8/site-packages/numpy/core/_methods.py:161: RuntimeWarning: invalid value encountered in double_scalars\n",
      "  ret = ret.dtype.type(ret / rcount)\n",
      "/Users/brendanguillouet/anaconda3/envs/AIF/lib/python3.8/site-packages/numpy/core/_methods.py:216: RuntimeWarning: Degrees of freedom <= 0 for slice\n",
      "  ret = _var(a, axis=axis, dtype=dtype, out=out, ddof=ddof,\n",
      "/Users/brendanguillouet/anaconda3/envs/AIF/lib/python3.8/site-packages/numpy/core/_methods.py:185: RuntimeWarning: invalid value encountered in true_divide\n",
      "  arrmean = um.true_divide(\n",
      "/Users/brendanguillouet/anaconda3/envs/AIF/lib/python3.8/site-packages/numpy/core/_methods.py:209: RuntimeWarning: invalid value encountered in double_scalars\n",
      "  ret = ret.dtype.type(ret / rcount)\n"
     ]
    },
    {
     "name": "stdout",
     "output_type": "stream",
     "text": [
      "Game played : 0. Mean and Standart deviation's reward for the last 10 episode: nan - nan\n",
      "Game played : 10. Mean and Standart deviation's reward for the last 10 episode: 9.2 - 0.9\n",
      "Game played : 20. Mean and Standart deviation's reward for the last 10 episode: 9.5 - 0.8\n",
      "Game played : 30. Mean and Standart deviation's reward for the last 10 episode: 9.1 - 0.5\n",
      "Game played : 40. Mean and Standart deviation's reward for the last 10 episode: 9.4 - 0.7\n",
      "Game played : 50. Mean and Standart deviation's reward for the last 10 episode: 9.4 - 0.5\n",
      "Game played : 60. Mean and Standart deviation's reward for the last 10 episode: 9.4 - 0.5\n",
      "Game played : 70. Mean and Standart deviation's reward for the last 10 episode: 9.1 - 0.7\n",
      "Game played : 80. Mean and Standart deviation's reward for the last 10 episode: 9.2 - 0.7\n",
      "Game played : 90. Mean and Standart deviation's reward for the last 10 episode: 8.7 - 0.6\n",
      "Over 100 episodes, mean reward: 9.2, std : 0.7\n"
     ]
    }
   ],
   "source": [
    "play_games(policy = lambda obs : neural_network_policy(obs, model=policy_network))"
   ]
  },
  {
   "cell_type": "markdown",
   "metadata": {},
   "source": [
    "Let's randomly initialize this policy neural network and use it to play one game:"
   ]
  },
  {
   "cell_type": "code",
   "execution_count": 34,
   "metadata": {},
   "outputs": [
    {
     "data": {
      "text/html": [
       "<video width=\"432\" height=\"288\" controls autoplay>\n",
       "  <source type=\"video/mp4\" src=\"data:video/mp4;base64,AAAAIGZ0eXBNNFYgAAACAE00ViBpc29taXNvMmF2YzEAAAAIZnJlZQAABlNtZGF0AAACrgYF//+q\n",
       "3EXpvebZSLeWLNgg2SPu73gyNjQgLSBjb3JlIDE2MCByMzAxMSBjZGU5YTkzIC0gSC4yNjQvTVBF\n",
       "Ry00IEFWQyBjb2RlYyAtIENvcHlsZWZ0IDIwMDMtMjAyMCAtIGh0dHA6Ly93d3cudmlkZW9sYW4u\n",
       "b3JnL3gyNjQuaHRtbCAtIG9wdGlvbnM6IGNhYmFjPTEgcmVmPTMgZGVibG9jaz0xOjA6MCBhbmFs\n",
       "eXNlPTB4MzoweDExMyBtZT1oZXggc3VibWU9NyBwc3k9MSBwc3lfcmQ9MS4wMDowLjAwIG1peGVk\n",
       "X3JlZj0xIG1lX3JhbmdlPTE2IGNocm9tYV9tZT0xIHRyZWxsaXM9MSA4eDhkY3Q9MSBjcW09MCBk\n",
       "ZWFkem9uZT0yMSwxMSBmYXN0X3Bza2lwPTEgY2hyb21hX3FwX29mZnNldD0tMiB0aHJlYWRzPTkg\n",
       "bG9va2FoZWFkX3RocmVhZHM9MSBzbGljZWRfdGhyZWFkcz0wIG5yPTAgZGVjaW1hdGU9MSBpbnRl\n",
       "cmxhY2VkPTAgYmx1cmF5X2NvbXBhdD0wIGNvbnN0cmFpbmVkX2ludHJhPTAgYmZyYW1lcz0zIGJf\n",
       "cHlyYW1pZD0yIGJfYWRhcHQ9MSBiX2JpYXM9MCBkaXJlY3Q9MSB3ZWlnaHRiPTEgb3Blbl9nb3A9\n",
       "MCB3ZWlnaHRwPTIga2V5aW50PTI1MCBrZXlpbnRfbWluPTI1IHNjZW5lY3V0PTQwIGludHJhX3Jl\n",
       "ZnJlc2g9MCByY19sb29rYWhlYWQ9NDAgcmM9Y3JmIG1idHJlZT0xIGNyZj0yMy4wIHFjb21wPTAu\n",
       "NjAgcXBtaW49MCBxcG1heD02OSBxcHN0ZXA9NCBpcF9yYXRpbz0xLjQwIGFxPTE6MS4wMACAAAAB\n",
       "ZWWIhAA3//728P4FNjuY0JcRzeidMx+/Fbi6NDe9zgAAAwAAN9zmRP7KkwbmwAAC4AAJ4RFNXc3M\n",
       "TMCc37201HMTM0Ueo84YpJjcCNZNnCe5chXdzfJlugzbYL+TRvBNEizUyt9IhyRntkiRcPo0wYED\n",
       "IB7DtvurvMazHTnCIBWuO2+cYagZHr9KI1h/SM1yee3daulFuCYN/GLY80mRih6+jRvW3GcBLQIP\n",
       "3JFMHW5kqB3S+JgtoTH5udgn4zA73sUl0iBeMt7Dd5KHD0pWJ49xFpYFjhMa3zXOGfOpU2fgMZPC\n",
       "G0F6NcS6xCN27U77nbunEUV2hJyW2ti6dNow84Yxx2F4YLwfdrHfb+Ny6JbnHis35v+wLNpQfhsF\n",
       "uNa1xd5iInGAdaW4h67NwrtdcJsnHyD6GL0azRmQULrqDq8X8vqLtrYo7njUDuc3Am4mMeGYgUvd\n",
       "P92W7mGAmakAAAMAAAMB4QAAAHlBmiRsQz/+nhAAKR7v4P81x/+wA4z/xAFQTpRHEMVDi6/T2kIo\n",
       "gWbkAWd7XOiFI4LukqQJ5LC0M+N6erh07cYkGM+sh3shd7B1BCXShGvO362EjhWK0A8UCGUd+A6a\n",
       "Rq8ARCcdf/2cJEQZVBev5lnIqAUL6Y+9ogmAAAAASEGeQniF/wAGSNQo4UDNpgAtvNB8E8I4zrsm\n",
       "upldLFq7bfJM7ImLSiZrV+j3r/jm8l4ACpFMwXmxJ5W+XX5jfZ/U3bDelMFEsQAAABsBnmF0Qr8A\n",
       "BFOeohWcKYVg8H3NOYpzgPr7TUEAAAAfAZ5jakK/AARTy2/ldeDKB915ESNZnfdQzCkRUA0eWQAA\n",
       "AG5BmmhJqEFomUwIV//+OEAAUZIcYLARpsQgAuKuOgF7ElnULvAko+PsTEw6zYAkF53SlCXibv6J\n",
       "rugFdUCPTOAsyK9B5F319aokNqXaR8NptrF6GMgU3/Rd8l2qXz5GdkP0NNMuOAPwZQr8SIwvMQAA\n",
       "AE5BnoZFESwv/wADNqQRqUaoAWyMKF6FUSJnECd+2gv3jhqJu7hgcZqW68rzIlYlEpqkJEsluuQx\n",
       "N2o+rPDhF5CiLaoBJ1dEEPQaiz2jPX8AAAAqAZ6ldEK/AARU7JFMRyDOk4iuE1KhBkPVYXtIDhlD\n",
       "shRN1Y0OBhinP4uRAAAALwGep2pCvwAEVR6MiG41HqV0wJbh+iUb1Nb0AH9n3nxojIhMPKgTcSS9\n",
       "gA8viaMwAAADnm1vb3YAAABsbXZoZAAAAAAAAAAAAAAAAAAAA+gAAAFoAAEAAAEAAAAAAAAAAAAA\n",
       "AAABAAAAAAAAAAAAAAAAAAAAAQAAAAAAAAAAAAAAAAAAQAAAAAAAAAAAAAAAAAAAAAAAAAAAAAAA\n",
       "AAAAAAAAAAIAAALIdHJhawAAAFx0a2hkAAAAAwAAAAAAAAAAAAAAAQAAAAAAAAFoAAAAAAAAAAAA\n",
       "AAAAAAAAAAABAAAAAAAAAAAAAAAAAAAAAQAAAAAAAAAAAAAAAAAAQAAAAAGwAAABIAAAAAAAJGVk\n",
       "dHMAAAAcZWxzdAAAAAAAAAABAAABaAAABAAAAQAAAAACQG1kaWEAAAAgbWRoZAAAAAAAAAAAAAAA\n",
       "AAAAMgAAABIAVcQAAAAAAC1oZGxyAAAAAAAAAAB2aWRlAAAAAAAAAAAAAAAAVmlkZW9IYW5kbGVy\n",
       "AAAAAettaW5mAAAAFHZtaGQAAAABAAAAAAAAAAAAAAAkZGluZgAAABxkcmVmAAAAAAAAAAEAAAAM\n",
       "dXJsIAAAAAEAAAGrc3RibAAAALdzdHNkAAAAAAAAAAEAAACnYXZjMQAAAAAAAAABAAAAAAAAAAAA\n",
       "AAAAAAAAAAGwASAASAAAAEgAAAAAAAAAAQAAAAAAAAAAAAAAAAAAAAAAAAAAAAAAAAAAAAAAAAAA\n",
       "ABj//wAAADVhdmNDAWQAFf/hABhnZAAVrNlBsJaEAAADAAQAAAMAyDxYtlgBAAZo6+PLIsD9+PgA\n",
       "AAAAHHV1aWRraEDyXyRPxbo5pRvPAyPzAAAAAAAAABhzdHRzAAAAAAAAAAEAAAAJAAACAAAAABRz\n",
       "dHNzAAAAAAAAAAEAAAABAAAAWGN0dHMAAAAAAAAACQAAAAEAAAQAAAAAAQAACgAAAAABAAAEAAAA\n",
       "AAEAAAAAAAAAAQAAAgAAAAABAAAKAAAAAAEAAAQAAAAAAQAAAAAAAAABAAACAAAAABxzdHNjAAAA\n",
       "AAAAAAEAAAABAAAACQAAAAEAAAA4c3RzegAAAAAAAAAAAAAACQAABBsAAAB9AAAATAAAAB8AAAAj\n",
       "AAAAcgAAAFIAAAAuAAAAMwAAABRzdGNvAAAAAAAAAAEAAAAwAAAAYnVkdGEAAABabWV0YQAAAAAA\n",
       "AAAhaGRscgAAAAAAAAAAbWRpcmFwcGwAAAAAAAAAAAAAAAAtaWxzdAAAACWpdG9vAAAAHWRhdGEA\n",
       "AAABAAAAAExhdmY1OC40NS4xMDA=\n",
       "\">\n",
       "  Your browser does not support the video tag.\n",
       "</video>"
      ],
      "text/plain": [
       "<IPython.core.display.HTML object>"
      ]
     },
     "execution_count": 34,
     "metadata": {},
     "output_type": "execute_result"
    },
    {
     "data": {
      "image/png": "[encoded data removed]",
      "text/plain": [
       "<Figure size 432x288 with 1 Axes>"
      ]
     },
     "metadata": {
      "needs_background": "light"
     },
     "output_type": "display_data"
    }
   ],
   "source": [
    "reward_episod, frames = run_one_episode(policy = lambda obs : neural_network_policy(obs, model=policy_network), return_frames=True)\n",
    "HTML(plot_animation(frames).to_html5_video())"
   ]
  },
  {
   "cell_type": "markdown",
   "metadata": {},
   "source": [
    "The neural network is working. But it's still acting randomly because we do not train the neural network. Let's try to make it learn better policy."
   ]
  },
  {
   "cell_type": "markdown",
   "metadata": {},
   "source": [
    "## Learn a given policy\n",
    "\n",
    "In this part we will train the neural network in order that it learns the simple strategy we hard coded before : if the pole is tilting to the left, then push the cart to the left, and _vice versa_.\n",
    "\n",
    "We start by defining the neural network policy with the same architecture than before. <br>\n",
    "This time we compile this network in order to learn the wanted behaviour<br>\n",
    "\n",
    "**Exercicse** Compile the model with the good loss for the given problem."
   ]
  },
  {
   "cell_type": "code",
   "execution_count": null,
   "metadata": {},
   "outputs": [],
   "source": [
    "policy_network=km.Sequential()\n",
    "policy_network.add(kl.Dense(n_hidden, input_shape = (n_inputs,), activation = \"relu\"))\n",
    "policy_network.add(kl.Dense(n_outputs, activation = \"sigmoid\"))\n",
    "\n",
    "# apprentissage\n",
    "policy_network.compile(loss='binary_crossentropy',optimizer=ko.Adam(),metrics=['accuracy'])\n"
   ]
  },
  {
   "cell_type": "markdown",
   "metadata": {},
   "source": [
    "In order to learn this policy we will first define 10 environment that we will play in parallel at each iterations"
   ]
  },
  {
   "cell_type": "code",
   "execution_count": null,
   "metadata": {},
   "outputs": [],
   "source": [
    "n_environments = 10\n",
    "\n",
    "envs = [gym.make(\"CartPole-v0\") for _ in range(n_environments)]\n",
    "observations = np.array([env.reset() for env in envs])"
   ]
  },
  {
   "cell_type": "markdown",
   "metadata": {},
   "source": [
    "At each iteration we will :\n",
    "\n",
    "* Train the network over observations we have.\n",
    "    *  These observation will be the inputs, and the target will be the expected behavior.\n",
    "* Predict the action according to the neural network policy.\n",
    "\n",
    "**Question** : On the code below, looks how the actions is chosen. Why do we follow this method?"
   ]
  },
  {
   "cell_type": "code",
   "execution_count": null,
   "metadata": {},
   "outputs": [],
   "source": [
    "n_iterations = 2000\n",
    "for iteration in range(n_iterations):\n",
    "    target_probas = np.array([(0 if obs[2] < 0 else 1) for obs in observations]) # if angle>0 we want proba(right)=1., or else proba(right)=0.\n",
    "    policy_network.train_on_batch(observations, target_probas)  # one batch iteration\n",
    "    \n",
    "    # Generate probablity and observation on ntext step\n",
    "    p_rights = policy_network.predict(observations)\n",
    "    actions = [1 if random.uniform(0,1)< p_right else 0 for p_right in p_rights]\n",
    "    \n",
    "    # Compute next state\n",
    "    for env_index, env in enumerate(envs):\n",
    "        obs, reward, done, info = env.step(actions[env_index])\n",
    "        observations[env_index] = obs if not done else env.reset()\n",
    "\n",
    "for env in envs:\n",
    "    env.close()"
   ]
  },
  {
   "cell_type": "code",
   "execution_count": null,
   "metadata": {},
   "outputs": [],
   "source": [
    "reward_sum = 0\n",
    "num_games = 100       \n",
    "num_game = 0\n",
    "all_reward_sum = []\n",
    "obs = env.reset()\n",
    "reward\n",
    "while num_game < num_games:\n",
    "    # hard-coded policy\n",
    "    p_right = policy_network.predict(np.expand_dims(obs,axis=0))\n",
    "    action = 1 if p_right>0.5 else 0\n",
    "    obs, reward, done, info = env.step(action)\n",
    "    reward_sum += reward\n",
    "    if done:\n",
    "        if num_game %10 == 0:\n",
    "            print(\"Game played : %d. Reward for the last 10 episode: %s\" %(num_game,all_reward_sum[-10:]) )\n",
    "        all_reward_sum.append(reward_sum)\n",
    "        reward_sum = 0\n",
    "        num_game += 1\n",
    "        env.reset()\n",
    "print(\"Over %d episodes, mean reward: %d, std : %d\" %(num_games, np.mean(all_reward_sum), np.std(all_reward_sum)))"
   ]
  },
  {
   "cell_type": "code",
   "execution_count": null,
   "metadata": {},
   "outputs": [],
   "source": [
    "frames = []\n",
    "\n",
    "env.reset()    \n",
    "observation, reward, done, _ = env.step(env.action_space.sample())\n",
    "reward_sum = 0        \n",
    "while not(done):\n",
    "    img = env.render(mode = \"rgb_array\")\n",
    "    env.close()\n",
    "    frames.append(img)\n",
    "    reward_sum += reward\n",
    "    p_left = policy_network.predict(np.expand_dims(observation,axis=0))\n",
    "    action = 0 if random.uniform(0,1)< p_left else 1 \n",
    "    observation, reward, done, _ = env.step(action)\n",
    "plt.close()\n",
    "HTML(plot_animation(frames).to_html5_video())"
   ]
  },
  {
   "cell_type": "markdown",
   "metadata": {},
   "source": [
    "Looks like it learned the policy correctly! <br>\n",
    "\n",
    "Let's now reach our final target : The neural network has to find a better policy by its own."
   ]
  },
  {
   "cell_type": "markdown",
   "metadata": {},
   "source": [
    "# Policy Gradients"
   ]
  },
  {
   "cell_type": "markdown",
   "metadata": {},
   "source": [
    "The idea behind *Policy Gradients* its quite simple : The _Policy Gradients_ algorithm tackles this problem by first playing multiple games, then making the actions in good games slightly more likely, while actions in bad games are made slightly less likely. First we play, then we go back and think about what we did.\n",
    "\n",
    "### Algorithm\n",
    "\n",
    "* Run an episode untill it's done and save at each iteration the observation, action and reward.\n",
    "* When an episode it's done. Compute the discounted rewards for all the episode, and save it.\n",
    "* If you have done *batch_size=50* episodes train your model on this batch.\n",
    "* Stop if you have reach *num episodes* or *goal* target."
   ]
  },
  {
   "cell_type": "markdown",
   "metadata": {},
   "source": [
    "\n",
    "### Parameters\n",
    "\n",
    "| Variable  | Value  | Description  | \n",
    "|---|---|---|\n",
    "|Gamma   | 0.99  | The discounted rate apply for the discounted reward  |\n",
    "|batch_size  | 50   | Number of episode to run before training model on a batch of episode  |\n",
    "| Num episodes | 10.000   | Maximum number of episode to run before stopping the training  | \n",
    "| goal | 190  | Number of step to achieve on one episode to stop the training.  |\n",
    "\n",
    "Those parameters are fixed for this TP, they are common value for this kind of problem based on experiences. They are not definitive nor results or any research."
   ]
  },
  {
   "cell_type": "markdown",
   "metadata": {},
   "source": [
    "### Discounted rewards\n"
   ]
  },
  {
   "cell_type": "markdown",
   "metadata": {},
   "source": [
    "To train this neural network we will then used the observation of the experiences as an inputs and the actions taken as an output.\n",
    "\n",
    "But how do we provide to the neural network the information the choosen actions  was good or bad?\n",
    "The problem is that most actions have delayed effects, so when you win or lose points in a game, it is not clear which actions contributed to this result: was it just the last action? Or the last 10? Or just one action 50 steps earlier? <br>\n",
    "This is called the _credit assignment problem_.\n",
    "\n",
    "\n",
    "To tackle this problem, a common strategy is to evaluate an action based on the sum of all the rewards that come after it, usually applying a discount rate r at each step. It's call the **discounted rewards**\n",
    "\n",
    "$$ R_t = \\sum_{i=0}^{\\infty}\\gamma^i r_{t+i}$$\n",
    "\n",
    "\n",
    "\n",
    "This rate will the be applied to the loss function of the neural network :\n",
    "* A high discounted reward will lead to higher gradient which will increase the importance of this action\n",
    "* A low  discounted reward will lead to lower gradient which will decrease the importance of this action\n",
    " \n",
    "\n",
    "**Exercise** : Implement the discount_rewards function."
   ]
  },
  {
   "cell_type": "code",
   "execution_count": null,
   "metadata": {},
   "outputs": [],
   "source": [
    "def discount_rewards(r, gamma=0.99):\n",
    "    \"\"\"Takes 1d float array of rewards and computes discounted reward\n",
    "    e.g. f([1, 1, 1], 0.99) -> [2.9701, 1.99, 1]\n",
    "    \"\"\"\n",
    "    TODO\n",
    "    return discounted_rewards"
   ]
  },
  {
   "cell_type": "code",
   "execution_count": null,
   "metadata": {},
   "outputs": [],
   "source": []
  },
  {
   "cell_type": "code",
   "execution_count": null,
   "metadata": {},
   "outputs": [],
   "source": [
    "# %load solutions/discount_rewards.py\n",
    "def discount_rewards(rewards, gamma=0.99):\n",
    "    \"\"\"Takes 1d float array of rewards and computes discounted reward\n",
    "    e.g. f([1, 1, 1], 0.99) -> [2.9701, 1.99, 1]\n",
    "    \"\"\"\n",
    "    n_rewards = len(rewards)\n",
    "    discounted_rewards = [0 for _ in range(n_rewards)]\n",
    "    for i in range(n_rewards):\n",
    "        for j,r in enumerate(rewards[i:]):\n",
    "            discounted_rewards[i]+= math.pow(gamma,j)*r\n",
    "    return discounted_rewards"
   ]
  },
  {
   "cell_type": "code",
   "execution_count": null,
   "metadata": {},
   "outputs": [],
   "source": [
    "assert np.all(discount_rewards([1,1,1], gamma=0.99) == [2.9701, 1.99, 1])\n",
    "assert np.all(discount_rewards([3,2,1],gamma=0.99) == [5.960100000000001, 2.99, 1.0])"
   ]
  },
  {
   "cell_type": "markdown",
   "metadata": {},
   "source": [
    "## Architecture & Loss Function\n",
    "\n",
    "As before we will define a very simple architecture to our neural network : A MLP with only one hidden layer and 8 neurons.\n",
    "\n",
    "We have to be aware here that the neural network will have two different behaviour :\n",
    "\n",
    "* For training: the model will take two information as an input : The observations (to predict the action), and the discounted rate (also call advantages) that will be applied on the loss function.\n",
    "* For prediction : the model will take only the observations as an input to predict the action.\n",
    "\n",
    "So we have to define a neural network that can either handle one or two inputs! \n",
    "\n",
    "In keras we define it that way : we define the layers, and we create two models (for training and prediction) that will share the same layers and weight.\n",
    "\n",
    "We will also implement the loss function, which is weighted binary cross entropy, where the weight are the discounted rated computed from the rewards\n",
    "\n",
    "Here is how we implement it : (Make sure you understand it!) "
   ]
  },
  {
   "cell_type": "code",
   "execution_count": null,
   "metadata": {},
   "outputs": [],
   "source": [
    "def generate_train_predict_network(hidden_layer_neurons, dimen, lr = 1e-2, initializer = ki.VarianceScaling()):\n",
    "    num_actions = 1\n",
    "    inp = kl.Input(shape=dimen,name=\"input_x\")\n",
    "    adv = kl.Input(shape=[1], name=\"advantages\")\n",
    "    x = kl.Dense(hidden_layer_neurons,  activation=\"relu\",\n",
    "                     use_bias=False,\n",
    "                     kernel_initializer=initializer,\n",
    "                     name=\"dense_1\")(inp)\n",
    "    out = kl.Dense(num_actions,\n",
    "                       activation=\"sigmoid\",\n",
    "                       kernel_initializer=initializer,\n",
    "                       use_bias=False,\n",
    "                       name=\"out\")(x)\n",
    "\n",
    "    model_train = km.Model(inputs=[inp, adv], outputs=out)\n",
    "    model_predict = km.Model(inputs=[inp], outputs=out)\n",
    "\n",
    "    def my_custom_loss(y_true, y_pred):\n",
    "        log_lik = - (y_true * K.log(y_pred) + (1 - y_true) * K.log(1 - y_pred))\n",
    "        return K.mean(log_lik * adv, keepdims=True)\n",
    "\n",
    "    model_train.compile(loss=my_custom_loss, optimizer=ko.Adam(lr))\n",
    "    return model_train, model_predict\n"
   ]
  },
  {
   "cell_type": "markdown",
   "metadata": {},
   "source": [
    "This function is very similar than the code use before to compute how our model perform."
   ]
  },
  {
   "cell_type": "code",
   "execution_count": null,
   "metadata": {},
   "outputs": [],
   "source": [
    "# See our trained bot in action\n",
    "def score_model(model, num_tests, dimen, render=False):\n",
    "    scores = []\n",
    "    for num_test in range(num_tests):\n",
    "        observation = env.reset()\n",
    "        reward_sum = 0\n",
    "        while True:\n",
    "            if render:\n",
    "                env.render()\n",
    "\n",
    "            state = np.reshape(observation, [1, dimen])\n",
    "            predict = model.predict([state])[0]\n",
    "            action = 0 if predict>0.5 else 1\n",
    "            observation, reward, done, _ = env.step(action)\n",
    "            reward_sum += reward\n",
    "            if done:\n",
    "                break\n",
    "        scores.append(reward_sum)\n",
    "    env.close()\n",
    "    return np.mean(scores)"
   ]
  },
  {
   "cell_type": "markdown",
   "metadata": {},
   "source": [
    "### PG class\n",
    "\n",
    "Let's know write our algorithm without a `PG` class.\n",
    "\n",
    "Firs let's have a look at the `train` function which can be described with the following psuedo-code:\n",
    "\n",
    "* Initialize all variables and envrionment\n",
    "* While number of episode max is not reached or if our ***goal*** is not achieve:\n",
    "    * Run one step within the environment\n",
    "    * If we ended an episode:\n",
    "        * If we have reached ***batch_size*** episode generated: \n",
    "            * Train the episode\n",
    "        * If we have reached the ***print_every*** number of episode generated: \n",
    "            * print score and see if we have achieves our ***goal*** on the last ***n_test*** episode\n",
    "        * Increase number of episodes\n",
    "        \n",
    "**Exercise**  Complete the class below to in order to train the neural network with PG policy.\n",
    "\n",
    "1. Pay attention to all the parameters define in the init and make sure you understand it.\n",
    "2. Look at the train function to understand how the \"pseudo-code\" should workK\n",
    "3. Go inside *run_one_step_epsiode* and the *run_one_batch_train* functions and complete the code where you'll find a TODO mark in order to make the function train work!"
   ]
  },
  {
   "cell_type": "code",
   "execution_count": null,
   "metadata": {},
   "outputs": [],
   "source": [
    "class PG:\n",
    "\n",
    "    def __init__(self, gamma = .99, batch_size = 50, num_episodes = 10000, goal = 190, n_test = 10, print_every = 100):\n",
    "\n",
    "        self.gamma = gamma      # -> Discounted reward\n",
    "        self.batch_size = batch_size  # -> Size of episode before training on a batch\n",
    "\n",
    "        # Stop factor\n",
    "        self.num_episodes = num_episodes # Max number of iterations\n",
    "        self.goal = goal                 # Stop if our network achieve this goal over *n_test*\n",
    "        self.n_test = n_test             # Number of test to run to evaluate if our goal si achieve.\n",
    "\n",
    "        self.print_every = print_every  #Number of episode before trying if our model perform well.\n",
    "\n",
    "    def run_one_step_episode(self, observation):\n",
    "        # Generate state and action for the current iteration\n",
    "        TODO\n",
    "        \n",
    "        # Append the observations and outputs for learning to the states and actions placeholder\n",
    "        TODO\n",
    "        \n",
    "        # Determine the new outcome of the action generated\n",
    "        TODO\n",
    "        \n",
    "        # Append the rewards for learning to the rewards place older\n",
    "        TODO\n",
    "\n",
    "        # If the episode if Over\n",
    "        if done:\n",
    "            # Computed the discounted rewards for this episode\n",
    "            TODO\n",
    "\n",
    "            # Append the discounted rewards for learning and reset the rewards placeholder for the ne episode\n",
    "            TODO\n",
    "        return observation, reward, done\n",
    "    \n",
    "\n",
    "    def run_one_batch_train(self):\n",
    "        # Normalize the discounted rewards\n",
    "        self.discounted_rewards -= self.discounted_rewards.mean()\n",
    "        self.discounted_rewards /= self.discounted_rewards.std()\n",
    "        self.discounted_rewards = self.discounted_rewards.squeeze()\n",
    "        \n",
    "        # Train the \"model_train\" models on the batch of episodes generated and save loss to the losses placehoder\n",
    "        # Use the \"train_on_batch\" method from keros to train the model on a single batch\n",
    "        TODO\n",
    "        \n",
    "        # Do not forget to clear place holder variable for next batch train\n",
    "        TODO\n",
    "\n",
    "    def print_status(self, num_episode, reward_sum, score):\n",
    "        # Print status\n",
    "        print(\n",
    "            \"Average reward for training episode {}: {:0.2f} Test Score of {:d} episode: {:0.2f} Loss: {:0.6f} \".format(\n",
    "                (num_episode + 1), reward_sum / self.print_every, self.n_test,\n",
    "                score,\n",
    "                self.losses[-1]))\n",
    "        return score\n",
    "\n",
    "    def train(self):\n",
    "\n",
    "        # Setting up our environment\n",
    "        observation = env.reset()\n",
    "        self.dimen = env.reset().shape[0]\n",
    "\n",
    "\n",
    "        # Placeholders for our observations, outputs and rewards\n",
    "        self.states = np.empty(0).reshape(0, self.dimen)\n",
    "        self.actions = np.empty(0).reshape(0, 1)\n",
    "        self.rewards = np.empty(0).reshape(0, 1)\n",
    "        self.discounted_rewards = np.empty(0).reshape(0, 1)\n",
    "        self.losses = []\n",
    "\n",
    "\n",
    "        num_episode = 0\n",
    "        reward_sum = 0 # # For display info\n",
    "\n",
    "        self.model_train, self.model_predict = generate_train_predict_network(hidden_layer_neurons=9, dimen=(self.dimen,))\n",
    "\n",
    "        while num_episode < self.num_episodes:\n",
    "            observation, reward, done = self.run_one_step_episode(observation)\n",
    "            reward_sum += reward\n",
    "\n",
    "            # If the episode if Over and ifwe have reach 50=batch_size episodes run training for the build batch\n",
    "            if done:\n",
    "                if (num_episode + 1) % self.batch_size == 0:\n",
    "                    self.run_one_batch_train()\n",
    "\n",
    "                # Print results periodically\n",
    "                if (num_episode + 1) % self.print_every == 0:\n",
    "                    score = score_model(self.model_predict, self.n_test, self.dimen)\n",
    "                    self.print_status(num_episode, reward_sum, score)\n",
    "                    reward_sum = 0\n",
    "                    if score >= self.goal:\n",
    "                        print(\"Solved in {} episodes!\".format(num_episode))\n",
    "                        break\n",
    "\n",
    "                num_episode += 1\n",
    "                observation = env.reset()"
   ]
  },
  {
   "cell_type": "code",
   "execution_count": null,
   "metadata": {},
   "outputs": [],
   "source": [
    "# %load solutions/exercise_1_5.py\n",
    "class PG:\n",
    "\n",
    "    def __init__(self, gamma = .99, batch_size = 50, num_episodes = 10000, goal = 190, n_test = 10, print_every = 100):\n",
    "\n",
    "        self.gamma = gamma      # -> Discounted reward\n",
    "        self.batch_size = batch_size  # -> Size of episode before training on a batch\n",
    "\n",
    "        # Stop factor\n",
    "        self.num_episodes = num_episodes # Max number of iterations\n",
    "        self.goal = goal           # Stop if our network achieve this goal over *n_test*\n",
    "        self.n_test = n_test\n",
    "\n",
    "        self.print_every = print_every #?Numbe rof episode before trying if our model perform well.\n",
    "\n",
    "    def run_one_step_episode(self, observation):\n",
    "        # Generate state and action for the current iteration\n",
    "        state = np.reshape(observation, [1, self.dimen])\n",
    "        predict = self.model_predict.predict([state])[0]\n",
    "        action = 0 if random.uniform(0, 1) < predict else 1\n",
    "\n",
    "        # Append the observations and outputs for learning\n",
    "        self.states = np.vstack([self.states, state])\n",
    "        self.actions = np.vstack([self.actions, action])\n",
    "\n",
    "        # Determine the outcome of the action generated\n",
    "        observation, reward, done, _ = env.step(action)\n",
    "\n",
    "\n",
    "        ##Append the rewards for learning\n",
    "        self.rewards = np.vstack([self.rewards, reward])\n",
    "\n",
    "        # If the episode if Over\n",
    "        if done:\n",
    "            # Computed the discounted rewards for this episode\n",
    "            discounted_rewards_episode = discount_rewards(self.rewards, self.gamma)\n",
    "\n",
    "            # Append the discounted rewards for learning\n",
    "            self.discounted_rewards = np.vstack([self.discounted_rewards, discounted_rewards_episode])\n",
    "            self.rewards = np.empty(0).reshape(0, 1)\n",
    "\n",
    "        return observation, reward, done\n",
    "\n",
    "    def run_one_batch_train(self):\n",
    "        # Normalize the discounted rewards\n",
    "        self.discounted_rewards -= self.discounted_rewards.mean()\n",
    "        self.discounted_rewards /= self.discounted_rewards.std()\n",
    "        self.discounted_rewards = self.discounted_rewards.squeeze()\n",
    "\n",
    "        actions_train = 1 - self.actions\n",
    "        loss = self.model_train.train_on_batch([self.states, self.discounted_rewards], actions_train)\n",
    "        self.losses.append(loss)\n",
    "\n",
    "        # Clear out game variables\n",
    "        self.states = np.empty(0).reshape(0, self.dimen)\n",
    "        self.actions = np.empty(0).reshape(0, 1)\n",
    "        self.discounted_rewards = np.empty(0).reshape(0, 1)\n",
    "\n",
    "    def print_status(self, num_episode, reward_sum, score):\n",
    "        # Print status\n",
    "        print(\n",
    "            \"Average reward for training episode {}: {:0.2f} Test Score of {:d} episode: {:0.2f} Loss: {:0.6f} \".format(\n",
    "                (num_episode + 1), reward_sum / self.print_every, self.n_test,\n",
    "                score,\n",
    "                self.losses[-1]))\n",
    "        return score\n",
    "\n",
    "    def train(self):\n",
    "\n",
    "        # Setting up our environment\n",
    "        observation = env.reset()\n",
    "        self.dimen = env.reset().shape[0]\n",
    "\n",
    "\n",
    "        # Placeholders for our observations, outputs and rewards\n",
    "        self.states = np.empty(0).reshape(0, self.dimen)\n",
    "        self.actions = np.empty(0).reshape(0, 1)\n",
    "        self.rewards = np.empty(0).reshape(0, 1)\n",
    "        self.discounted_rewards = np.empty(0).reshape(0, 1)\n",
    "        self.losses = []\n",
    "\n",
    "\n",
    "        num_episode = 0\n",
    "        reward_sum = 0 # # For display info\n",
    "\n",
    "        self.model_train, self.model_predict = generate_train_predict_network(hidden_layer_neurons=9, dimen=(self.dimen,))\n",
    "\n",
    "        while num_episode < self.num_episodes:\n",
    "            observation, reward, done = self.run_one_step_episode(observation)\n",
    "            reward_sum += reward\n",
    "\n",
    "            # If the episode if Over and ifwe have reach 50=batch_size episodes run training for the build batch\n",
    "            if done:\n",
    "                if (num_episode + 1) % self.batch_size == 0:\n",
    "                    self.run_one_batch_train()\n",
    "\n",
    "                # Print results periodically\n",
    "                if (num_episode + 1) % self.print_every == 0:\n",
    "                    score = score_model(self.model_predict, self.n_test, self.dimen)\n",
    "                    self.print_status(num_episode, reward_sum, score)\n",
    "                    reward_sum = 0\n",
    "                    if score >= self.goal:\n",
    "                        print(\"Solved in {} episodes!\".format(num_episode))\n",
    "                        break\n",
    "\n",
    "                num_episode += 1\n",
    "                observation = env.reset()"
   ]
  },
  {
   "cell_type": "markdown",
   "metadata": {},
   "source": [
    "### Training"
   ]
  },
  {
   "cell_type": "markdown",
   "metadata": {},
   "source": [
    "Let's train the model !"
   ]
  },
  {
   "cell_type": "code",
   "execution_count": null,
   "metadata": {},
   "outputs": [],
   "source": [
    "pg = PG()\n",
    "pg.train()"
   ]
  },
  {
   "cell_type": "markdown",
   "metadata": {},
   "source": [
    "**Exercise** \n",
    "\n",
    "* Use the model to play 100 games and check how it performs compare to previous policy tested\n",
    "* Register a video of a game and display it"
   ]
  },
  {
   "cell_type": "code",
   "execution_count": null,
   "metadata": {},
   "outputs": [],
   "source": [
    "# %load solutions/exercise_1_6.py"
   ]
  },
  {
   "cell_type": "code",
   "execution_count": null,
   "metadata": {},
   "outputs": [],
   "source": [
    "# %load solutions/exercise_1_7.py"
   ]
  },
  {
   "cell_type": "code",
   "execution_count": null,
   "metadata": {},
   "outputs": [],
   "source": []
  }
 ],
 "metadata": {
  "kernelspec": {
   "display_name": "Python 3",
   "language": "python",
   "name": "python3"
  },
  "language_info": {
   "codemirror_mode": {
    "name": "ipython",
    "version": 3
   },
   "file_extension": ".py",
   "mimetype": "text/x-python",
   "name": "python",
   "nbconvert_exporter": "python",
   "pygments_lexer": "ipython3",
   "version": "3.8.5"
  }
 },
 "nbformat": 4,
 "nbformat_minor": 4
}
