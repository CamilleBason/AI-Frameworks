{
 "cells": [
  {
   "cell_type": "markdown",
   "metadata": {},
   "source": [
    "# [IA Frameworks](https://github.com/wikistat/AI-Frameworks) - Introduction to Deep Reinforcement Learning "
   ]
  },
  {
   "cell_type": "markdown",
   "metadata": {},
   "source": [
    "<center>\n",
    "<a href=\"http://www.insa-toulouse.fr/\" ><img src=\"http://www.math.univ-toulouse.fr/~besse/Wikistat/Images/logo-insa.jpg\" style=\"float:left; max-width: 120px; display: inline\" alt=\"INSA\"/></a> \n",
    "<a href=\"http://wikistat.fr/\" ><img src=\"http://www.math.univ-toulouse.fr/~besse/Wikistat/Images/wikistat.jpg\" width=400, style=\"max-width: 150px; display: inline\"  alt=\"Wikistat\"/></a>\n",
    "<a href=\"http://www.math.univ-toulouse.fr/\" ><img src=\"http://www.math.univ-toulouse.fr/~besse/Wikistat/Images/logo_imt.jpg\" width=400,  style=\"float:right;  display: inline\" alt=\"IMT\"/> </a>\n",
    "    \n",
    "</center>"
   ]
  },
  {
   "cell_type": "markdown",
   "metadata": {},
   "source": [
    "# Part 1 : Policy Gradient Algorithm\n",
    "\n",
    "The objectives of this notebook are the following : \n",
    "\n",
    "* Implement Hard-Coded & And Neural network policy to solve the *CartPole* Game \n",
    "* Implement Policy gradient algorithm to solve the *CartPole* Game \n",
    " \n",
    "Source : [https://github.com/ageron/handson-ml](https://github.com/ageron/handson-ml) and https://github.com/breeko/Simple-Reinforcement-Learning-with-Tensorflow/blob/master/Part%202%20-%20Policy-based%20Agents%20with%20Keras.ipynb"
   ]
  },
  {
   "cell_type": "markdown",
   "metadata": {},
   "source": [
    "# Import librairies"
   ]
  },
  {
   "cell_type": "code",
   "execution_count": 1,
   "metadata": {},
   "outputs": [],
   "source": [
    "import numpy as np\n",
    "import random\n",
    "\n",
    "\n",
    "# To plot figures and animations\n",
    "import matplotlib\n",
    "import matplotlib.animation as animation\n",
    "import matplotlib.pyplot as plt\n",
    "from IPython.display import HTML\n",
    "\n",
    "\n",
    "#Tensorflow/Keras utils\n",
    "import tensorflow.keras.models as km\n",
    "import tensorflow.keras.layers as kl\n",
    "import tensorflow.keras.initializers as ki\n",
    "import tensorflow.keras.optimizers as ko\n",
    "import tensorflow.keras.backend as K\n",
    "\n",
    "\n",
    "# Gym Library\n",
    "import gym"
   ]
  },
  {
   "cell_type": "markdown",
   "metadata": {},
   "source": [
    "The following functions enable to build a video from a list of images. <br>\n",
    "They will be used to build video of the game you will played."
   ]
  },
  {
   "cell_type": "code",
   "execution_count": 21,
   "metadata": {},
   "outputs": [],
   "source": [
    "def update_scene(num, frames, patch):\n",
    "    patch.set_data(frames[num])\n",
    "    return patch,\n",
    "\n",
    "def plot_animation(frames, repeat=False, interval=40):\n",
    "    plt.close()  # or else nbagg sometimes plots in the previous cell\n",
    "    fig = plt.figure()\n",
    "    patch = plt.imshow(frames[0])\n",
    "    plt.axis('off')\n",
    "    return animation.FuncAnimation(fig, update_scene, fargs=(frames, patch), frames=len(frames), repeat=repeat, interval=interval)"
   ]
  },
  {
   "cell_type": "markdown",
   "metadata": {
    "toc-hr-collapsed": true,
    "toc-nb-collapsed": true
   },
   "source": [
    "# AI Gym Librairie\n",
    "<a href=\"https://gym.openai.com/\" ><img src=\"https://gym.openai.com/assets/dist/home/header/home-icon-54c30e2345.svg\" style=\"float:left; max-width: 120px; display: inline\" alt=\"INSA\"/></a> "
   ]
  },
  {
   "cell_type": "markdown",
   "metadata": {},
   "source": [
    "In this notebook we will be using [OpenAI gym](https://gym.openai.com/), a great toolkit for developing and comparing Reinforcement Learning algorithms. It provides many environments for your learning *agents* to interact with."
   ]
  },
  {
   "cell_type": "markdown",
   "metadata": {},
   "source": [
    "# A simple environment: the Cart-Pole"
   ]
  },
  {
   "cell_type": "markdown",
   "metadata": {},
   "source": [
    "## Description\n",
    "A pole is attached by an un-actuated joint to a cart, which moves along a frictionless track. The pendulum starts upright, and the goal is to prevent it from falling over by increasing and reducing the cart's velocity.\n",
    "\n",
    "### Observation\n",
    "\n",
    "Num | Observation | Min | Max\n",
    "---|---|---|---\n",
    "0 | Cart Position | -2.4 | 2.4\n",
    "1 | Cart Velocity | -Inf | Inf\n",
    "2 | Pole Angle | ~ -41.8&deg; | ~ 41.8&deg;\n",
    "3 | Pole Velocity At Tip | -Inf | Inf\n",
    "\n",
    "### Actions\n",
    "\n",
    "Num | Action\n",
    "--- | ---\n",
    "0 | Push cart to the left\n",
    "1 | Push cart to the righ&t\n",
    "\n",
    "Note: The amount the velocity is reduced or increased is not fixed as it depends on the angle the pole is pointing. This is because the center of gravity of the pole increases the amount of energy needed to move the cart underneath it\n",
    "\n",
    "### Reward\n",
    "Reward is 1 for every step taken, including the termination step\n",
    "\n",
    "### Starting State\n",
    "All observations are assigned a uniform random value between ±0.05\n",
    "\n",
    "### Episode Termination\n",
    "1. Pole Angle is more than ±12°\n",
    "2. Cart Position is more than ±2.4 (center of the cart reaches the edge of the display)\n",
    "3. Episode length is greater than 200\n",
    "\n",
    "### Solved Requirements\n",
    "Considered solved when the average reward is greater than or equal to 195.0 over 100 consecutive trials.\n",
    "\n",
    "The description above if part of the official description of this environemtn. Read full description [here](https://github.com/openai/gym/wiki/CartPole-v0).\n",
    "\n",
    "The following command will load the `CartPole` environment."
   ]
  },
  {
   "cell_type": "code",
   "execution_count": 2,
   "metadata": {},
   "outputs": [],
   "source": [
    "env = gym.make(\"CartPole-v0\")"
   ]
  },
  {
   "cell_type": "markdown",
   "metadata": {},
   "source": [
    "The `reset` command initialize the environement and return the first observation which are a 1D array of size 4."
   ]
  },
  {
   "cell_type": "code",
   "execution_count": 3,
   "metadata": {},
   "outputs": [
    {
     "data": {
      "text/plain": [
       "(Box(-3.4028234663852886e+38, 3.4028234663852886e+38, (4,), float32),\n",
       " array([ 0.01906164, -0.00231784,  0.00066968,  0.00643156]))"
      ]
     },
     "execution_count": 3,
     "metadata": {},
     "output_type": "execute_result"
    }
   ],
   "source": [
    "obs = env.reset()\n",
    "env.observation_space, obs"
   ]
  },
  {
   "cell_type": "markdown",
   "metadata": {},
   "source": [
    "**Q:** What are the four outputs above?"
   ]
  },
  {
   "cell_type": "markdown",
   "metadata": {},
   "source": [
    "The `render` command allows to generate the environment which is here a 400X600 pixels with RGB channels. \n",
    "\n",
    "The `render` command for the `CartPole`environment also open another window that we will close directly with the `env.close`command. It can produce disturbing behaviour."
   ]
  },
  {
   "cell_type": "code",
   "execution_count": 4,
   "metadata": {},
   "outputs": [
    {
     "name": "stdout",
     "output_type": "stream",
     "text": [
      "Environemnt is a 400x600x3 images\n"
     ]
    }
   ],
   "source": [
    "img = env.render(mode = \"rgb_array\")\n",
    "env.close()\n",
    "print(\"Environemnt is a %dx%dx%d images\" %img.shape)"
   ]
  },
  {
   "cell_type": "markdown",
   "metadata": {},
   "source": [
    "The environment can then easily be displayed with matplotlib function. "
   ]
  },
  {
   "cell_type": "code",
   "execution_count": 5,
   "metadata": {},
   "outputs": [
    {
     "data": {
      "text/plain": [
       "(-0.5, 599.5, 399.5, -0.5)"
      ]
     },
     "execution_count": 5,
     "metadata": {},
     "output_type": "execute_result"
    },
    {
     "data": {
      "image/png": "[encoded data removed]",
      "text/plain": [
       "<Figure size 432x288 with 1 Axes>"
      ]
     },
     "metadata": {
      "needs_background": "light"
     },
     "output_type": "display_data"
    }
   ],
   "source": [
    "plt.imshow(img)\n",
    "plt.axis(\"off\")"
   ]
  },
  {
   "cell_type": "markdown",
   "metadata": {},
   "source": [
    "The action space is composed of two actions push to the left (0), push to the right (1)."
   ]
  },
  {
   "cell_type": "code",
   "execution_count": 6,
   "metadata": {},
   "outputs": [
    {
     "data": {
      "text/plain": [
       "Discrete(2)"
      ]
     },
     "execution_count": 6,
     "metadata": {},
     "output_type": "execute_result"
    }
   ],
   "source": [
    "env.action_space"
   ]
  },
  {
   "cell_type": "markdown",
   "metadata": {},
   "source": [
    "**Exercise** : Reset the environment, and push the car to the left untill the experience is over then display the final environment. \n",
    "**Q** : Why do the environment ends? "
   ]
  },
  {
   "cell_type": "code",
   "execution_count": 14,
   "metadata": {
    "collapsed": true,
    "jupyter": {
     "outputs_hidden": true
    }
   },
   "outputs": [
    {
     "data": {
      "image/png": "[encoded data removed]",
      "text/plain": [
       "<Figure size 432x288 with 1 Axes>"
      ]
     },
     "metadata": {
      "needs_background": "light"
     },
     "output_type": "display_data"
    }
   ],
   "source": [
    "# %load solutions/exercise_1_1.py\n",
    "obs = env.reset()\n",
    "while True:\n",
    "    obs, reward, done, info = env.step(0)\n",
    "    if done:\n",
    "        break\n",
    "img = env.render(mode = \"rgb_array\")\n",
    "env.close()\n",
    "plt.imshow(img)\n",
    "axs = plt.axis(\"off\")\n"
   ]
  },
  {
   "cell_type": "markdown",
   "metadata": {},
   "source": [
    "# Hard coded policy\n",
    "\n",
    "How can we make the poll remain upright? We will need to define a _policy_ for that. This is the strategy that the agent will use to select an action at each step. It can use all the past actions and observations to decide what to do."
   ]
  },
  {
   "cell_type": "markdown",
   "metadata": {},
   "source": [
    "### Random policy"
   ]
  },
  {
   "cell_type": "markdown",
   "metadata": {
    "jupyter": {
     "source_hidden": true
    }
   },
   "source": [
    "Let's start with a completly random policy and see how much time the poll will remain upright over 100 episodes."
   ]
  },
  {
   "cell_type": "code",
   "execution_count": 15,
   "metadata": {},
   "outputs": [
    {
     "name": "stdout",
     "output_type": "stream",
     "text": [
      "Game played : 0. Reward for the last 10 episode: []\n",
      "Game played : 10. Reward for the last 10 episode: [34.0, 15.0, 14.0, 16.0, 19.0, 23.0, 22.0, 12.0, 46.0, 9.0]\n",
      "Game played : 20. Reward for the last 10 episode: [14.0, 15.0, 57.0, 23.0, 12.0, 41.0, 16.0, 29.0, 16.0, 18.0]\n",
      "Game played : 30. Reward for the last 10 episode: [39.0, 29.0, 20.0, 44.0, 20.0, 28.0, 12.0, 68.0, 25.0, 18.0]\n",
      "Game played : 40. Reward for the last 10 episode: [19.0, 13.0, 27.0, 22.0, 14.0, 13.0, 38.0, 19.0, 23.0, 13.0]\n",
      "Game played : 50. Reward for the last 10 episode: [14.0, 19.0, 15.0, 17.0, 24.0, 9.0, 65.0, 51.0, 14.0, 25.0]\n",
      "Game played : 60. Reward for the last 10 episode: [15.0, 10.0, 15.0, 16.0, 13.0, 16.0, 12.0, 12.0, 17.0, 21.0]\n",
      "Game played : 70. Reward for the last 10 episode: [28.0, 18.0, 16.0, 16.0, 22.0, 13.0, 17.0, 20.0, 25.0, 22.0]\n",
      "Game played : 80. Reward for the last 10 episode: [23.0, 12.0, 21.0, 62.0, 13.0, 13.0, 12.0, 23.0, 18.0, 24.0]\n",
      "Game played : 90. Reward for the last 10 episode: [24.0, 12.0, 12.0, 14.0, 17.0, 17.0, 14.0, 22.0, 43.0, 34.0]\n",
      "Over 100 episodes, mean reward: 21, std : 11\n"
     ]
    }
   ],
   "source": [
    "env.reset()           \n",
    "num_games = 100       \n",
    "reward_sum = 0        \n",
    "all_reward_sum = []   \n",
    "num_game = 0          \n",
    "while num_game < num_games:\n",
    "    observation, reward, done, _ = env.step(env.action_space.sample())\n",
    "    reward_sum += reward\n",
    "    if done:\n",
    "        if num_game %10 == 0:\n",
    "            print(\"Game played : %d. Reward for the last 10 episode: %s\" %(num_game,all_reward_sum[-10:]) )\n",
    "        all_reward_sum.append(reward_sum)\n",
    "        reward_sum = 0\n",
    "        num_game += 1\n",
    "        env.reset()\n",
    "        \n",
    "print(\"Over %d episodes, mean reward: %d, std : %d\" %(num_games, np.mean(all_reward_sum), np.std(all_reward_sum)))"
   ]
  },
  {
   "cell_type": "markdown",
   "metadata": {},
   "source": [
    "#### Visualize a complete game\n",
    "\n",
    "Let's run one pisode with his random policy and save all images representing the environment at each step."
   ]
  },
  {
   "cell_type": "code",
   "execution_count": 26,
   "metadata": {},
   "outputs": [],
   "source": [
    "frames = []\n",
    "\n",
    "env.reset()    \n",
    "observation, reward, done, _ = env.step(env.action_space.sample())\n",
    "reward_sum = 0        \n",
    "while not(done):\n",
    "    env.render(mode = \"rgb_array\")\n",
    "    env.close()\n",
    "    frames.append(img)\n",
    "    reward_sum += reward\n",
    "    action = env.action_space.sample()\n",
    "    observation, reward, done, _ = env.step(action)"
   ]
  },
  {
   "cell_type": "code",
   "execution_count": 23,
   "metadata": {},
   "outputs": [
    {
     "data": {
      "text/html": [
       "<video width=\"432\" height=\"288\" controls autoplay>\n",
       "  <source type=\"video/mp4\" src=\"data:video/mp4;base64,AAAAIGZ0eXBNNFYgAAACAE00ViBpc29taXNvMmF2YzEAAAAIZnJlZQAABb1tZGF0AAACrgYF//+q\n",
       "3EXpvebZSLeWLNgg2SPu73gyNjQgLSBjb3JlIDE2MCByMzAxMSBjZGU5YTkzIC0gSC4yNjQvTVBF\n",
       "Ry00IEFWQyBjb2RlYyAtIENvcHlsZWZ0IDIwMDMtMjAyMCAtIGh0dHA6Ly93d3cudmlkZW9sYW4u\n",
       "b3JnL3gyNjQuaHRtbCAtIG9wdGlvbnM6IGNhYmFjPTEgcmVmPTMgZGVibG9jaz0xOjA6MCBhbmFs\n",
       "eXNlPTB4MzoweDExMyBtZT1oZXggc3VibWU9NyBwc3k9MSBwc3lfcmQ9MS4wMDowLjAwIG1peGVk\n",
       "X3JlZj0xIG1lX3JhbmdlPTE2IGNocm9tYV9tZT0xIHRyZWxsaXM9MSA4eDhkY3Q9MSBjcW09MCBk\n",
       "ZWFkem9uZT0yMSwxMSBmYXN0X3Bza2lwPTEgY2hyb21hX3FwX29mZnNldD0tMiB0aHJlYWRzPTkg\n",
       "bG9va2FoZWFkX3RocmVhZHM9MSBzbGljZWRfdGhyZWFkcz0wIG5yPTAgZGVjaW1hdGU9MSBpbnRl\n",
       "cmxhY2VkPTAgYmx1cmF5X2NvbXBhdD0wIGNvbnN0cmFpbmVkX2ludHJhPTAgYmZyYW1lcz0zIGJf\n",
       "cHlyYW1pZD0yIGJfYWRhcHQ9MSBiX2JpYXM9MCBkaXJlY3Q9MSB3ZWlnaHRiPTEgb3Blbl9nb3A9\n",
       "MCB3ZWlnaHRwPTIga2V5aW50PTI1MCBrZXlpbnRfbWluPTI1IHNjZW5lY3V0PTQwIGludHJhX3Jl\n",
       "ZnJlc2g9MCByY19sb29rYWhlYWQ9NDAgcmM9Y3JmIG1idHJlZT0xIGNyZj0yMy4wIHFjb21wPTAu\n",
       "NjAgcXBtaW49MCBxcG1heD02OSBxcHN0ZXA9NCBpcF9yYXRpbz0xLjQwIGFxPTE6MS4wMACAAAAC\n",
       "BWWIhAA7//73Tr8Cm0WXagOSVwr2yqQmWblSawHypgAAAwAAEbBufJcNeavSJAAArYACODOPhbLX\n",
       "nI5KxrhsQzIAplIHB2BnXQzU0DSJ7B4Lp1aSd3oWoPHhgq8V0guL3Phreal+lRxxthCLZZejb6aj\n",
       "qniYXtT+0qHkeEW0xw94OJU3aD7gem5yoALtKDxR+8P/yi/Rp4l6oLWALWczPvryh0X3RPZLy9w4\n",
       "JVlvvxlOO+GyoB0pBQn1L3IFJ1tMwe15k+tQGtJ6Czi32vQ7o2hIVDt5/S8Pj2jAQlctT21YvlAe\n",
       "E91qn2HODbc1tS5qbSe76LWk2AYxASDrXCE7z8E7XQgAspgWAWp3DEe8/7Q2+eOWXNaUO5UFblcX\n",
       "raF4vY0uutJJprA8SUdhxUABMDqjK3rG4eynlbXfTbpuhwrLEf76WzR4PwmqjT5kn9PnNYjuqr5s\n",
       "KSMyrbbbC1DNPTHu/59MAL7D1Gg2TDS/Bel93OCtJreSYdI7ou+tsUApYyd7qcnzJvH6YgT+YjNA\n",
       "rsJ9c7E7VUAaffxvPFnLdgz/mS8HpfG/xTaacJGu/2AyiZHmPESh9NY8IVVCdieMTjv9W2xgdGil\n",
       "64mLkPXciyP1i/vcZSjUF6iG6emXgeHtAA//IcetPTMLnvpmiwGB8OX0l3k5QSC8TC8QSAkN4AAA\n",
       "AwAAJaEAAAARQZokbEN//qeEAAApHx+zWbgAAAANQZ5CeIX/AAAYgNJj4QAAAA0BnmF0Qr8AACCu\n",
       "hqOgAAAACwGeY2pCvwAAAwGLAAAAFEGaaEmoQWiZTAhv//6nhAAAAwHdAAAADUGehkURLC//AAAD\n",
       "AR8AAAALAZ6ldEK/AAADAYsAAAALAZ6nakK/AAADAYsAAAATQZqsSahBbJlMCGf//p4QAAAHTAAA\n",
       "AA1BnspFFSwv/wAAAwEfAAAACwGe6XRCvwAAAwGLAAAACwGe62pCvwAAAwGLAAAAFEGa7kmoQWyZ\n",
       "TBRMK//+OEAAABxxAAAACwGfDWpCvwAAAwGLAAAD5m1vb3YAAABsbXZoZAAAAAAAAAAAAAAAAAAA\n",
       "A+gAAAJYAAEAAAEAAAAAAAAAAAAAAAABAAAAAAAAAAAAAAAAAAAAAQAAAAAAAAAAAAAAAAAAQAAA\n",
       "AAAAAAAAAAAAAAAAAAAAAAAAAAAAAAAAAAAAAAIAAAMQdHJhawAAAFx0a2hkAAAAAwAAAAAAAAAA\n",
       "AAAAAQAAAAAAAAJYAAAAAAAAAAAAAAAAAAAAAAABAAAAAAAAAAAAAAAAAAAAAQAAAAAAAAAAAAAA\n",
       "AAAAQAAAAAGwAAABIAAAAAAAJGVkdHMAAAAcZWxzdAAAAAAAAAABAAACWAAABAAAAQAAAAACiG1k\n",
       "aWEAAAAgbWRoZAAAAAAAAAAAAAAAAAAAMgAAAB4AVcQAAAAAAC1oZGxyAAAAAAAAAAB2aWRlAAAA\n",
       "AAAAAAAAAAAAVmlkZW9IYW5kbGVyAAAAAjNtaW5mAAAAFHZtaGQAAAABAAAAAAAAAAAAAAAkZGlu\n",
       "ZgAAABxkcmVmAAAAAAAAAAEAAAAMdXJsIAAAAAEAAAHzc3RibAAAALdzdHNkAAAAAAAAAAEAAACn\n",
       "YXZjMQAAAAAAAAABAAAAAAAAAAAAAAAAAAAAAAGwASAASAAAAEgAAAAAAAAAAQAAAAAAAAAAAAAA\n",
       "AAAAAAAAAAAAAAAAAAAAAAAAAAAAABj//wAAADVhdmNDAWQAFf/hABhnZAAVrNlBsJaEAAADAAQA\n",
       "AAMAyDxYtlgBAAZo6+PLIsD9+PgAAAAAHHV1aWRraEDyXyRPxbo5pRvPAyPzAAAAAAAAABhzdHRz\n",
       "AAAAAAAAAAEAAAAPAAACAAAAABRzdHNzAAAAAAAAAAEAAAABAAAAiGN0dHMAAAAAAAAADwAAAAEA\n",
       "AAQAAAAAAQAACgAAAAABAAAEAAAAAAEAAAAAAAAAAQAAAgAAAAABAAAKAAAAAAEAAAQAAAAAAQAA\n",
       "AAAAAAABAAACAAAAAAEAAAoAAAAAAQAABAAAAAABAAAAAAAAAAEAAAIAAAAAAQAABgAAAAABAAAC\n",
       "AAAAABxzdHNjAAAAAAAAAAEAAAABAAAADwAAAAEAAABQc3RzegAAAAAAAAAAAAAADwAABLsAAAAV\n",
       "AAAAEQAAABEAAAAPAAAAGAAAABEAAAAPAAAADwAAABcAAAARAAAADwAAAA8AAAAYAAAADwAAABRz\n",
       "dGNvAAAAAAAAAAEAAAAwAAAAYnVkdGEAAABabWV0YQAAAAAAAAAhaGRscgAAAAAAAAAAbWRpcmFw\n",
       "cGwAAAAAAAAAAAAAAAAtaWxzdAAAACWpdG9vAAAAHWRhdGEAAAABAAAAAExhdmY1OC40NS4xMDA=\n",
       "\">\n",
       "  Your browser does not support the video tag.\n",
       "</video>"
      ],
      "text/plain": [
       "<IPython.core.display.HTML object>"
      ]
     },
     "execution_count": 23,
     "metadata": {},
     "output_type": "execute_result"
    },
    {
     "data": {
      "image/png": "[encoded data removed]",
      "text/plain": [
       "<Figure size 432x288 with 1 Axes>"
      ]
     },
     "metadata": {
      "needs_background": "light"
     },
     "output_type": "display_data"
    }
   ],
   "source": [
    "HTML(plot_animation(frames).to_html5_video())"
   ]
  },
  {
   "cell_type": "markdown",
   "metadata": {},
   "source": [
    "### Simple strategy"
   ]
  },
  {
   "cell_type": "markdown",
   "metadata": {},
   "source": [
    "Let's hard code a simple strategy: if the pole is tilting to the left, then push the cart to the left, and _vice versa_. Let's see if that works.\n",
    "\n",
    "**Exercise** implement this policy and play 100 games with this policy. What are the means and std deviation of the reward sum over the 100 games?"
   ]
  },
  {
   "cell_type": "code",
   "execution_count": 28,
   "metadata": {},
   "outputs": [
    {
     "name": "stdout",
     "output_type": "stream",
     "text": [
      "Game played : 0. Reward for the last 10 episode: []\n",
      "Game played : 10. Reward for the last 10 episode: [36.0, 42.0, 53.0, 37.0, 41.0, 39.0, 59.0, 42.0, 42.0, 58.0]\n",
      "Game played : 20. Reward for the last 10 episode: [39.0, 53.0, 42.0, 66.0, 45.0, 35.0, 36.0, 42.0, 36.0, 30.0]\n",
      "Game played : 30. Reward for the last 10 episode: [39.0, 39.0, 39.0, 39.0, 35.0, 36.0, 33.0, 38.0, 51.0, 46.0]\n",
      "Game played : 40. Reward for the last 10 episode: [37.0, 54.0, 26.0, 45.0, 37.0, 59.0, 55.0, 54.0, 48.0, 39.0]\n",
      "Game played : 50. Reward for the last 10 episode: [35.0, 26.0, 54.0, 39.0, 49.0, 47.0, 41.0, 40.0, 47.0, 49.0]\n",
      "Game played : 60. Reward for the last 10 episode: [41.0, 38.0, 36.0, 48.0, 39.0, 27.0, 41.0, 44.0, 49.0, 45.0]\n",
      "Game played : 70. Reward for the last 10 episode: [41.0, 47.0, 46.0, 40.0, 57.0, 41.0, 48.0, 64.0, 29.0, 48.0]\n",
      "Game played : 80. Reward for the last 10 episode: [38.0, 39.0, 40.0, 40.0, 49.0, 48.0, 44.0, 49.0, 25.0, 40.0]\n",
      "Game played : 90. Reward for the last 10 episode: [43.0, 41.0, 58.0, 47.0, 35.0, 44.0, 40.0, 47.0, 51.0, 28.0]\n",
      "Over 100 episodes, mean reward: 43, std : 8\n"
     ]
    }
   ],
   "source": [
    "# %load solutions/exercise_1_2.py\n",
    "observation = env.reset()\n",
    "reward_sum = 0\n",
    "all_reward_sum = []\n",
    "num_games = 100\n",
    "num_game = 0\n",
    "while num_game < num_games:\n",
    "    \n",
    "    position, velocity, angle, angular_velocity = observation\n",
    "    if angle < 0:\n",
    "        action = 0\n",
    "    else:\n",
    "        action = 1\n",
    "    observation, reward, done, _ = env.step(action)\n",
    "    reward_sum += reward\n",
    "    if done:\n",
    "        if num_game %10 == 0:\n",
    "            print(\"Game played : %d. Reward for the last 10 episode: %s\" %(num_game,all_reward_sum[-10:]) )\n",
    "        all_reward_sum.append(reward_sum)\n",
    "        reward_sum = 0\n",
    "        num_game += 1\n",
    "        env.reset()\n",
    "        \n",
    "print(\"Over %d episodes, mean reward: %d, std : %d\" %(num_games, np.mean(all_reward_sum), np.std(all_reward_sum)))"
   ]
  },
  {
   "cell_type": "markdown",
   "metadata": {},
   "source": [
    "**Exercise** Vizualize a complete game:"
   ]
  },
  {
   "cell_type": "code",
   "execution_count": 30,
   "metadata": {},
   "outputs": [
    {
     "data": {
      "text/html": [
       "<video width=\"432\" height=\"288\" controls autoplay>\n",
       "  <source type=\"video/mp4\" src=\"data:video/mp4;base64,AAAAIGZ0eXBNNFYgAAACAE00ViBpc29taXNvMmF2YzEAAAAIZnJlZQAADBVtZGF0AAACrgYF//+q\n",
       "3EXpvebZSLeWLNgg2SPu73gyNjQgLSBjb3JlIDE2MCByMzAxMSBjZGU5YTkzIC0gSC4yNjQvTVBF\n",
       "Ry00IEFWQyBjb2RlYyAtIENvcHlsZWZ0IDIwMDMtMjAyMCAtIGh0dHA6Ly93d3cudmlkZW9sYW4u\n",
       "b3JnL3gyNjQuaHRtbCAtIG9wdGlvbnM6IGNhYmFjPTEgcmVmPTMgZGVibG9jaz0xOjA6MCBhbmFs\n",
       "eXNlPTB4MzoweDExMyBtZT1oZXggc3VibWU9NyBwc3k9MSBwc3lfcmQ9MS4wMDowLjAwIG1peGVk\n",
       "X3JlZj0xIG1lX3JhbmdlPTE2IGNocm9tYV9tZT0xIHRyZWxsaXM9MSA4eDhkY3Q9MSBjcW09MCBk\n",
       "ZWFkem9uZT0yMSwxMSBmYXN0X3Bza2lwPTEgY2hyb21hX3FwX29mZnNldD0tMiB0aHJlYWRzPTkg\n",
       "bG9va2FoZWFkX3RocmVhZHM9MSBzbGljZWRfdGhyZWFkcz0wIG5yPTAgZGVjaW1hdGU9MSBpbnRl\n",
       "cmxhY2VkPTAgYmx1cmF5X2NvbXBhdD0wIGNvbnN0cmFpbmVkX2ludHJhPTAgYmZyYW1lcz0zIGJf\n",
       "cHlyYW1pZD0yIGJfYWRhcHQ9MSBiX2JpYXM9MCBkaXJlY3Q9MSB3ZWlnaHRiPTEgb3Blbl9nb3A9\n",
       "MCB3ZWlnaHRwPTIga2V5aW50PTI1MCBrZXlpbnRfbWluPTI1IHNjZW5lY3V0PTQwIGludHJhX3Jl\n",
       "ZnJlc2g9MCByY19sb29rYWhlYWQ9NDAgcmM9Y3JmIG1idHJlZT0xIGNyZj0yMy4wIHFjb21wPTAu\n",
       "NjAgcXBtaW49MCBxcG1heD02OSBxcHN0ZXA9NCBpcF9yYXRpbz0xLjQwIGFxPTE6MS4wMACAAAAB\n",
       "dmWIhAA7//73Tr8Cm0WXagOSVwr2yqQmWblSawHypgAAAwAAEbBufJcNeavSJAAArYACODOPhbL1\n",
       "4/wXkf8AUZcg4Lt5zxb8ewACYyVNCo/iDvTx0AfN14uC4+uPlfFD4SEnwlo2xvVQAhe8HQRzprJ+\n",
       "Gr9coofOUEmqEOg6RN9y37y8naeAjEP2vYxtQTGmjhj4zf2vTJhSLyBKqKAItdwN1JT87P3rOfQ8\n",
       "avwDWmd0ml2kPrr2eQha1q6dAM7Y70nx3dhetPv/DlkZmXJd70QdTJxLue5nDoAyuSQq+Ac+0Vx2\n",
       "sXqzfwYEibR2X9FHzN9ziDJS75q1OwplUoTatdwXu5bDpje5QQA+DVKJnYGSyofuS+2hPrxg4Vsq\n",
       "VZvB290Vd1PxbdEcSvbPlFmVYXjXslVczJUq1STyESMvD47s9ZmeSNBBj0dFn74ZJa3rMtj+UyrS\n",
       "+WyW6OU03nMuNGIJBe7yiaqxfWnn4KIGjnAAAAMAABfRAAAAkkGaJGxDv/6plgAFb6kQHdSnqNpU\n",
       "AN6Cnopp906kKv8Oo4+G6oi+/J+S+Q1H2Z8M3FCV2t6mK9WQPf9lZpm8SHMb9QHwDdvjZQxu2I5N\n",
       "ryZYrywO/6Mcn/1wHN0TjJyOYuIIWm+pCZCgCEDJi7tkA+Q2g1AOGQzbxcT8+HLupzabbspArJp5\n",
       "/4E1zpTwDyrgSwFoAAAALUGeQniF/wAGcC9Ik+ZcpAOacaYV7u4VJGKme+g7VGAoU+gmfB7b6ir+\n",
       "P0dssQAAABwBnmF0Qr8ACKpVsb9tNMz11bDvhof/x0of53vgAAAAJAGeY2pCvwAIbJDPrJ8LGHJ4\n",
       "1bZAu7gHoMONFaPFI3O/39e5QQAAACpBmmhJqEFomUwId//+qZYAAVxrK4RBCrWLMs33AEL1F7Ku\n",
       "jSfkzB6qu9EAAAAwQZ6GRREsL/8ABm+GZ4+0baHTx0CP8zGUPxjfzMRttTPxAA90qcTV+2l1HmOn\n",
       "3RK5AAAAGQGepXRCvwAENi6opbZCWHPTjN2rhXED/NkAAAAdAZ6nakK/AAQ3sD1xhMV6n8q0zqct\n",
       "y2yqhaG2m2AAAADFQZqsSahBbJlMCHf//qmWAAVvPeKtIb1XdgBDzy9fXWRVrdcBq8BuHpITfx+K\n",
       "JQ0lUo8daw5ItkPMRGt88q4MtrzsPZ0+BuxvZ8u93n1UkvFUgs62kVVhMr4JkJgEIAAfbAeVmePi\n",
       "LilEBa8MT7uL45yQTO5s9iG3EdcrhDlMNC22ZIJ9i6p9hpV4TVX9sk1C4LTW8yIyKsCBJvfSH3wm\n",
       "vvAK835xWv0yzTpo5YPGqdp4/rHMwMhSxRY7EZUkkRzLSt4SDC4AAABLQZ7KRRUsL/8ABnFMYnXs\n",
       "tM6OMORAV8ML+pEYfRj7BUgp9ZOYakD6bXTZh/O5olgbYM91PlzWHAGNPM4Ng5F89NrmaZU4gOMh\n",
       "TONhAAAAIwGe6XRCvwAIb4otfuIAtuRweUFnToNYjhPLk8vmmBWdwMVBAAAAJwGe62pCvwAIsEOG\n",
       "QC0JaWDMc9hw8kxzowPOapIyw5nL23DYGr0MjAAAAH5BmvBJqEFsmUwId//+qZYABXfgHDgrgDoA\n",
       "NoLZRT2nSd2m58ogku6U32M8EXkIxj6fJb7wg8NdWtSVGDCIVDE0Gh9EAGr+HmQEKsVAKdGd+Ko6\n",
       "AtHaemd4+3ZYe0r/brTxad1wRRc93r2cBfmTHxweQsXnHBYjPAf81/h1vKEAAAAlQZ8ORRUsL/8A\n",
       "Bl9zsoZ94ZuLh7WGtH1WZAIRdLi91ldMmp2YIQAAACIBny10Qr8ACKuiOk36wV6kA3DvqrmXdibH\n",
       "JXRvuo+0ENt5AAAAGwGfL2pCvwAIrr93XddMC67NaMbarle+IeP6wAAAAEtBmzNJqEFsmUwId//+\n",
       "qZYAArpWn48WAGzHrdvk3cyrIFNC7RjVEsq4Lxb711+1Jzyf3VFAx4ngrdrJ5SLKWf/LyDxh7ltZ\n",
       "njyVsoAAAAAnQZ9RRRUsK/8ABFR43SQb0O3JzSb3dMy20QYINvtZy/WLOx6JnJCBAAAAGAGfcmpC\n",
       "vwAEV5vvhYQ+talydlSRmMkBCAAAAHBBm3dJqEFsmUwIb//+p4QABWpqvewGqTh2ezpLhoz4iN29\n",
       "XYNuM6TNSANKdKuKabK8LAwY/kkZDrarFic+JrA0wJn2iWwgfk9mVYOk/rIZqkbzCj0Glj2oGYYH\n",
       "2PE3dDifEKF9y9JbAv3SGWLfw9i0AAAALUGflUUVLC//AAZfc5hzrcnicBUSgL2ukbQF/pVeQmjV\n",
       "KL7tnNgm9yQhMHgAEQAAACIBn7R0Qr8ACKuhcr/K9wxf5zrVBgYwMIH5UWmI5WmGhtSAAAAAIgGf\n",
       "tmpCvwAIrsBaIlXyoG9bMeFHzCdMcAlQwS+iRlBTt90AAACbQZu6SahBbJlMCGf//p4QACja7HAJ\n",
       "nNTVngBuB9YqdCp7cF1Y3Fv0UX5emQDxZ542zpA3Sc0Za9oFXkPZ0RNieyfbJAGgzVeSP8HAMfFr\n",
       "G63TGOt6tADLWW7YY5FC/lgc3Hk5ft5MWr+MpoG1tvmloXRDwkoIfUSG0CRUcL2BB2yfOi8py+nn\n",
       "JInWzI1PJ43gNHuisHebs7uB6wkAAABHQZ/YRRUsK/8ACK8jiK2YCc3h4stACuOjsISbqh9M3tHF\n",
       "zWZsTTC4MoZuFvN4DCwfTaWM7dypIgBGtZUxP7bf3Xr0c4bi0oIAAAAoAZ/5akK/AAivI2Ewdtpl\n",
       "WmfpHUgt10bfUIfAP8ZA6SbW3plU4ksJBQAAAHNBm/5JqEFsmUwIV//+OEAAn/tbh/njmsFxjAC6\n",
       "1HLzAOnj2s6khO3mxwMtIIUO2lqLL7ZIcPeRdbXzh5GGM3zIiv9rij4CGB6yndYmMroE//Yuqpoo\n",
       "J6RnIS6DBmIn1kuwEdDmQdlzoeYyN/i4zXNaNrBoAAAATUGeHEUVLC//AAZfc4yA0VAHBsAN6AbX\n",
       "iyjbaLgqNUiR38/8mOpOHsk6E4hXPhYz8BIEGs0b1BEpUyFNEhh2R4/J53WEk+WsNzu9sMCzAAAA\n",
       "OQGeO3RCvwAIkqjdtUwKi9rJvE0j/i+aaADjbSwpApJOyQwBTwPkzx/Ye5UDNvvoDac12PzS+h14\n",
       "qwAAADIBnj1qQr8ACJKo1tKcPzt4aITwzgaE01AZJgBEJTwqM1zWf8omKm3CZTBqsfId2SvkoAAA\n",
       "BJZtb292AAAAbG12aGQAAAAAAAAAAAAAAAAAAAPoAAAE2AABAAABAAAAAAAAAAAAAAAAAQAAAAAA\n",
       "AAAAAAAAAAAAAAEAAAAAAAAAAAAAAAAAAEAAAAAAAAAAAAAAAAAAAAAAAAAAAAAAAAAAAAAAAAAC\n",
       "AAADwHRyYWsAAABcdGtoZAAAAAMAAAAAAAAAAAAAAAEAAAAAAAAE2AAAAAAAAAAAAAAAAAAAAAAA\n",
       "AQAAAAAAAAAAAAAAAAAAAAEAAAAAAAAAAAAAAAAAAEAAAAABsAAAASAAAAAAACRlZHRzAAAAHGVs\n",
       "c3QAAAAAAAAAAQAABNgAAAQAAAEAAAAAAzhtZGlhAAAAIG1kaGQAAAAAAAAAAAAAAAAAADIAAAA+\n",
       "AFXEAAAAAAAtaGRscgAAAAAAAAAAdmlkZQAAAAAAAAAAAAAAAFZpZGVvSGFuZGxlcgAAAALjbWlu\n",
       "ZgAAABR2bWhkAAAAAQAAAAAAAAAAAAAAJGRpbmYAAAAcZHJlZgAAAAAAAAABAAAADHVybCAAAAAB\n",
       "AAACo3N0YmwAAAC3c3RzZAAAAAAAAAABAAAAp2F2YzEAAAAAAAAAAQAAAAAAAAAAAAAAAAAAAAAB\n",
       "sAEgAEgAAABIAAAAAAAAAAEAAAAAAAAAAAAAAAAAAAAAAAAAAAAAAAAAAAAAAAAAAAAY//8AAAA1\n",
       "YXZjQwFkABX/4QAYZ2QAFazZQbCWhAAAAwAEAAADAMg8WLZYAQAGaOvjyyLA/fj4AAAAABx1dWlk\n",
       "a2hA8l8kT8W6OaUbzwMj8wAAAAAAAAAYc3R0cwAAAAAAAAABAAAAHwAAAgAAAAAUc3RzcwAAAAAA\n",
       "AAABAAAAAQAAAPhjdHRzAAAAAAAAAB0AAAABAAAEAAAAAAEAAAoAAAAAAQAABAAAAAABAAAAAAAA\n",
       "AAEAAAIAAAAAAQAACgAAAAABAAAEAAAAAAEAAAAAAAAAAQAAAgAAAAABAAAKAAAAAAEAAAQAAAAA\n",
       "AQAAAAAAAAABAAACAAAAAAEAAAoAAAAAAQAABAAAAAABAAAAAAAAAAEAAAIAAAAAAQAACAAAAAAC\n",
       "AAACAAAAAAEAAAoAAAAAAQAABAAAAAABAAAAAAAAAAEAAAIAAAAAAQAACAAAAAACAAACAAAAAAEA\n",
       "AAoAAAAAAQAABAAAAAABAAAAAAAAAAEAAAIAAAAAHHN0c2MAAAAAAAAAAQAAAAEAAAAfAAAAAQAA\n",
       "AJBzdHN6AAAAAAAAAAAAAAAfAAAELAAAAJYAAAAxAAAAIAAAACgAAAAuAAAANAAAAB0AAAAhAAAA\n",
       "yQAAAE8AAAAnAAAAKwAAAIIAAAApAAAAJgAAAB8AAABPAAAAKwAAABwAAAB0AAAAMQAAACYAAAAm\n",
       "AAAAnwAAAEsAAAAsAAAAdwAAAFEAAAA9AAAANgAAABRzdGNvAAAAAAAAAAEAAAAwAAAAYnVkdGEA\n",
       "AABabWV0YQAAAAAAAAAhaGRscgAAAAAAAAAAbWRpcmFwcGwAAAAAAAAAAAAAAAAtaWxzdAAAACWp\n",
       "dG9vAAAAHWRhdGEAAAABAAAAAExhdmY1OC40NS4xMDA=\n",
       "\">\n",
       "  Your browser does not support the video tag.\n",
       "</video>"
      ],
      "text/plain": [
       "<IPython.core.display.HTML object>"
      ]
     },
     "execution_count": 30,
     "metadata": {},
     "output_type": "execute_result"
    },
    {
     "data": {
      "image/png": "[encoded data removed]",
      "text/plain": [
       "<Figure size 432x288 with 1 Axes>"
      ]
     },
     "metadata": {
      "needs_background": "light"
     },
     "output_type": "display_data"
    }
   ],
   "source": [
    "# %load solutions/exercise_1_3.py\n",
    "frames = []\n",
    "env.reset()    \n",
    "observation, reward, done, _ = env.step(env.action_space.sample())\n",
    "reward_sum = 0        \n",
    "while not(done):\n",
    "    img = env.render(mode = \"rgb_array\")\n",
    "    env.close()\n",
    "    frames.append(img)\n",
    "    reward_sum += reward\n",
    "    position, velocity, angle, angular_velocity = observation\n",
    "    if angle < 0:\n",
    "        action = 0\n",
    "    else:\n",
    "        action = 1\n",
    "    observation, reward, done, _ = env.step(action)\n",
    "HTML(plot_animation(frames).to_html5_video())"
   ]
  },
  {
   "cell_type": "markdown",
   "metadata": {},
   "source": [
    "**Q** What can you say about this strategy?"
   ]
  },
  {
   "cell_type": "markdown",
   "metadata": {},
   "source": [
    "# Neural Network Policies"
   ]
  },
  {
   "cell_type": "markdown",
   "metadata": {},
   "source": [
    "Let's create a neural network to build a better policy. <br> \n",
    "This network will take the observations as inputs, and output the probability of the action to take for each observation. <br>\n",
    "In the case of the Cart-Pole environment, there are just two possible actions (left or right), so we only need one output neuron: it will output the probability `p` of the action 0 (left), and of course the probability of action 1 (right) will be `1 - p`."
   ]
  },
  {
   "cell_type": "markdown",
   "metadata": {},
   "source": [
    "### The architecture"
   ]
  },
  {
   "cell_type": "markdown",
   "metadata": {},
   "source": [
    "Because this problem is simple, we can define a very simple architecture for our neural network.<bR> Here it's simple MLP with 1 hidden layer and four neurons."
   ]
  },
  {
   "cell_type": "code",
   "execution_count": 31,
   "metadata": {},
   "outputs": [
    {
     "name": "stdout",
     "output_type": "stream",
     "text": [
      "Model: \"sequential\"\n",
      "_________________________________________________________________\n",
      "Layer (type)                 Output Shape              Param #   \n",
      "=================================================================\n",
      "dense (Dense)                (None, 4)                 20        \n",
      "_________________________________________________________________\n",
      "dense_1 (Dense)              (None, 1)                 5         \n",
      "=================================================================\n",
      "Total params: 25\n",
      "Trainable params: 25\n",
      "Non-trainable params: 0\n",
      "_________________________________________________________________\n"
     ]
    }
   ],
   "source": [
    "# Specify the network architecture\n",
    "n_inputs = 4  # == env.observation_space.shape[0]\n",
    "n_hidden = 4  # it's a simple task, we don't need more than this\n",
    "n_outputs = 1 # only outputs the probability of accelerating left\n",
    "initializer = ki.VarianceScaling()\n",
    "\n",
    "# Build the neural network\n",
    "policy_network=km.Sequential()\n",
    "policy_network.add(kl.Dense(n_hidden, input_shape = (n_inputs,), activation = \"relu\", kernel_initializer = initializer))\n",
    "policy_network.add(kl.Dense(n_outputs, activation = \"sigmoid\", kernel_initializer = initializer))\n",
    "\n",
    "policy_network.summary()"
   ]
  },
  {
   "cell_type": "markdown",
   "metadata": {},
   "source": [
    "### Predict the action\n",
    "We can now easily predict the probability of both actions given the observation:"
   ]
  },
  {
   "cell_type": "code",
   "execution_count": 32,
   "metadata": {},
   "outputs": [],
   "source": [
    "obs = env.reset()\n",
    "p_left = policy_network.predict(np.expand_dims(obs,axis=0))\n",
    "# Choose and action according to the previously generated probability\n",
    "action = 0 if p_left>0.5 else 1 "
   ]
  },
  {
   "cell_type": "markdown",
   "metadata": {},
   "source": [
    "***NB*** : \n",
    "\n",
    "* In this particular environment, the past actions and observations can safely be ignored, since each observation contains the environment's full state. If there were some hidden state then you may need to consider past actions and observations in order to try to infer the hidden state of the environment. \n",
    "\n",
    "For example, if the environment only revealed the position of the cart but not its velocity, you would have to consider not only the current observation but also the previous observation in order to estimate the current velocity. Another example is if the observations are noisy: you may want to use the past few observations to estimate the most likely current state. Our problem is thus as simple as can be: the current observation is noise-free and contains the environment's full state."
   ]
  },
  {
   "cell_type": "markdown",
   "metadata": {},
   "source": [
    "### Random neural network policy.\n",
    "Let's see how this neural network policy perform.\n",
    "\n"
   ]
  },
  {
   "cell_type": "code",
   "execution_count": 33,
   "metadata": {},
   "outputs": [
    {
     "name": "stdout",
     "output_type": "stream",
     "text": [
      "Game played : 0. Reward for the last 10 episode: []\n",
      "Game played : 10. Reward for the last 10 episode: [54.0, 61.0, 104.0, 146.0, 82.0, 56.0, 81.0, 110.0, 82.0, 59.0]\n",
      "Game played : 20. Reward for the last 10 episode: [52.0, 92.0, 70.0, 58.0, 75.0, 44.0, 81.0, 45.0, 92.0, 53.0]\n",
      "Game played : 30. Reward for the last 10 episode: [125.0, 58.0, 65.0, 65.0, 48.0, 122.0, 49.0, 62.0, 69.0, 90.0]\n",
      "Game played : 40. Reward for the last 10 episode: [71.0, 54.0, 74.0, 50.0, 69.0, 56.0, 60.0, 103.0, 82.0, 72.0]\n",
      "Game played : 50. Reward for the last 10 episode: [66.0, 78.0, 50.0, 89.0, 70.0, 102.0, 66.0, 47.0, 73.0, 44.0]\n",
      "Game played : 60. Reward for the last 10 episode: [48.0, 115.0, 89.0, 51.0, 54.0, 112.0, 138.0, 109.0, 53.0, 90.0]\n",
      "Game played : 70. Reward for the last 10 episode: [64.0, 73.0, 99.0, 70.0, 43.0, 116.0, 80.0, 76.0, 61.0, 48.0]\n",
      "Game played : 80. Reward for the last 10 episode: [66.0, 53.0, 67.0, 60.0, 45.0, 60.0, 74.0, 107.0, 45.0, 58.0]\n",
      "Game played : 90. Reward for the last 10 episode: [61.0, 131.0, 53.0, 134.0, 90.0, 44.0, 86.0, 102.0, 50.0, 99.0]\n",
      "Over 100 episodes, mean reward: 74, std : 24\n"
     ]
    }
   ],
   "source": [
    "reward_sum = 0\n",
    "num_games = 100       \n",
    "num_game = 0\n",
    "all_reward_sum = []\n",
    "obs = env.reset()\n",
    "reward\n",
    "while num_game < num_games:\n",
    "    p_left = policy_network.predict(np.expand_dims(obs,axis=0))\n",
    "    action = 0 if p_left>0.5 else 1 \n",
    "    obs, reward, done, info = env.step(action)\n",
    "    reward_sum += reward\n",
    "    if done:\n",
    "        if num_game %10 == 0:\n",
    "            print(\"Game played : %d. Reward for the last 10 episode: %s\" %(num_game,all_reward_sum[-10:]) )\n",
    "        all_reward_sum.append(reward_sum)\n",
    "        reward_sum = 0\n",
    "        num_game += 1\n",
    "        env.reset()\n",
    "print(\"Over %d episodes, mean reward: %d, std : %d\" %(num_games, np.mean(all_reward_sum), np.std(all_reward_sum)))"
   ]
  },
  {
   "cell_type": "markdown",
   "metadata": {},
   "source": [
    "Let's randomly initialize this policy neural network and use it to play one game:"
   ]
  },
  {
   "cell_type": "code",
   "execution_count": 36,
   "metadata": {},
   "outputs": [
    {
     "data": {
      "text/html": [
       "<video width=\"432\" height=\"288\" controls autoplay>\n",
       "  <source type=\"video/mp4\" src=\"data:video/mp4;base64,AAAAIGZ0eXBNNFYgAAACAE00ViBpc29taXNvMmF2YzEAAAAIZnJlZQAABwZtZGF0AAACrgYF//+q\n",
       "3EXpvebZSLeWLNgg2SPu73gyNjQgLSBjb3JlIDE2MCByMzAxMSBjZGU5YTkzIC0gSC4yNjQvTVBF\n",
       "Ry00IEFWQyBjb2RlYyAtIENvcHlsZWZ0IDIwMDMtMjAyMCAtIGh0dHA6Ly93d3cudmlkZW9sYW4u\n",
       "b3JnL3gyNjQuaHRtbCAtIG9wdGlvbnM6IGNhYmFjPTEgcmVmPTMgZGVibG9jaz0xOjA6MCBhbmFs\n",
       "eXNlPTB4MzoweDExMyBtZT1oZXggc3VibWU9NyBwc3k9MSBwc3lfcmQ9MS4wMDowLjAwIG1peGVk\n",
       "X3JlZj0xIG1lX3JhbmdlPTE2IGNocm9tYV9tZT0xIHRyZWxsaXM9MSA4eDhkY3Q9MSBjcW09MCBk\n",
       "ZWFkem9uZT0yMSwxMSBmYXN0X3Bza2lwPTEgY2hyb21hX3FwX29mZnNldD0tMiB0aHJlYWRzPTkg\n",
       "bG9va2FoZWFkX3RocmVhZHM9MSBzbGljZWRfdGhyZWFkcz0wIG5yPTAgZGVjaW1hdGU9MSBpbnRl\n",
       "cmxhY2VkPTAgYmx1cmF5X2NvbXBhdD0wIGNvbnN0cmFpbmVkX2ludHJhPTAgYmZyYW1lcz0zIGJf\n",
       "cHlyYW1pZD0yIGJfYWRhcHQ9MSBiX2JpYXM9MCBkaXJlY3Q9MSB3ZWlnaHRiPTEgb3Blbl9nb3A9\n",
       "MCB3ZWlnaHRwPTIga2V5aW50PTI1MCBrZXlpbnRfbWluPTI1IHNjZW5lY3V0PTQwIGludHJhX3Jl\n",
       "ZnJlc2g9MCByY19sb29rYWhlYWQ9NDAgcmM9Y3JmIG1idHJlZT0xIGNyZj0yMy4wIHFjb21wPTAu\n",
       "NjAgcXBtaW49MCBxcG1heD02OSBxcHN0ZXA9NCBpcF9yYXRpbz0xLjQwIGFxPTE6MS4wMACAAAAB\n",
       "lGWIhAA7//73Tr8Cm0WXagOSVwr2yqQmWblSawHypgAAAwAAEbBufJcNeavSJAAArYACODOPhbL1\n",
       "4/wO1/AJ6FGstdQAZa+69IGQ8sqhc2uEINT5uqSuj711DnHJIUiXHZ5JWwwLR8gbl8yHbscSJ6LT\n",
       "D9SUFriSEF3Fnn4jjTF+2H5VFAfB96aRPuv4XtN9pHGooQQ4s1y2vWw5AV5xkb8auzBno/yF/jwQ\n",
       "oSE1lBlBn9xj7qHERS4CkYNwiDWr410UAWrAunV6QpeqxOrBByAmourfVElG+WMYf8rCtDjg4CXU\n",
       "/ARVdmnQKjFKWd7E3aku8DXqOjbi9MRv/V1UsrccIe8JwyngnqVj4UXuxL8Gm5f0Ij0BU6tj7ND0\n",
       "GjNX5XTnj2mUYBpDXv2GWx1bxfEjXS4SEWQ5M7LJyLfoPTGLq803pFGkRrwA4quq4ZpU0+ZKXdFT\n",
       "zj7K+qvPlVlITcbYTN+j1gr4brPO2RGBDrZjwqXVobyOmccIf3ZvR/AFfYIbSV+gB7PsZ6glG5hT\n",
       "AAADABHxAAAATEGaJGxDf/6nhAAFav+NkGFoOQJsIGqtiySzJ/eAEPLdqpzL/8fzfXFMh5P+3exz\n",
       "gtNyVSoyNR2itvbBTUxHuF8O5zMFf3i3Ms5UO1AAAAAjQZ5CeIX/AAM4V+zWf1mpIyCw4waexZ91\n",
       "leMAlFs5hW/lcokAAAAmAZ5hdEK/AAIcJokAQIiIr8/DNQAbH7o2Wwr662H3gh76qjbTbjAAAAAX\n",
       "AZ5jakK/AAIb1FeBvsbUzpY3pyfiAQkAAABYQZpoSahBaJlMCGf//p4QACo+79/CL2g87/nB08AR\n",
       "fvO1iHM5u0nfPuWcjN/VPLXr/nSlMiHLbvXiUZlEZNoXyPP42DENYa1zuLTbDaXH5WWqMlhgaH9w\n",
       "RQAAAD5BnoZFESwv/wAGcT3rW19ACvWvw+OhrxllKVj3OeGjzuq7Av0fZmfVnLkp/eYnIGpb/Aev\n",
       "t25WSJ4PEpyIQQAAACsBnqV0Qr8ACFKpJfrlbAyf1Oj6fm5BES4V7FsRqgA2PpMf0Zf/sjMTxd7h\n",
       "AAAANAGep2pCvwAIUqkgZzS9v2/WUFOsC/OAF0Rs4XP9eCcXV4op0hQmvWMxQn1tRee/CrP2pBAA\n",
       "AABoQZqsSahBbJlMCFf//jhAAFGh/eMPAAcGksShKkOQVvY+8MZvW8cSZDcovVQkInB3pVWJJiKM\n",
       "5GyZYfZeVCdO2T3JMtSzYnfhdBDFfr2NKsGdgNK2V1niyMr8mv/xL6jGc8jPlcGbiH8AAAAzQZ7K\n",
       "RRUsL/8ABnFN83UiuX6wpghI/dvJBnpTcebxWFcnkyqkZIm1Lt6zeGjpkoTxJ6DZAAAAJQGe6XRC\n",
       "vwAERthdyPSgZYYMtA5JxLORzB3W6eWQLmAAz1Bv8YAAAAAjAZ7rakK/AAiuv2g5+sZA1KP9qD4v\n",
       "sWELg4zXsMTekjUV3SYAAAPObW9vdgAAAGxtdmhkAAAAAAAAAAAAAAAAAAAD6AAAAggAAQAAAQAA\n",
       "AAAAAAAAAAAAAAEAAAAAAAAAAAAAAAAAAAABAAAAAAAAAAAAAAAAAABAAAAAAAAAAAAAAAAAAAAA\n",
       "AAAAAAAAAAAAAAAAAAAAAgAAAvh0cmFrAAAAXHRraGQAAAADAAAAAAAAAAAAAAABAAAAAAAAAggA\n",
       "AAAAAAAAAAAAAAAAAAAAAAEAAAAAAAAAAAAAAAAAAAABAAAAAAAAAAAAAAAAAABAAAAAAbAAAAEg\n",
       "AAAAAAAkZWR0cwAAABxlbHN0AAAAAAAAAAEAAAIIAAAEAAABAAAAAAJwbWRpYQAAACBtZGhkAAAA\n",
       "AAAAAAAAAAAAAAAyAAAAGgBVxAAAAAAALWhkbHIAAAAAAAAAAHZpZGUAAAAAAAAAAAAAAABWaWRl\n",
       "b0hhbmRsZXIAAAACG21pbmYAAAAUdm1oZAAAAAEAAAAAAAAAAAAAACRkaW5mAAAAHGRyZWYAAAAA\n",
       "AAAAAQAAAAx1cmwgAAAAAQAAAdtzdGJsAAAAt3N0c2QAAAAAAAAAAQAAAKdhdmMxAAAAAAAAAAEA\n",
       "AAAAAAAAAAAAAAAAAAAAAbABIABIAAAASAAAAAAAAAABAAAAAAAAAAAAAAAAAAAAAAAAAAAAAAAA\n",
       "AAAAAAAAAAAAGP//AAAANWF2Y0MBZAAV/+EAGGdkABWs2UGwloQAAAMABAAAAwDIPFi2WAEABmjr\n",
       "48siwP34+AAAAAAcdXVpZGtoQPJfJE/FujmlG88DI/MAAAAAAAAAGHN0dHMAAAAAAAAAAQAAAA0A\n",
       "AAIAAAAAFHN0c3MAAAAAAAAAAQAAAAEAAAB4Y3R0cwAAAAAAAAANAAAAAQAABAAAAAABAAAKAAAA\n",
       "AAEAAAQAAAAAAQAAAAAAAAABAAACAAAAAAEAAAoAAAAAAQAABAAAAAABAAAAAAAAAAEAAAIAAAAA\n",
       "AQAACgAAAAABAAAEAAAAAAEAAAAAAAAAAQAAAgAAAAAcc3RzYwAAAAAAAAABAAAAAQAAAA0AAAAB\n",
       "AAAASHN0c3oAAAAAAAAAAAAAAA0AAARKAAAAUAAAACcAAAAqAAAAGwAAAFwAAABCAAAALwAAADgA\n",
       "AABsAAAANwAAACkAAAAnAAAAFHN0Y28AAAAAAAAAAQAAADAAAABidWR0YQAAAFptZXRhAAAAAAAA\n",
       "ACFoZGxyAAAAAAAAAABtZGlyYXBwbAAAAAAAAAAAAAAAAC1pbHN0AAAAJal0b28AAAAdZGF0YQAA\n",
       "AAEAAAAATGF2ZjU4LjQ1LjEwMA==\n",
       "\">\n",
       "  Your browser does not support the video tag.\n",
       "</video>"
      ],
      "text/plain": [
       "<IPython.core.display.HTML object>"
      ]
     },
     "execution_count": 36,
     "metadata": {},
     "output_type": "execute_result"
    },
    {
     "data": {
      "image/png": "[encoded data removed]",
      "text/plain": [
       "<Figure size 432x288 with 1 Axes>"
      ]
     },
     "metadata": {
      "needs_background": "light"
     },
     "output_type": "display_data"
    }
   ],
   "source": [
    "frames = []\n",
    "\n",
    "env.reset()    \n",
    "observation, reward, done, _ = env.step(env.action_space.sample())\n",
    "reward_sum = 0        \n",
    "while not(done):\n",
    "    img = env.render(mode = \"rgb_array\")\n",
    "    env.close()\n",
    "    frames.append(img)\n",
    "    reward_sum += reward\n",
    "    p_left = policy_network.predict(np.expand_dims(observation,axis=0))\n",
    "    action = 0 if random.uniform(0,1)< p_left else 1 \n",
    "    observation, reward, done, _ = env.step(action)\n",
    "plt.close()\n",
    "HTML(plot_animation(frames).to_html5_video())"
   ]
  },
  {
   "cell_type": "markdown",
   "metadata": {},
   "source": [
    "The neural network is working. But it's still acting randomly because we do not train the neural network. Let's try to make it learn better policy."
   ]
  },
  {
   "cell_type": "markdown",
   "metadata": {},
   "source": [
    "### Learn a given policy\n",
    "\n",
    "In this part we will train the neural network in order that it learns the simple strategy we hard coded before : if the pole is tilting to the left, then push the cart to the left, and _vice versa_.\n",
    "\n",
    "We start by defining the neural network policy with the same architecture than before. <br>\n",
    "This time we compile this network in order to learn the wanted behaviour"
   ]
  },
  {
   "cell_type": "code",
   "execution_count": 37,
   "metadata": {},
   "outputs": [],
   "source": [
    "policy_network=km.Sequential()\n",
    "policy_network.add(kl.Dense(n_hidden, input_shape = (n_inputs,), activation = \"relu\", kernel_initializer = initializer))\n",
    "policy_network.add(kl.Dense(n_outputs, activation = \"sigmoid\", kernel_initializer = initializer))\n",
    "\n",
    "# apprentissage\n",
    "learning_rate = 0.01\n",
    "adam = ko.Adam(lr = learning_rate)\n",
    "policy_network.compile(loss='binary_crossentropy',optimizer=ko.Adam(lr = learning_rate),metrics=['accuracy'])\n"
   ]
  },
  {
   "cell_type": "markdown",
   "metadata": {},
   "source": [
    "In order to learn this policy we will first define 10 environment that we will play in parallel at each iterations"
   ]
  },
  {
   "cell_type": "code",
   "execution_count": 38,
   "metadata": {},
   "outputs": [],
   "source": [
    "n_environments = 10\n",
    "\n",
    "envs = [gym.make(\"CartPole-v0\") for _ in range(n_environments)]\n",
    "observations = np.array([env.reset() for env in envs])"
   ]
  },
  {
   "cell_type": "markdown",
   "metadata": {},
   "source": [
    "At each iteration we will :\n",
    "\n",
    "* Train the network over observations we have.\n",
    "    *  These observation will be the inputs, and the target will be the expected behavior.\n",
    "* Predict the action according to the neural network policy.\n",
    "\n",
    "**Question** : On the code below, looks how the actions is chosen. Why do we follow this method?"
   ]
  },
  {
   "cell_type": "code",
   "execution_count": 39,
   "metadata": {},
   "outputs": [],
   "source": [
    "n_iterations = 2000\n",
    "for iteration in range(n_iterations):\n",
    "    target_probas = np.array([(1 if obs[2] < 0 else 0) for obs in observations]) # if angle<0 we want proba(left)=1., or else proba(left)=0.\n",
    "    policy_network.train_on_batch(observations, target_probas)  # one batch iteration\n",
    "    \n",
    "    # Generate probablity and observation on ntext step\n",
    "    p_lefts = policy_network.predict(observations)\n",
    "    actions = [0 if random.uniform(0,1)< p_left else 1 for p_left in p_lefts]\n",
    "    \n",
    "    # Compute next state\n",
    "    for env_index, env in enumerate(envs):\n",
    "        obs, reward, done, info = env.step(actions[env_index])\n",
    "        observations[env_index] = obs if not done else env.reset()\n",
    "\n",
    "for env in envs:\n",
    "    env.close()"
   ]
  },
  {
   "cell_type": "code",
   "execution_count": 40,
   "metadata": {},
   "outputs": [
    {
     "name": "stdout",
     "output_type": "stream",
     "text": [
      "Game played : 0. Reward for the last 10 episode: []\n",
      "Game played : 10. Reward for the last 10 episode: [52.0, 40.0, 61.0, 48.0, 51.0, 42.0, 28.0, 48.0, 37.0, 39.0]\n",
      "Game played : 20. Reward for the last 10 episode: [22.0, 38.0, 60.0, 35.0, 23.0, 37.0, 33.0, 27.0, 27.0, 57.0]\n",
      "Game played : 30. Reward for the last 10 episode: [45.0, 25.0, 26.0, 38.0, 55.0, 47.0, 38.0, 53.0, 32.0, 36.0]\n",
      "Game played : 40. Reward for the last 10 episode: [42.0, 32.0, 28.0, 56.0, 31.0, 27.0, 34.0, 51.0, 27.0, 40.0]\n",
      "Game played : 50. Reward for the last 10 episode: [24.0, 50.0, 48.0, 23.0, 53.0, 36.0, 35.0, 57.0, 51.0, 46.0]\n",
      "Game played : 60. Reward for the last 10 episode: [26.0, 41.0, 26.0, 43.0, 25.0, 57.0, 25.0, 33.0, 69.0, 41.0]\n",
      "Game played : 70. Reward for the last 10 episode: [27.0, 52.0, 30.0, 38.0, 23.0, 36.0, 38.0, 32.0, 38.0, 66.0]\n",
      "Game played : 80. Reward for the last 10 episode: [33.0, 45.0, 49.0, 47.0, 26.0, 32.0, 40.0, 37.0, 53.0, 39.0]\n",
      "Game played : 90. Reward for the last 10 episode: [35.0, 47.0, 39.0, 29.0, 39.0, 55.0, 25.0, 27.0, 45.0, 50.0]\n",
      "Over 100 episodes, mean reward: 38, std : 10\n"
     ]
    }
   ],
   "source": [
    "reward_sum = 0\n",
    "num_games = 100       \n",
    "num_game = 0\n",
    "all_reward_sum = []\n",
    "obs = env.reset()\n",
    "reward\n",
    "while num_game < num_games:\n",
    "    # hard-coded policy\n",
    "    p_left = policy_network.predict(np.expand_dims(obs,axis=0))\n",
    "    action = 0 if random.uniform(0,1)< p_left else 1 \n",
    "    obs, reward, done, info = env.step(action)\n",
    "    reward_sum += reward\n",
    "    if done:\n",
    "        if num_game %10 == 0:\n",
    "            print(\"Game played : %d. Reward for the last 10 episode: %s\" %(num_game,all_reward_sum[-10:]) )\n",
    "        all_reward_sum.append(reward_sum)\n",
    "        reward_sum = 0\n",
    "        num_game += 1\n",
    "        env.reset()\n",
    "print(\"Over %d episodes, mean reward: %d, std : %d\" %(num_games, np.mean(all_reward_sum), np.std(all_reward_sum)))"
   ]
  },
  {
   "cell_type": "code",
   "execution_count": 41,
   "metadata": {},
   "outputs": [
    {
     "data": {
      "text/html": [
       "<video width=\"432\" height=\"288\" controls autoplay>\n",
       "  <source type=\"video/mp4\" src=\"data:video/mp4;base64,AAAAIGZ0eXBNNFYgAAACAE00ViBpc29taXNvMmF2YzEAAAAIZnJlZQAAEIhtZGF0AAACrgYF//+q\n",
       "3EXpvebZSLeWLNgg2SPu73gyNjQgLSBjb3JlIDE2MCByMzAxMSBjZGU5YTkzIC0gSC4yNjQvTVBF\n",
       "Ry00IEFWQyBjb2RlYyAtIENvcHlsZWZ0IDIwMDMtMjAyMCAtIGh0dHA6Ly93d3cudmlkZW9sYW4u\n",
       "b3JnL3gyNjQuaHRtbCAtIG9wdGlvbnM6IGNhYmFjPTEgcmVmPTMgZGVibG9jaz0xOjA6MCBhbmFs\n",
       "eXNlPTB4MzoweDExMyBtZT1oZXggc3VibWU9NyBwc3k9MSBwc3lfcmQ9MS4wMDowLjAwIG1peGVk\n",
       "X3JlZj0xIG1lX3JhbmdlPTE2IGNocm9tYV9tZT0xIHRyZWxsaXM9MSA4eDhkY3Q9MSBjcW09MCBk\n",
       "ZWFkem9uZT0yMSwxMSBmYXN0X3Bza2lwPTEgY2hyb21hX3FwX29mZnNldD0tMiB0aHJlYWRzPTkg\n",
       "bG9va2FoZWFkX3RocmVhZHM9MSBzbGljZWRfdGhyZWFkcz0wIG5yPTAgZGVjaW1hdGU9MSBpbnRl\n",
       "cmxhY2VkPTAgYmx1cmF5X2NvbXBhdD0wIGNvbnN0cmFpbmVkX2ludHJhPTAgYmZyYW1lcz0zIGJf\n",
       "cHlyYW1pZD0yIGJfYWRhcHQ9MSBiX2JpYXM9MCBkaXJlY3Q9MSB3ZWlnaHRiPTEgb3Blbl9nb3A9\n",
       "MCB3ZWlnaHRwPTIga2V5aW50PTI1MCBrZXlpbnRfbWluPTI1IHNjZW5lY3V0PTQwIGludHJhX3Jl\n",
       "ZnJlc2g9MCByY19sb29rYWhlYWQ9NDAgcmM9Y3JmIG1idHJlZT0xIGNyZj0yMy4wIHFjb21wPTAu\n",
       "NjAgcXBtaW49MCBxcG1heD02OSBxcHN0ZXA9NCBpcF9yYXRpbz0xLjQwIGFxPTE6MS4wMACAAAAB\n",
       "ZWWIhAA7//73Tr8Cm0WXagOSVwr2yqQmWblSawHypgAAAwAAEbBufJcNeavSJAAArYACODOPhbL1\n",
       "EzAm40SjAS9wVF/l11hSkCSvO48ZzB3BfEMILb+pZl6AUzG9DIHFQCv9xR9HcZpqY6ybMiNwwLyO\n",
       "Act4d2lrG7NEGTju4pPEsbUGQY+fdCpsIbRsvQ3RGjiSyee71zgryGLd37Hkn9uiBdoEtZEQoNSb\n",
       "3u6ZFpVKLXhWDgGx5QyiaL+TtTIszJE103xR3iowzvaU/1wEr9g5yGyZGpviaLzr7FoIyE3jI1NG\n",
       "ohG8r1ulVo6F9T0m2rIICHkOg+O1MI1WHw9uRTNpOAsCfi97ERyAOtFsOGMF8JbDruj+XIZ3uIT1\n",
       "26idlc2L31JJU/Tm5UmmcmqtvJ/Td7+AEbtN8sl/t+6ZID7WYPYQLwOLxDVlV1bktIH0yIHxuA+R\n",
       "i1YJ3Q5aGSAkkAsgAAAEBQAAAJtBmiRsQ3/+p4QACsbK1mAJdIOTyNqpvaCv9jYmrzA/4r9ytEhO\n",
       "7J4Tmc2GYMyvz7HbkPMdX81l1axRxjW5LCGGkprG8c7KbUTaeWZS3eEszKfRUY4XYBN/Yi4v3kbf\n",
       "yMHWJAfKm5P21/CO1N1n/d6WjJsaOhr9DbVOyj7l07knBn5kS9FJkyw0nVIFHHgAREAAAPnpCH/x\n",
       "SMYUgAAAAC5BnkJ4hf8ABm/cXCok8GoZ9ghlbEQCU9EWDfadOFWO76/EMS/oIrOdUDCYDk5LAAAA\n",
       "FAGeYXRCvwABFXQib2Tup3NPwqbMAAAAHAGeY2pCvwAIrruXzULxnjtZMETzD35sSmsShcEAAACM\n",
       "QZpmSahBaJlMFPDf/qeEAAVkDNukAcZpaIHw8gsFsNKAaKSeedsUSyT23o3gxEugoay8VILZE783\n",
       "KPXuRqgBQhJlUl3ApES3THU1yfbA0Uamq//WjVQJ7LiOZzcVzk8YdiuzwdfXSAraJAgn/LSRej4V\n",
       "VvuzHULcB9nLjnrfPVkzz0VqqNGkmakESFUAAAApAZ6FakK/AAIbJDSjWWKYl33XtAKSKupPsaT5\n",
       "YetC+UMZf1no7tYjSa0AAAAcQZqJSeEKUmUwIb/+p4QACseAiclkiZLTM6+W0QAAACRBnqdFNEwr\n",
       "/wACKXMC6miV+2YIoTySAFjRjfO26iP3bkXS1TAAAAAVAZ7IakK/AAIrr+If0kwzw7hdkc7AAAAA\n",
       "l0GazEmoQWiZTAhv//6nhAAKxhDyS7aWufd5sNAF8i1TKIPj4XqDIoCb7LoQHYzOzDv/dOKVznvC\n",
       "qOjOJnMpbVSOcTjuCPoy9jJ4Umh8Cbju5Rus8IZ1cjJIL5lNVI1IObxjK10ZrGUhvAZs8DoQdnSI\n",
       "2bi+7b5JtRfdAsPUJA5NGhdAcc7mogeEaTjSikZgMBRyU7DpRqEAAAA9QZ7qRREsK/8ACK+n0mSj\n",
       "Ql9HOgLcptrm7ET9wWAQqvUphZwev1SP/fPMGQ9thzpuoxGDKZHwdCOxjZv4QQAAACcBnwtqQr8A\n",
       "CK67l9EMVqnjx/u9l5UkX8ErVq7qboCxzFbcV5t8QSwAAABxQZsNSahBbJlMCHf//qmWAAVLUaT6\n",
       "W722NMZOn18V5rkksPvvNRPs5wevPVhpI9iIBxv1HJ0HjRGrtqDNTv3A2AR6l6kpAIfNjJeK2Osw\n",
       "rOpDQgKyCvcEnFBSCYOvNNGwoGlkERaWmlbJzoQQv+XiQoEAAACkQZsvSeEKUmUwUVLDv/6plgAF\n",
       "d+AaD+FWGLsUAP1GJ0BcoeXBqfzfG6zQrO/pBKn70pNKOdO20NpP7bA+bdFZJiSK1amIPRg3/rus\n",
       "4QF6sQiYCxxC4CsLvygKTMGxE1DrctTsF1ixT5hb78FZG/q4iv7J0vPG5tekzBIyUGdineX9T6OH\n",
       "MAcr5woxXtAvdya8FLyo3PIb1Tr07AbKi2vn+1WFZmEAAAAfAZ9OakK/AAQ0fs040SmEe4sGnuk+\n",
       "EYARu1MVUc0GQQAAAG9Bm1NJ4Q6JlMCHf/6plgACukdQApsAPybBlQb1cyO0IZCSS8QkC7tK9RTc\n",
       "CcRyJwHZhQReqUPGxlbLlX/pfuRuSn3hzmtmIDNOfGvL01LZqs+8ngooT7YsCcka7A6bOJqHdrhu\n",
       "Ga3PxSpGF5f2nBAAAAApQZ9xRRU8L/8AAzcbts0FAvRDT0VQZQkx8w55vEHQr/ryAFZAPdH2g04A\n",
       "AAAcAZ+QdEK/AAQ2KKlB8iBd8HiWGm0ChJzuIU/QuQAAABQBn5JqQr8AARXX8R/kTHZfzFyhSAAA\n",
       "AItBm5dJqEFomUwId//+qZYABW+QtAFBuPCmq2+sCaFi+Pd3O0rzQdRlv42eUsymr9CF76qBmiF6\n",
       "cesyXXfHdakNz8zEVQ3qQhN99qmKZV6LBHiAH3oU7zZ42e6ERkSTqOGSykOV/KQ7SF4hUh+a7chA\n",
       "Dn3TMU1m3/v+sief0VPMDhJ+w0Kv57W5aPk8AAAALkGftUURLC//AAZHhiZYtNPsAiSGxK60dWsB\n",
       "y5CPI1VGD2l8acTuW73rSlbwKYEAAAAmAZ/UdEK/AAIsIVq8KOa4kLjxxylaaAUriXIAMswAJXzo\n",
       "gNp/0kAAAAAsAZ/WakK/AAisQtv1NTLkg16rlbdlG6kOikrtxvBTfzD2kIAOaAAL5bJdAIEAAAC0\n",
       "QZvbSahBbJlMCHf//qmWAAV34Bw4DvLdr8AIxjh6qjSaJ0GjooEBX/ZXQslC4R7ROvLgIqFoQmG6\n",
       "H0AQ9v1l3UFuKuXt+lELEWlMM3iPGkgyVTduxaZ9sYcb2Tgq9o24BP+PL93eGBZlfxB5hENxO06J\n",
       "100RIloI8YPYLlhvOmX/MdDaE21Hbs0Mf/tDlVbQqLVmaSZXMuR64wwhTAtb7anF0UYxUnw4yuag\n",
       "Kbv7Oig5jLpNAAAAaEGf+UUVLC//AAZwUZAiXRv6ho4ciwXUalaH2qVh/0WHNJlXruBV3u4tPB8G\n",
       "LN1xpSuarz7eBaOUB9Wq0E6LBekrM+tD+Kja207GBRu5YjJ7mBVLhXmb7BSChEVyAoqLlT/A7PzG\n",
       "rkywAAAAMQGeGHRCvwAIq5sanhHOyiDxCYpsEAK6KEuysIsJc6P3WKVUxGhDGgHtGDptIuHosykA\n",
       "AAAkAZ4aakK/AAiSqORBmS6lYiIeN4bhYX1rO5Q5ea9D/wkcCOhAAAAAo0GaH0moQWyZTAh3//6p\n",
       "lgACumUXl9M4AOEOGY/5zh9tjlTTWbeZ+1fYTuv8L9nPutsb0VXuolnlx7AvL0vSrESnFlfjR1jL\n",
       "cwv8rmvMR3Tb2HCV/XUnnJSvGwiQY0K6eFucrHzhEO47vckz6tLgz2YHRXYsRvkO66BEh+U+yuck\n",
       "QUhe/oquHQspjTHko+L09xjzQy3688/k4Uk4KWZsb+f/emEAAAAlQZ49RRUsL/8AAZwzlEVXNr+M\n",
       "CahyRAGfcNpn710Fn8/0Q1cE+wAAAB8Bnlx0Qr8ACFKpF3nkKfJitPRRSMt9H+y3qyMfDojTAAAA\n",
       "GwGeXmpCvwAIUqkWFCQJ4xZqx+UkGgA+P2CvgAAAAFhBmkNJqEFsmUwIb//+p4QABWIgAIemZ58h\n",
       "yuKGxZrpkDbmp+QK2/gcAAtSD7B9M8N1BL3Ud5RZgDKLlck0qMgAX1Z6tjuGs9HtqOI4GO3o6gsk\n",
       "mevSVp/BAAAAIkGeYUUVLC//AAY3c7KX/uKsANvth3l6pHboUbxYll6mLWAAAAAXAZ6AdEK/AAhr\n",
       "okolaHGvoeMv1+V++kkAAAAaAZ6CakK/AAhuv+U0IRe2qlz1Bq7Zn2XDGX4AAACCQZqHSahBbJlM\n",
       "CGf//p4QACn67FxrH7YABwVJr47xNTz5LG1gDAs49dF2gSosDjMM3zCqimhsYCyjsdiQzfeJ5kGL\n",
       "herFIeL+It3SbrF4CiooIpJeD2facOauf4YRvQdDRXLkF+axj4821/MDveaCOPTPRDdNHRI9iNxz\n",
       "YH1DEvap0QAAAD1BnqVFFSwv/wAGX3OYc638rPPyczrgPcs5OhNed3n/m0JGl8J/tHbucJmfqrl0\n",
       "eAnKDs4T9CloUeoJ2SHhAAAAIAGexHRCvwAIa6Hr1I8EWbSu9pa09yL+8t87zG8V+bEDAAAALgGe\n",
       "xmpCvwAIbsAOO+/gk6eb535Xg3zTSq7DL4AEp9+LCFiUhYmtoQ0BXGKZzEEAAAB6QZrJSahBbJlM\n",
       "FEwz//6eEAAp/p7p09DJ8nACGhvjKfeI6cfmgPTSoeGfdwx2jmmLam8hau0ET02q1JgOSXhJn3p+\n",
       "DtihNbJnginZ4oH9SS51577fbL9kcTvlRORzH63yflce0DqRC0H3ku+NHfTuDdK6WoEqpDXhtoAA\n",
       "AAAxAZ7oakK/AAiufnSSGwCBsHT9dD6zNbk4nTUcjV254a4I7dd6M3XSMDJxk3MPHymwQAAAAGVB\n",
       "muxJ4QpSZTAhX/44QACf+1uH8A/sAkACVLXCTqUg3g8Af9rbYJmrZ2LJEu3dC0HeHmX5TlRfhcx+\n",
       "Rnk8axFhp6GN4j6gS3agTgqxN8Z14uW97O4Mm3browSEcAZt0x/TB1BXwQAAAEFBnwpFNEwr/wAI\n",
       "r6rlFLhQTTG5GwrTjZ5pEO2w+ZitYilOvUdf5M3lqD6wgBMeH8+ueTwMlh7/KTYDWfseFMdCWAAA\n",
       "ADQBnytqQr8ABFSDnzwAJZNMjQu7DUeDH43dKG+aQW5hnNFhbuDvbk0UqeGwcAYpmA2fP1swAAAF\n",
       "Nm1vb3YAAABsbXZoZAAAAAAAAAAAAAAAAAAAA+gAAAcIAAEAAAEAAAAAAAAAAAAAAAABAAAAAAAA\n",
       "AAAAAAAAAAAAAQAAAAAAAAAAAAAAAAAAQAAAAAAAAAAAAAAAAAAAAAAAAAAAAAAAAAAAAAAAAAIA\n",
       "AARgdHJhawAAAFx0a2hkAAAAAwAAAAAAAAAAAAAAAQAAAAAAAAcIAAAAAAAAAAAAAAAAAAAAAAAB\n",
       "AAAAAAAAAAAAAAAAAAAAAQAAAAAAAAAAAAAAAAAAQAAAAAGwAAABIAAAAAAAJGVkdHMAAAAcZWxz\n",
       "dAAAAAAAAAABAAAHCAAABAAAAQAAAAAD2G1kaWEAAAAgbWRoZAAAAAAAAAAAAAAAAAAAMgAAAFoA\n",
       "VcQAAAAAAC1oZGxyAAAAAAAAAAB2aWRlAAAAAAAAAAAAAAAAVmlkZW9IYW5kbGVyAAAAA4NtaW5m\n",
       "AAAAFHZtaGQAAAABAAAAAAAAAAAAAAAkZGluZgAAABxkcmVmAAAAAAAAAAEAAAAMdXJsIAAAAAEA\n",
       "AANDc3RibAAAALdzdHNkAAAAAAAAAAEAAACnYXZjMQAAAAAAAAABAAAAAAAAAAAAAAAAAAAAAAGw\n",
       "ASAASAAAAEgAAAAAAAAAAQAAAAAAAAAAAAAAAAAAAAAAAAAAAAAAAAAAAAAAAAAAABj//wAAADVh\n",
       "dmNDAWQAFf/hABhnZAAVrNlBsJaEAAADAAQAAAMAyDxYtlgBAAZo6+PLIsD9+PgAAAAAHHV1aWRr\n",
       "aEDyXyRPxbo5pRvPAyPzAAAAAAAAABhzdHRzAAAAAAAAAAEAAAAtAAACAAAAABRzdHNzAAAAAAAA\n",
       "AAEAAAABAAABYGN0dHMAAAAAAAAAKgAAAAEAAAQAAAAAAQAACgAAAAABAAAEAAAAAAEAAAAAAAAA\n",
       "AQAAAgAAAAABAAAGAAAAAAEAAAIAAAAAAQAACAAAAAACAAACAAAAAAEAAAgAAAAAAgAAAgAAAAAB\n",
       "AAAEAAAAAAEAAAYAAAAAAQAAAgAAAAABAAAKAAAAAAEAAAQAAAAAAQAAAAAAAAABAAACAAAAAAEA\n",
       "AAoAAAAAAQAABAAAAAABAAAAAAAAAAEAAAIAAAAAAQAACgAAAAABAAAEAAAAAAEAAAAAAAAAAQAA\n",
       "AgAAAAABAAAKAAAAAAEAAAQAAAAAAQAAAAAAAAABAAACAAAAAAEAAAoAAAAAAQAABAAAAAABAAAA\n",
       "AAAAAAEAAAIAAAAAAQAACgAAAAABAAAEAAAAAAEAAAAAAAAAAQAAAgAAAAABAAAGAAAAAAEAAAIA\n",
       "AAAAAQAACAAAAAACAAACAAAAABxzdHNjAAAAAAAAAAEAAAABAAAALQAAAAEAAADIc3RzegAAAAAA\n",
       "AAAAAAAALQAABBsAAACfAAAAMgAAABgAAAAgAAAAkAAAAC0AAAAgAAAAKAAAABkAAACbAAAAQQAA\n",
       "ACsAAAB1AAAAqAAAACMAAABzAAAALQAAACAAAAAYAAAAjwAAADIAAAAqAAAAMAAAALgAAABsAAAA\n",
       "NQAAACgAAACnAAAAKQAAACMAAAAfAAAAXAAAACYAAAAbAAAAHgAAAIYAAABBAAAAJAAAADIAAAB+\n",
       "AAAANQAAAGkAAABFAAAAOAAAABRzdGNvAAAAAAAAAAEAAAAwAAAAYnVkdGEAAABabWV0YQAAAAAA\n",
       "AAAhaGRscgAAAAAAAAAAbWRpcmFwcGwAAAAAAAAAAAAAAAAtaWxzdAAAACWpdG9vAAAAHWRhdGEA\n",
       "AAABAAAAAExhdmY1OC40NS4xMDA=\n",
       "\">\n",
       "  Your browser does not support the video tag.\n",
       "</video>"
      ],
      "text/plain": [
       "<IPython.core.display.HTML object>"
      ]
     },
     "execution_count": 41,
     "metadata": {},
     "output_type": "execute_result"
    },
    {
     "data": {
      "image/png": "[encoded data removed]",
      "text/plain": [
       "<Figure size 432x288 with 1 Axes>"
      ]
     },
     "metadata": {
      "needs_background": "light"
     },
     "output_type": "display_data"
    }
   ],
   "source": [
    "frames = []\n",
    "\n",
    "env.reset()    \n",
    "observation, reward, done, _ = env.step(env.action_space.sample())\n",
    "reward_sum = 0        \n",
    "while not(done):\n",
    "    img = env.render(mode = \"rgb_array\")\n",
    "    env.close()\n",
    "    frames.append(img)\n",
    "    reward_sum += reward\n",
    "    p_left = policy_network.predict(np.expand_dims(observation,axis=0))\n",
    "    action = 0 if random.uniform(0,1)< p_left else 1 \n",
    "    observation, reward, done, _ = env.step(action)\n",
    "plt.close()\n",
    "HTML(plot_animation(frames).to_html5_video())"
   ]
  },
  {
   "cell_type": "markdown",
   "metadata": {},
   "source": [
    "Looks like it learned the policy correctly! <br>\n",
    "\n",
    "Let's now reach our final target : The neural network has to find a better policy by its own."
   ]
  },
  {
   "cell_type": "markdown",
   "metadata": {},
   "source": [
    "# Policy Gradients"
   ]
  },
  {
   "cell_type": "markdown",
   "metadata": {},
   "source": [
    "The idea behind *Policy Gradients* its quite simple : The _Policy Gradients_ algorithm tackles this problem by first playing multiple games, then making the actions in good games slightly more likely, while actions in bad games are made slightly less likely. First we play, then we go back and think about what we did.\n",
    "\n",
    "### Algorithm\n",
    "\n",
    "* Run an episode untill it's done and save at each iteration the observation, action and reward.\n",
    "* When an episode it's done. Compute the discounted rewards for all the episode, and save it.\n",
    "* If you have done *batch_size=50* episodes train your model on this batch.\n",
    "* Stop if you have reach *num episodes* or *goal* target."
   ]
  },
  {
   "cell_type": "markdown",
   "metadata": {},
   "source": [
    "\n",
    "### Parameters\n",
    "\n",
    "| Variable  | Value  | Description  | \n",
    "|---|---|---|\n",
    "|Gamma   | 0.99  | The discounted rate apply for the discounted reward  |\n",
    "|batch_size  | 50   | Number of episode to run before training model on a batch of episode  |\n",
    "| Num episodes | 10.000   | Maximum number of episode to run before stopping the training  | \n",
    "| goal | 190  | Number of step to achieve on one episode to stop the training.  |\n",
    "\n",
    "Those parameters are fixed for this TP, they are common value for this kind of problem based on experiences. They are not definitive nor results or any research."
   ]
  },
  {
   "cell_type": "markdown",
   "metadata": {},
   "source": [
    "### Discounted rewards\n"
   ]
  },
  {
   "cell_type": "markdown",
   "metadata": {},
   "source": [
    "To train this neural network we will then used the observation of the experiences as an inputs and the actions taken as an output.\n",
    "\n",
    "But how do we provide to the neural network the information the choosen actions  was good or bad?\n",
    "The problem is that most actions have delayed effects, so when you win or lose points in a game, it is not clear which actions contributed to this result: was it just the last action? Or the last 10? Or just one action 50 steps earlier? <br>\n",
    "This is called the _credit assignment problem_.\n",
    "\n",
    "\n",
    "To tackle this problem, a common strategy is to evaluate an action based on the sum of all the rewards that come after it, usually applying a discount rate r at each step. \n",
    "This rate will the be applied to the loss function of the neural network :\n",
    "* A high discounted reward will lead to higher gradient which will increase the importance of this action\n",
    "* A low  discounted reward will lead to lower gradient which will decrease the importance of this action\n",
    " \n",
    "\n",
    "**Exercise** : Implement the discount_rewards function."
   ]
  },
  {
   "cell_type": "code",
   "execution_count": 42,
   "metadata": {},
   "outputs": [],
   "source": [
    "def discount_rewards(r, gamma=0.99):\n",
    "    \"\"\"Takes 1d float array of rewards and computes discounted reward\n",
    "    e.g. f([1, 1, 1], 0.99) -> [2.9701, 1.99, 1]\n",
    "    \"\"\"\n",
    "    TODO\n",
    "    return discounted_rewards"
   ]
  },
  {
   "cell_type": "code",
   "execution_count": 43,
   "metadata": {},
   "outputs": [
    {
     "data": {
      "text/plain": [
       "array([-22., -40., -50.])"
      ]
     },
     "execution_count": 43,
     "metadata": {},
     "output_type": "execute_result"
    }
   ],
   "source": [
    "import numpy as np\n",
    "# %load solutions/exercise_1_4.py\n",
    "def discount_rewards(r, gamma=0.99):\n",
    "    \"\"\"Takes 1d float array of rewards and computes discounted reward\n",
    "    e.g. f([1, 1, 1], 0.99) -> [2.9701, 1.99, 1]\n",
    "    \"\"\"\n",
    "    prior = 0\n",
    "    out = []\n",
    "    for val in r:\n",
    "        new_val = val + prior * gamma\n",
    "        out.append(new_val)\n",
    "        prior = new_val\n",
    "    discounted_rewards = np.array(out[::-1])\n",
    "    return discounted_rewards\n",
    "discount_rewards([-50,0,10], 0.8)"
   ]
  },
  {
   "cell_type": "markdown",
   "metadata": {},
   "source": [
    "### Architecture & Loss Function\n",
    "\n",
    "As before we will define a very simple architecture to our neural network : A MLP with only one hidden layer and 8 neurons.\n",
    "\n",
    "We have to be aware here that the neural network will have two different behaviour :\n",
    "\n",
    "* For training: the model will take two information as an input : The observations (to predict the action), and the discounted rate (also call advantages) that will be applied on the loss function.\n",
    "* For prediction : the model will take only the observations as an input to predict the action.\n",
    "\n",
    "So we have to define a neural network that can either handle one or two inputs! \n",
    "\n",
    "In keras we define it that way : we define the layers, and we create two models (for training and prediction) that will share the same layers and weight.\n",
    "\n",
    "We will also implement the loss function, which is weighted binary cross entropy, where the weight are the discounted rated computed from the rewards\n",
    "\n",
    "Here is how we implement it : (Make sure you understand it!) "
   ]
  },
  {
   "cell_type": "code",
   "execution_count": 44,
   "metadata": {},
   "outputs": [],
   "source": [
    "def generate_train_predict_network(hidden_layer_neurons, dimen, lr = 1e-2, initializer = ki.VarianceScaling()):\n",
    "    num_actions = 1\n",
    "    inp = kl.Input(shape=dimen,name=\"input_x\")\n",
    "    adv = kl.Input(shape=[1], name=\"advantages\")\n",
    "    x = kl.Dense(hidden_layer_neurons,  activation=\"relu\",\n",
    "                     use_bias=False,\n",
    "                     kernel_initializer=initializer,\n",
    "                     name=\"dense_1\")(inp)\n",
    "    out = kl.Dense(num_actions,\n",
    "                       activation=\"sigmoid\",\n",
    "                       kernel_initializer=initializer,\n",
    "                       use_bias=False,\n",
    "                       name=\"out\")(x)\n",
    "\n",
    "    model_train = km.Model(inputs=[inp, adv], outputs=out)\n",
    "    model_predict = km.Model(inputs=[inp], outputs=out)\n",
    "\n",
    "    def my_custom_loss(y_true, y_pred):\n",
    "        log_lik = - (y_true * K.log(y_pred) + (1 - y_true) * K.log(1 - y_pred))\n",
    "        return K.mean(log_lik * adv, keepdims=True)\n",
    "\n",
    "    model_train.compile(loss=my_custom_loss, optimizer=ko.Adam(lr))\n",
    "    return model_train, model_predict\n"
   ]
  },
  {
   "cell_type": "markdown",
   "metadata": {},
   "source": [
    "This function is very similar than the code use before to compute how our model perform."
   ]
  },
  {
   "cell_type": "code",
   "execution_count": 45,
   "metadata": {},
   "outputs": [],
   "source": [
    "# See our trained bot in action\n",
    "def score_model(model, num_tests, dimen, render=False):\n",
    "    scores = []\n",
    "    for num_test in range(num_tests):\n",
    "        observation = env.reset()\n",
    "        reward_sum = 0\n",
    "        while True:\n",
    "            if render:\n",
    "                env.render()\n",
    "\n",
    "            state = np.reshape(observation, [1, dimen])\n",
    "            predict = model.predict([state])[0]\n",
    "            action = 0 if predict>0.5 else 1\n",
    "            observation, reward, done, _ = env.step(action)\n",
    "            reward_sum += reward\n",
    "            if done:\n",
    "                break\n",
    "        scores.append(reward_sum)\n",
    "    env.close()\n",
    "    return np.mean(scores)"
   ]
  },
  {
   "cell_type": "markdown",
   "metadata": {},
   "source": [
    "### PG class\n",
    "\n",
    "Let's know write our algorithm without a `PG` class.\n",
    "\n",
    "Firs let's have a look at the `train` function which can be described with the following psuedo-code:\n",
    "\n",
    "* Initialize all variables and envrionment\n",
    "* While number of episode max is not reached or if our ***goal*** is not achieve:\n",
    "    * Run one step within the environment\n",
    "    * If we ended an episode:\n",
    "        * If we have reached ***batch_size*** episode generated: \n",
    "            * Train the episode\n",
    "        * If we have reached the ***print_every*** number of episode generated: \n",
    "            * print score and see if we have achieves our ***goal*** on the last ***n_test*** episode\n",
    "        * Increase number of episodes\n",
    "        \n",
    "**Exercise**  Complete the class below to in order to train the neural network with PG policy.\n",
    "\n",
    "1. Pay attention to all the parameters define in the init and make sure you understand it.\n",
    "2. Look at the train function to understand how the \"pseudo-code\" should workK\n",
    "3. Go inside *run_one_step_epsiode* and the *run_one_batch_train* functions and complete the code where you'll find a TODO mark in order to make the function train work!"
   ]
  },
  {
   "cell_type": "code",
   "execution_count": null,
   "metadata": {},
   "outputs": [],
   "source": [
    "class PG:\n",
    "\n",
    "    def __init__(self, gamma = .99, batch_size = 50, num_episodes = 10000, goal = 190, n_test = 10, print_every = 100):\n",
    "\n",
    "        self.gamma = gamma      # -> Discounted reward\n",
    "        self.batch_size = batch_size  # -> Size of episode before training on a batch\n",
    "\n",
    "        # Stop factor\n",
    "        self.num_episodes = num_episodes # Max number of iterations\n",
    "        self.goal = goal                 # Stop if our network achieve this goal over *n_test*\n",
    "        self.n_test = n_test             # Number of test to run to evaluate if our goal si achieve.\n",
    "\n",
    "        self.print_every = print_every  #Number of episode before trying if our model perform well.\n",
    "\n",
    "    def run_one_step_episode(self, observation):\n",
    "        # Generate state and action for the current iteration\n",
    "        TODO\n",
    "        \n",
    "        # Append the observations and outputs for learning to the states and actions placeholder\n",
    "        TODO\n",
    "        \n",
    "        # Determine the new outcome of the action generated\n",
    "        TODO\n",
    "        \n",
    "        # Append the rewards for learning to the rewards place older\n",
    "        TODO\n",
    "\n",
    "        # If the episode if Over\n",
    "        if done:\n",
    "            # Computed the discounted rewards for this episode\n",
    "            TODO\n",
    "\n",
    "            # Append the discounted rewards for learning and reset the rewards placeholder for the ne episode\n",
    "            TODO\n",
    "        return observation, reward, done\n",
    "    \n",
    "\n",
    "    def run_one_batch_train(self):\n",
    "        # Normalize the discounted rewards\n",
    "        self.discounted_rewards -= self.discounted_rewards.mean()\n",
    "        self.discounted_rewards /= self.discounted_rewards.std()\n",
    "        self.discounted_rewards = self.discounted_rewards.squeeze()\n",
    "        \n",
    "        # Train the \"model_train\" models on the batch of episodes generated and save loss to the losses placehoder\n",
    "        # Use the \"train_on_batch\" method from keros to train the model on a single batch\n",
    "        TODO\n",
    "        \n",
    "        # Do not forget to clear place holder variable for next batch train\n",
    "        TODO\n",
    "\n",
    "    def print_status(self, num_episode, reward_sum, score):\n",
    "        # Print status\n",
    "        print(\n",
    "            \"Average reward for training episode {}: {:0.2f} Test Score of {:d} episode: {:0.2f} Loss: {:0.6f} \".format(\n",
    "                (num_episode + 1), reward_sum / self.print_every, self.n_test,\n",
    "                score,\n",
    "                self.losses[-1]))\n",
    "        return score\n",
    "\n",
    "    def train(self):\n",
    "\n",
    "        # Setting up our environment\n",
    "        observation = env.reset()\n",
    "        self.dimen = env.reset().shape[0]\n",
    "\n",
    "\n",
    "        # Placeholders for our observations, outputs and rewards\n",
    "        self.states = np.empty(0).reshape(0, self.dimen)\n",
    "        self.actions = np.empty(0).reshape(0, 1)\n",
    "        self.rewards = np.empty(0).reshape(0, 1)\n",
    "        self.discounted_rewards = np.empty(0).reshape(0, 1)\n",
    "        self.losses = []\n",
    "\n",
    "\n",
    "        num_episode = 0\n",
    "        reward_sum = 0 # # For display info\n",
    "\n",
    "        self.model_train, self.model_predict = generate_train_predict_network(hidden_layer_neurons=9, dimen=(self.dimen,))\n",
    "\n",
    "        while num_episode < self.num_episodes:\n",
    "            observation, reward, done = self.run_one_step_episode(observation)\n",
    "            reward_sum += reward\n",
    "\n",
    "            # If the episode if Over and ifwe have reach 50=batch_size episodes run training for the build batch\n",
    "            if done:\n",
    "                if (num_episode + 1) % self.batch_size == 0:\n",
    "                    self.run_one_batch_train()\n",
    "\n",
    "                # Print results periodically\n",
    "                if (num_episode + 1) % self.print_every == 0:\n",
    "                    score = score_model(self.model_predict, self.n_test, self.dimen)\n",
    "                    self.print_status(num_episode, reward_sum, score)\n",
    "                    reward_sum = 0\n",
    "                    if score >= self.goal:\n",
    "                        print(\"Solved in {} episodes!\".format(num_episode))\n",
    "                        break\n",
    "\n",
    "                num_episode += 1\n",
    "                observation = env.reset()"
   ]
  },
  {
   "cell_type": "code",
   "execution_count": null,
   "metadata": {},
   "outputs": [],
   "source": [
    "# %load solutions/exercise_1_5.py"
   ]
  },
  {
   "cell_type": "markdown",
   "metadata": {},
   "source": [
    "### Training"
   ]
  },
  {
   "cell_type": "markdown",
   "metadata": {},
   "source": [
    "Let's train the model !"
   ]
  },
  {
   "cell_type": "code",
   "execution_count": null,
   "metadata": {},
   "outputs": [],
   "source": [
    "pg = PG()\n",
    "pg.train()"
   ]
  },
  {
   "cell_type": "markdown",
   "metadata": {},
   "source": [
    "**Exercise** \n",
    "\n",
    "* Use the model to play 100 games and check how it performs compare to previous policy tested\n",
    "* Register a video of a game and display it"
   ]
  },
  {
   "cell_type": "code",
   "execution_count": null,
   "metadata": {},
   "outputs": [],
   "source": [
    "# %load solutions/exercise_1_6.py"
   ]
  },
  {
   "cell_type": "code",
   "execution_count": null,
   "metadata": {},
   "outputs": [],
   "source": [
    "# %load solutions/exercise_1_7.py"
   ]
  },
  {
   "cell_type": "code",
   "execution_count": null,
   "metadata": {},
   "outputs": [],
   "source": []
  }
 ],
 "metadata": {
  "kernelspec": {
   "display_name": "Python 3",
   "language": "python",
   "name": "python3"
  },
  "language_info": {
   "codemirror_mode": {
    "name": "ipython",
    "version": 3
   },
   "file_extension": ".py",
   "mimetype": "text/x-python",
   "name": "python",
   "nbconvert_exporter": "python",
   "pygments_lexer": "ipython3",
   "version": "3.8.5"
  }
 },
 "nbformat": 4,
 "nbformat_minor": 4
}
