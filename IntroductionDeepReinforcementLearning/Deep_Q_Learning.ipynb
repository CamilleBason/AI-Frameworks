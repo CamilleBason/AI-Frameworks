{
 "cells": [
  {
   "cell_type": "markdown",
   "metadata": {},
   "source": [
    "# [IA Frameworks](https://github.com/wikistat/AI-Frameworks) - Introduction to Deep Reinforcement Learning "
   ]
  },
  {
   "cell_type": "markdown",
   "metadata": {},
   "source": [
    "<center>\n",
    "<a href=\"http://www.insa-toulouse.fr/\" ><img src=\"http://www.math.univ-toulouse.fr/~besse/Wikistat/Images/logo-insa.jpg\" style=\"float:left; max-width: 120px; display: inline\" alt=\"INSA\"/></a> \n",
    "<a href=\"http://wikistat.fr/\" ><img src=\"http://www.math.univ-toulouse.fr/~besse/Wikistat/Images/wikistat.jpg\" width=400, style=\"max-width: 150px; display: inline\"  alt=\"Wikistat\"/></a>\n",
    "<a href=\"http://www.math.univ-toulouse.fr/\" ><img src=\"http://www.math.univ-toulouse.fr/~besse/Wikistat/Images/logo_imt.jpg\" width=400,  style=\"float:right;  display: inline\" alt=\"IMT\"/> </a>\n",
    "    \n",
    "</center>"
   ]
  },
  {
   "cell_type": "markdown",
   "metadata": {},
   "source": [
    "# Part 1 : Deep Q-Network\n",
    "The objectives of this noteboks are the following : \n",
    "\n",
    "* Implement DQN on a pacman-like game (gridworld)\n",
    "* Implement D3QN on the same game\n",
    " \n",
    "Source : [https://github.com/ageron/handson-ml](https://github.com/ageron/handson-ml) and https://github.com/breeko/Simple-Reinforcement-Learning-with-Tensorflow/blob/master/Part%202%20-%20Policy-based%20Agents%20with%20Keras.ipynb"
   ]
  },
  {
   "cell_type": "markdown",
   "metadata": {},
   "source": [
    "# Import librairies"
   ]
  },
  {
   "cell_type": "code",
   "execution_count": 1,
   "metadata": {},
   "outputs": [],
   "source": [
    "import copy\n",
    "import numpy as np\n",
    "import random\n",
    "import os\n",
    "from datetime import datetime\n",
    "import collections\n",
    "\n",
    "\n",
    "# to make this notebook's output stable across runs\n",
    "def reset_graph(seed=42):\n",
    "    tf.reset_default_graph()\n",
    "    tf.set_random_seed(seed)\n",
    "    np.random.seed(seed)\n",
    "\n",
    "# To plot figures and animations\n",
    "#%matplotlib inline\n",
    "#%matplotlib nbagg\n",
    "#import matplotlib\n",
    "#import matplotlib.animation as animation\n",
    "#import matplotlib.pyplot as plt\n",
    "#from IPython.display import HTML\n",
    "\n",
    "\n",
    "#plt.rcParams['axes.labelsize'] = 14\n",
    "#plt.rcParams['xtick.labelsize'] = 12\n",
    "#plt.rcParams['ytick.labelsize'] = 12\n",
    "\n",
    "\n",
    "import tensorflow.keras.models as km\n",
    "import tensorflow.keras.layers as kl\n",
    "import tensorflow.keras.initializers as ki\n",
    "import tensorflow.keras.optimizers as ko\n",
    "import tensorflow.keras.losses as klo\n",
    "import tensorflow.keras.backend as K\n",
    "\n",
    "import pandas as pd\n",
    "\n",
    "\n",
    "def update_scene(num, frames, patch):\n",
    "    patch.set_data(frames[num])\n",
    "    return patch,\n",
    "\n",
    "def plot_animation(frames, repeat=False, interval=400):\n",
    "    plt.close()  # or else nbagg sometimes plots in the previous cell\n",
    "    fig = plt.figure()\n",
    "    patch = plt.imshow(frames[0])\n",
    "    plt.axis('off')\n",
    "    return animation.FuncAnimation(fig, update_scene, fargs=(frames, patch), frames=len(frames), repeat=repeat, interval=interval)"
   ]
  },
  {
   "cell_type": "markdown",
   "metadata": {},
   "source": [
    "# DEEP Q Learning on *Pacman-Like* Game\n",
    "\n",
    "We have seen how to learn an optimal policy on a Markov Decision Process. \n",
    "\n",
    "Let's now try to learn how to play a Video Game Like Pacman. \n",
    "\n",
    "We won't use directly Pacman here (Even if it's available on Gym environment (see below)). The Pacman game requires GPU to be trained and may need some try and parameter optimization to easily converged. \n",
    "\n",
    "Hence, we will start with and simpler environment which looks like Pacman : the [gridworld](https://github.com/awjuliani/DeepRL-Agents/blob/master/gridworld.py) environment.\n",
    "\n",
    "\n"
   ]
  },
  {
   "cell_type": "markdown",
   "metadata": {},
   "source": [
    "### Grid World environment\n",
    "\n",
    "We have a 5x5 blocs where blue, green and red squares. In the environment:\n",
    "* the **agent** controls a *blue* square\n",
    "* the goal is to navigate to the *green* squares (**reward** +1) \n",
    "* and avoiding the *red* squares (**reward** -1).\n",
    "\n",
    "#### Observation\n",
    "\n",
    "The observation is the image itself which is a 84x84x3 images.\n",
    "\n",
    "#### Actions\n",
    "\n",
    "Num | Action\n",
    "--- | ---\n",
    "0 | Go Up\n",
    "1 | Go Down\n",
    "2 | Go Left\n",
    "3 | Go Right\n",
    "\n",
    "\n",
    "#### Reward\n",
    "Reward is 1 for every green square taken and -1 when a red square is taken\n",
    "\n",
    "#### End epsiode\n",
    "There are no condition limit for an episode to finish"
   ]
  },
  {
   "cell_type": "markdown",
   "metadata": {},
   "source": [
    "We initiate the environment"
   ]
  },
  {
   "cell_type": "code",
   "execution_count": 2,
   "metadata": {},
   "outputs": [
    {
     "data": {
      "image/png": "[encoded data removed]",
      "text/plain": [
       "<Figure size 432x288 with 1 Axes>"
      ]
     },
     "metadata": {
      "needs_background": "light"
     },
     "output_type": "display_data"
    }
   ],
   "source": [
    "from gridworld import gameEnv\n",
    "env = gameEnv(partial=False, size=5)"
   ]
  },
  {
   "cell_type": "markdown",
   "metadata": {},
   "source": [
    "**Exercise**: Let's play a game manually to understand how it works. Fill the actions_list with step in order to win points according to the intialised environment."
   ]
  },
  {
   "cell_type": "code",
   "execution_count": 3,
   "metadata": {},
   "outputs": [
    {
     "ename": "NameError",
     "evalue": "name 'HTML' is not defined",
     "output_type": "error",
     "traceback": [
      "\u001b[0;31m---------------------------------------------------------------------------\u001b[0m",
      "\u001b[0;31mNameError\u001b[0m                                 Traceback (most recent call last)",
      "\u001b[0;32m<ipython-input-3-9ba31b6fac28>\u001b[0m in \u001b[0;36m<module>\u001b[0;34m\u001b[0m\n\u001b[1;32m      7\u001b[0m     \u001b[0mcum_reward\u001b[0m\u001b[0;34m+=\u001b[0m\u001b[0mreward\u001b[0m\u001b[0;34m\u001b[0m\u001b[0;34m\u001b[0m\u001b[0m\n\u001b[1;32m      8\u001b[0m \u001b[0mcum_reward\u001b[0m\u001b[0;34m\u001b[0m\u001b[0;34m\u001b[0m\u001b[0m\n\u001b[0;32m----> 9\u001b[0;31m \u001b[0mHTML\u001b[0m\u001b[0;34m(\u001b[0m\u001b[0mplot_animation\u001b[0m\u001b[0;34m(\u001b[0m\u001b[0mframes\u001b[0m\u001b[0;34m)\u001b[0m\u001b[0;34m.\u001b[0m\u001b[0mto_html5_video\u001b[0m\u001b[0;34m(\u001b[0m\u001b[0;34m)\u001b[0m\u001b[0;34m)\u001b[0m\u001b[0;34m\u001b[0m\u001b[0;34m\u001b[0m\u001b[0m\n\u001b[0m",
      "\u001b[0;31mNameError\u001b[0m: name 'HTML' is not defined"
     ]
    }
   ],
   "source": [
    "frames = []\n",
    "cum_reward=0\n",
    "actions_list=[1,3,3,0,0,0,2,2,2]\n",
    "for step in actions_list:\n",
    "    state, reward , end = env.step(step)\n",
    "    frames.append(state)\n",
    "    cum_reward+=reward\n",
    "cum_reward\n",
    "HTML(plot_animation(frames).to_html5_video())"
   ]
  },
  {
   "cell_type": "markdown",
   "metadata": {},
   "source": [
    "### Experience Replay Buffer\n",
    "\n",
    "To make DQNs work you need an **Experience Replay Buffer**. The basic idea is that by storing an agent’s experiences, and then randomly drawing batches of them to train the network, we can more robustly learn to perform well in the task. The Experience Replay buffer stores a fixed number of recent memories, and as new ones come in, old ones are removed. When the time comes to train, we simply draw a uniform batch of random memories from the buffer, and train our network with them. For our DQN, we will build a simple class that handles storing and retrieving memories."
   ]
  },
  {
   "cell_type": "code",
   "execution_count": 4,
   "metadata": {},
   "outputs": [],
   "source": [
    "class ExperienceReplay:\n",
    "    def __init__(self, buffer_size=50000):\n",
    "        \"\"\" Data structure used to hold game experiences \"\"\"\n",
    "        # Buffer will contain [state,action,reward,next_state,done]\n",
    "        self.buffer = []\n",
    "        self.buffer_size = buffer_size\n",
    "\n",
    "    def add(self, experience):\n",
    "        \"\"\" Adds list of experiences to the buffer \"\"\"\n",
    "        # Extend the stored experiences\n",
    "        self.buffer.extend(experience)\n",
    "        # Keep the last buffer_size number of experiences\n",
    "        self.buffer = self.buffer[-self.buffer_size:]\n",
    "\n",
    "    def sample(self, size):\n",
    "        \"\"\" Returns a sample of experiences from the buffer \"\"\"\n",
    "        sample_idxs = np.random.randint(len(self.buffer), size=size)\n",
    "        sample_output = [self.buffer[idx] for idx in sample_idxs]\n",
    "        sample_output = np.reshape(sample_output, (size, -1))\n",
    "        return sample_output"
   ]
  },
  {
   "cell_type": "code",
   "execution_count": 5,
   "metadata": {},
   "outputs": [
    {
     "name": "stdout",
     "output_type": "stream",
     "text": [
      "[90, 91, 92, 93, 94, 95, 96, 97, 98, 99]\n",
      "[[91]\n",
      " [99]\n",
      " [90]\n",
      " [95]\n",
      " [97]]\n"
     ]
    }
   ],
   "source": [
    "experience_replay = ExperienceReplay(buffer_size=10)\n",
    "experience_replay.add(list(range(100)))\n",
    "print(experience_replay.buffer)\n",
    "sample = experience_replay.sample(5)\n",
    "print(sample)"
   ]
  },
  {
   "cell_type": "markdown",
   "metadata": {},
   "source": [
    "### Architecture and loss of network\n",
    "\n",
    "\n",
    "#### Q-Learning\n",
    "Here are the Q-learning formula used above\n",
    "\n",
    "$$target = R(s,a,s')+\\gamma \\max\\limits_{a'}Q_k(s',a')$$\n",
    "$$Q_{k+1}(s,a)\\leftarrow(1-a)Q_k(s,a)+\\alpha[target]$$\n",
    "\n",
    "if the combinations of states and actions are too large, the memory and the computation requirement for Q will be too high.\n",
    "\n",
    "#### Deep Q-learning\n",
    "\n",
    "To address that, we switch to a deep network Q (DQN) to approximate Q(s, a). The learning algorithm is called Deep Q-learning. With the new approach, we generalize the approximation of the Q-value function rather than remembering the solutions.\n",
    "\n",
    "$$target = R(s,a,s')+\\gamma \\max\\limits_{a'}Q_k(s',a')$$\n",
    "$$\\theta_{k+1} \\leftarrow \\theta_k - \\alpha\\nabla_{\\theta}\\mathbb{E}_{s\\sim'P(s'|s,a)} [(Q_{\\theta}(s,a)-target(s'))^2]_{\\theta=\\theta_k} $$\n",
    "\n",
    "We define below a convolutional network. \n",
    "\n",
    "**Exercise** Complete the code of the convolutional network below with the input and output shape in order to make it work with our problem."
   ]
  },
  {
   "cell_type": "code",
   "execution_count": 6,
   "metadata": {},
   "outputs": [
    {
     "ename": "SyntaxError",
     "evalue": "invalid syntax (<ipython-input-6-db768d054d99>, line 3)",
     "output_type": "error",
     "traceback": [
      "\u001b[0;36m  File \u001b[0;32m\"<ipython-input-6-db768d054d99>\"\u001b[0;36m, line \u001b[0;32m3\u001b[0m\n\u001b[0;31m    self.inputs = kl.Input(shape=??, name=\"main_input\")\u001b[0m\n\u001b[0m                                 ^\u001b[0m\n\u001b[0;31mSyntaxError\u001b[0m\u001b[0;31m:\u001b[0m invalid syntax\n"
     ]
    }
   ],
   "source": [
    "class Qnetwork:\n",
    "    def __init__(self):\n",
    "        self.inputs = kl.Input(shape=??, name=\"main_input\")\n",
    "\n",
    "        self.model = kl.Conv2D(\n",
    "            filters=32,\n",
    "            kernel_size=[8, 8],\n",
    "            strides=[4, 4],\n",
    "            activation=\"relu\",\n",
    "            padding=\"valid\",\n",
    "            name=\"conv1\")(self.inputs)\n",
    "        self.model = kl.Conv2D(\n",
    "            filters=64,\n",
    "            kernel_size=[4, 4],\n",
    "            strides=[2, 2],\n",
    "            activation=\"relu\",\n",
    "            padding=\"valid\",\n",
    "            name=\"conv2\")(self.model)\n",
    "        self.model = kl.Conv2D(\n",
    "            filters=64,\n",
    "            kernel_size=[3, 3],\n",
    "            strides=[1, 1],\n",
    "            activation=\"relu\",\n",
    "            padding=\"valid\",\n",
    "            name=\"conv3\")(self.model)\n",
    "        self.model = kl.Conv2D(\n",
    "            filters=512,\n",
    "            kernel_size=[7, 7],\n",
    "            strides=[1, 1],\n",
    "            activation=\"relu\",\n",
    "            padding=\"valid\",\n",
    "            name=\"conv4\")(self.model)\n",
    "\n",
    "        self.model = kl.Flatten()(self.model)\n",
    "        self.model = kl.Dense(256, activation=\"relu\")(self.model)\n",
    "        self.model = kl.Dense(??, activation=??)(self.model)\n",
    "        self.model = km.Model(self.inputs, self.model)\n",
    "        self.model.compile(\"adam\", \"mse\")\n",
    "        self.model.optimizer.lr = 0.0001"
   ]
  },
  {
   "cell_type": "code",
   "execution_count": 7,
   "metadata": {},
   "outputs": [],
   "source": [
    "# %load solutions/Qnetwork_class.py\n",
    "class Qnetwork:\n",
    "    def __init__(self):\n",
    "        self.inputs = kl.Input(shape=[84, 84, 3], name=\"main_input\")\n",
    "\n",
    "        self.model = kl.Conv2D(\n",
    "            filters=32,\n",
    "            kernel_size=[8, 8],\n",
    "            strides=[4, 4],\n",
    "            activation=\"relu\",\n",
    "            padding=\"valid\",\n",
    "            name=\"conv1\")(self.inputs)\n",
    "        self.model = kl.Conv2D(\n",
    "            filters=64,\n",
    "            kernel_size=[4, 4],\n",
    "            strides=[2, 2],\n",
    "            activation=\"relu\",\n",
    "            padding=\"valid\",\n",
    "            name=\"conv2\")(self.model)\n",
    "        self.model = kl.Conv2D(\n",
    "            filters=64,\n",
    "            kernel_size=[3, 3],\n",
    "            strides=[1, 1],\n",
    "            activation=\"relu\",\n",
    "            padding=\"valid\",\n",
    "            name=\"conv3\")(self.model)\n",
    "        self.model = kl.Conv2D(\n",
    "            filters=512,\n",
    "            kernel_size=[7, 7],\n",
    "            strides=[1, 1],\n",
    "            activation=\"relu\",\n",
    "            padding=\"valid\",\n",
    "            name=\"conv4\")(self.model)\n",
    "\n",
    "        self.model = kl.Flatten()(self.model)\n",
    "        self.model = kl.Dense(256, activation=\"relu\")(self.model)\n",
    "        self.model = kl.Dense(4, activation=\"linear\")(self.model)\n",
    "        self.model = km.Model(self.inputs, self.model)\n",
    "        self.model.compile(\"adam\", \"mse\")\n",
    "        self.model.optimizer.lr = 0.0001"
   ]
  },
  {
   "cell_type": "markdown",
   "metadata": {},
   "source": [
    "Init a model in order to display it's summary."
   ]
  },
  {
   "cell_type": "code",
   "execution_count": 8,
   "metadata": {},
   "outputs": [
    {
     "name": "stdout",
     "output_type": "stream",
     "text": [
      "Model: \"functional_1\"\n",
      "_________________________________________________________________\n",
      "Layer (type)                 Output Shape              Param #   \n",
      "=================================================================\n",
      "main_input (InputLayer)      [(None, 84, 84, 3)]       0         \n",
      "_________________________________________________________________\n",
      "conv1 (Conv2D)               (None, 20, 20, 32)        6176      \n",
      "_________________________________________________________________\n",
      "conv2 (Conv2D)               (None, 9, 9, 64)          32832     \n",
      "_________________________________________________________________\n",
      "conv3 (Conv2D)               (None, 7, 7, 64)          36928     \n",
      "_________________________________________________________________\n",
      "conv4 (Conv2D)               (None, 1, 1, 512)         1606144   \n",
      "_________________________________________________________________\n",
      "flatten (Flatten)            (None, 512)               0         \n",
      "_________________________________________________________________\n",
      "dense (Dense)                (None, 256)               131328    \n",
      "_________________________________________________________________\n",
      "dense_1 (Dense)              (None, 4)                 1028      \n",
      "=================================================================\n",
      "Total params: 1,814,436\n",
      "Trainable params: 1,814,436\n",
      "Non-trainable params: 0\n",
      "_________________________________________________________________\n"
     ]
    }
   ],
   "source": [
    "main_qn = Qnetwork()\n",
    "main_qn.model.summary()"
   ]
  },
  {
   "cell_type": "markdown",
   "metadata": {},
   "source": [
    "### DQN Class\n",
    "\n",
    "#### Separated Target network\n",
    "Here is how the target is supposed to be computed in order to train or Deep-Q network.\n",
    "\n",
    "$$target = R(s,a,s')+\\gamma \\max\\limits_{a'}Q_k(s',a';\\theta) $$\n",
    "\n",
    "\n",
    "We build a deep network to learn the values of Q but its target values are changing as we know things better. As shown below, the target values for Q depends on Q itself, we are chasing a non-stationary target. So we use a different network to generate the target, that will be updated from time to time\n",
    "\n",
    "\n",
    "$$target = R(s,a,s')+\\gamma \\max\\limits_{a'}Q_k(s',a';\\theta_{target}) $$\n",
    "\n",
    "\n",
    "**Exercise**  Complete the class below to train a DQN network\n",
    "\n",
    "1. Pay attention to all the parameters define in the init and make sure you understand its.\n",
    "2. Look at the train function that allow to run the pseudo code described below.\n",
    "3. Go inside all other function and complete the code where you'll find a TODO mark.\n",
    "\n",
    "\n",
    "#### Pseudo Code\n",
    "* while num_episode < self.num_episodes:\n",
    "\n",
    "    1. Run one complete episode:\n",
    "        * If less than *pre_train_episode* has been played:\n",
    "            * Play randomly\n",
    "        * Else\n",
    "            * play randomly with probability *prob_random* (Exploration) else play with the *main_q* network (Exploitation).\n",
    "        * Store the episode in the *ReplayBuffer*\n",
    "    2. If more than *pre_train_episode* has been played\n",
    "                * Decrease the probability of playing randomly (in order to use more Exploitation than Exploration (e-greedy policy).\n",
    "                * Every 5 episodes played:\n",
    "                    * Train the episode using episode from the *ReplayBuffer* and using the target build from the *target_q network*\n",
    "                    * Update the *target_q* weight with *main_q* weight."
   ]
  },
  {
   "cell_type": "code",
   "execution_count": null,
   "metadata": {},
   "outputs": [],
   "source": [
    "class DQN:\n",
    "    def __init__(self):\n",
    "        self.batch_size = 64  # How many experiences to use for each training step\n",
    "        self.num_epochs = 20  # How many epochs to train\n",
    "        self.train_frequency = 5  # How often you update the network\n",
    "        self.y = 0.99  # Discount factor\n",
    "        self.prob_random_start = 0.6  # Starting chance of random action\n",
    "        self.prob_random_end = 0.1  # Ending chance of random action\n",
    "        self.annealing_steps = 1000.  # Steps of training to reduce from start_e -> end_e\n",
    "        self.max_num_episodes = 10000  # How many episodes of game environment to train\n",
    "        self.min_pre_train_episodes = 100  # Number of episodes of random actions\n",
    "        self.max_num_step = 50  # Maximum allowed episode length\n",
    "        self.goal = 15\n",
    "\n",
    "        # Set env\n",
    "        self.env = gameEnv(partial=False, size=5)\n",
    "\n",
    "        # Reset everything from keras session\n",
    "        K.clear_session()\n",
    "\n",
    "        # Setup our Q-networks\n",
    "        self.main_qn = Qnetwork()\n",
    "        self.target_qn = Qnetwork()\n",
    "\n",
    "        # Setup our experience replay\n",
    "        self.experience_replay = ExperienceReplay()\n",
    "\n",
    "    def update_target_graph(self):\n",
    "        #TODO\n",
    "        return\n",
    "\n",
    "    def choose_action(self, state, prob_random, num_episode):\n",
    "        # TODO\n",
    "        return action\n",
    "\n",
    "    def run_one_episode(self, num_episode, prob_random):\n",
    "        # TODO\n",
    "        return experiences_episode\n",
    "\n",
    "    def generate_target_q(self, train_state, train_action, train_reward, train_next_state, train_done):\n",
    "        # TODO\n",
    "        return target_q\n",
    "\n",
    "    def train_one_step(self):\n",
    "        # Train batch is [[state,action,reward,next_state,done],...]\n",
    "        train_batch = self.experience_replay.sample(self.batch_size)\n",
    "\n",
    "        # Separate the batch into numpy array for each compents\n",
    "        train_state = np.array([x[0] for x in train_batch])\n",
    "        train_action = np.array([x[1] for x in train_batch])\n",
    "        train_reward = np.array([x[2] for x in train_batch])\n",
    "        train_next_state = np.array([x[3] for x in train_batch])\n",
    "        train_done = np.array([x[4] for x in train_batch])\n",
    "\n",
    "        # Generate target Q\n",
    "        target_q = self.generate_target_q(\n",
    "            train_state=train_state,\n",
    "            train_action=train_action,\n",
    "            train_reward=train_reward,\n",
    "            train_next_state=train_next_state,\n",
    "            train_done=train_done\n",
    "        )\n",
    "\n",
    "        # Train the main model\n",
    "        loss = self.main_qn.model.train_on_batch(train_state, target_q)\n",
    "        return loss\n",
    "\n",
    "    def train(self):\n",
    "\n",
    "        # Make the networks equal\n",
    "        self.update_target_graph()\n",
    "\n",
    "        # We'll begin by acting complete randomly. As we gain experience and improve,\n",
    "        # we will begin reducing the probability of acting randomly, and instead\n",
    "        # take the actions that our Q network suggests\n",
    "        prob_random = self.prob_random_start\n",
    "        prob_random_drop = (self.prob_random_start - self.prob_random_end) / self.annealing_steps\n",
    "\n",
    "        # Init variable\n",
    "        num_steps = []  # Tracks number of steps per episode\n",
    "        rewards = []  # Tracks rewards per episode\n",
    "        print_every = 50  # How often to print status\n",
    "        losses = [0]  # Tracking training losses\n",
    "        num_episode = 0\n",
    "\n",
    "        while True:\n",
    "            # Run one episode\n",
    "            experiences_episode = self.run_one_episode(num_episode, prob_random)\n",
    "\n",
    "            # Save the episode in the replay buffer\n",
    "            self.experience_replay.add(experiences_episode)\n",
    "\n",
    "            # If we have play enoug episode. Start the training\n",
    "            if num_episode > self.min_pre_train_episodes:\n",
    "\n",
    "                # Drop the probability of a random action if wi didn't reach the prob_random_end value\n",
    "                if prob_random > self.prob_random_end:\n",
    "                    prob_random -= prob_random_drop\n",
    "\n",
    "                # Every train_frequency iteration, train the model\n",
    "                if num_episode % self.train_frequency == 0:\n",
    "                    for num_epoch in range(self.num_epochs):\n",
    "                        loss = self.train_one_step()\n",
    "                        losses.append(loss)\n",
    "\n",
    "                    # Update the target model with values from the main model\n",
    "                    self.update_target_graph()\n",
    "\n",
    "            # Increment the episode\n",
    "            num_episode += 1\n",
    "            num_steps.append(len(experiences_episode))\n",
    "            rewards.append(sum([e[2] for e in experiences_episode]))\n",
    "\n",
    "            # Print Info\n",
    "            if num_episode % print_every == 0:\n",
    "                # datetime object containing current date and time\n",
    "                now = datetime.now()\n",
    "                dt_string = now.strftime(\"%d/%m/%Y %H:%M:%S\")\n",
    "                mean_loss = np.mean(losses[-(print_every * self.num_epochs):])\n",
    "                print(\"{} - Num episode: {} Mean reward: {:0.4f} Prob random: {:0.4f}, Loss: {:0.04f}\".format(\n",
    "                    dt_string, num_episode, np.mean(rewards[-print_every:]), prob_random, mean_loss))\n",
    "\n",
    "            # Stop Condition\n",
    "            if np.mean(rewards[-print_every:]) >= self.goal:\n",
    "                now = datetime.now()\n",
    "                dt_string = now.strftime(\"%d/%m/%Y %H:%M:%S\")\n",
    "                mean_loss = np.mean(losses[-(print_every * self.num_epochs):])\n",
    "                print(\"{} - Num episode: {} Mean reward: {:0.4f} Prob random: {:0.4f}, Loss: {:0.04f}\".format(\n",
    "                    dt_string, num_episode, np.mean(rewards[-print_every:]), prob_random, mean_loss))\n",
    "                print(\"Training complete because we reached goal rewards.\")\n",
    "                break\n",
    "            if num_episode > self.max_num_episodes:\n",
    "                print(\"Training Stop because we reached max num of episodes\")\n",
    "                break"
   ]
  },
  {
   "cell_type": "markdown",
   "metadata": {},
   "source": [
    "**Test `update_target_graph`**"
   ]
  },
  {
   "cell_type": "code",
   "execution_count": null,
   "metadata": {},
   "outputs": [],
   "source": [
    "# Test 1 Update weight copy weight\n",
    "dqn = DQN()\n",
    "for target_layer_weight, main_layer_weight in zip(dqn.target_qn.model.get_weights(), dqn.main_qn.model.get_weights()):\n",
    "    if len(target_layer_weight.shape)>1:\n",
    "        assert not(np.all(target_layer_weight == main_layer_weight))\n",
    "\n",
    "dqn.update_target_graph()\n",
    "for target_layer_weight, main_layer_weight in zip(dqn.target_qn.model.get_weights(), dqn.main_qn.model.get_weights()):\n",
    "    if len(target_layer_weight.shape)>1:\n",
    "        assert np.all(target_layer_weight == main_layer_weight)"
   ]
  },
  {
   "cell_type": "markdown",
   "metadata": {},
   "source": [
    "**Test `choose_action`**"
   ]
  },
  {
   "cell_type": "code",
   "execution_count": null,
   "metadata": {},
   "outputs": [],
   "source": [
    "dqn = DQN()\n",
    "state = dqn.env.reset()\n",
    "# Random action if less than min_pre_train_episode has been played\n",
    "actions = [dqn.choose_action(state=state,num_episode=99, prob_random=0) for _ in range(100)]\n",
    "count_action = collections.Counter(actions)\n",
    "print(count_action)\n",
    "assert count_action[0]>15\n",
    "assert count_action[1]>15\n",
    "assert count_action[2]>15\n",
    "assert count_action[3]>15\n",
    "\n",
    "# Random action if we play more than min_pre_train_episode and prob_random is 1\n",
    "actions = [dqn.choose_action(state=state,num_episode=101, prob_random=1) for _ in range(100)]\n",
    "count_action = collections.Counter(actions)\n",
    "print(count_action)\n",
    "assert count_action[0]>15\n",
    "assert count_action[1]>15\n",
    "assert count_action[2]>15\n",
    "assert count_action[3]>15\n",
    "\n",
    "# Best action according to model if we play more than min_pre_train_episode and prob_random is 0\n",
    "actions = [dqn.choose_action(state=state,num_episode=101, prob_random=0) for _ in range(100)]\n",
    "count_action = collections.Counter(actions)\n",
    "print(count_action)\n",
    "assert(len(set(actions)))==1\n",
    "\n",
    "actions = [dqn.choose_action(state=state,num_episode=101, prob_random=0.5) for _ in range(100)]\n",
    "count_action = collections.Counter(actions)"
   ]
  },
  {
   "cell_type": "markdown",
   "metadata": {},
   "source": [
    "**Test `run_one_episode`**"
   ]
  },
  {
   "cell_type": "code",
   "execution_count": null,
   "metadata": {},
   "outputs": [],
   "source": [
    "dqn = DQN()\n",
    "experiences_episode = dqn.run_one_episode(num_episode=200,\n",
    "                          prob_random=1)\n",
    "\n",
    "for experience in experiences_episode:\n",
    "    state, action, reward, next_state, done = experience\n",
    "\n",
    "    assert state.shape == (84, 84, 3)\n",
    "    assert type(action) is int\n",
    "    assert type(reward) is float\n",
    "    assert next_state.shape == (84, 84, 3)\n",
    "    assert type(done) is bool"
   ]
  },
  {
   "cell_type": "markdown",
   "metadata": {},
   "source": [
    "**Test `generate_target_q`**"
   ]
  },
  {
   "cell_type": "code",
   "execution_count": null,
   "metadata": {},
   "outputs": [],
   "source": [
    "dqn = DQN()\n",
    "dqn.batch_size=2\n",
    "state = np.expand_dims(dqn.env.reset(), axis=0)\n",
    "target_q = dqn.generate_target_q(\n",
    "    train_state = np.vstack([state,state]),\n",
    "    train_action = [0,0],\n",
    "    train_reward = [1.0,2.0],\n",
    "    train_next_state = np.vstack([state,state]),\n",
    "    train_done = [1, 1]\n",
    ")\n",
    "\n",
    "assert target_q.shape == (2,4)"
   ]
  },
  {
   "cell_type": "code",
   "execution_count": 10,
   "metadata": {},
   "outputs": [],
   "source": [
    "# %load solutions/DQN_class.py\n",
    "class DQN:\n",
    "    def __init__(self):\n",
    "        self.batch_size = 64  # How many experiences to use for each training step\n",
    "        self.num_epochs = 20  # How many epochs to train\n",
    "        self.train_frequency = 5  # How often you update the network\n",
    "        self.y = 0.99  # Discount factor\n",
    "        self.prob_random_start = 0.6  # Starting chance of random action\n",
    "        self.prob_random_end = 0.1  # Ending chance of random action\n",
    "        self.annealing_steps = 1000.  # Steps of training to reduce from start_e -> end_e\n",
    "        self.max_num_episodes = 10000  # How many episodes of game environment to train\n",
    "        self.min_pre_train_episodes = 100  # Number of episodes of random actions\n",
    "        self.max_num_step = 50  # Maximum allowed episode length\n",
    "        self.goal = 15\n",
    "\n",
    "        # Set env\n",
    "        self.env = gameEnv(partial=False, size=5)\n",
    "\n",
    "        # Reset everything from keras session\n",
    "        K.clear_session()\n",
    "\n",
    "        # Setup our Q-networks\n",
    "        self.main_qn = Qnetwork()\n",
    "        self.target_qn = Qnetwork()\n",
    "\n",
    "        # Setup our experience replay\n",
    "        self.experience_replay = ExperienceReplay()\n",
    "\n",
    "    def update_target_graph(self):\n",
    "        updated_weights = np.array(self.main_qn.model.get_weights())\n",
    "        self.target_qn.model.set_weights(updated_weights)\n",
    "\n",
    "    def choose_action(self, state, prob_random, num_episode):\n",
    "        if np.random.rand() < prob_random or \\\n",
    "                num_episode < self.min_pre_train_episodes:\n",
    "            # Act randomly based on prob_random or if we\n",
    "            # have not accumulated enough pre_train episodes\n",
    "            action = np.random.randint(self.env.actions)\n",
    "        else:\n",
    "            # Decide what action to take from the Q network\n",
    "            # First add one dimension to the netword to fit expected dimension of the network\n",
    "            state = np.expand_dims(state, axis=0)\n",
    "            action = np.argmax(self.main_qn.model.predict(state))\n",
    "        return action\n",
    "\n",
    "    def run_one_episode(self, num_episode, prob_random):\n",
    "        # Create an experience replay for the current episode.\n",
    "        experiences_episode = []\n",
    "\n",
    "        # Get the game state from the environment\n",
    "        state = self.env.reset()\n",
    "\n",
    "        done = False  # Game is complete\n",
    "        cur_step = 0  # Running sum of number of steps taken in episode\n",
    "\n",
    "        while cur_step < self.max_num_step and not done:\n",
    "            cur_step += 1\n",
    "            action = self.choose_action(\n",
    "                state=state,\n",
    "                prob_random=prob_random,\n",
    "                num_episode=num_episode\n",
    "            )\n",
    "\n",
    "            # Take the action and retrieve the next state, reward and done\n",
    "            next_state, reward, done = self.env.step(action)\n",
    "\n",
    "            # Setup the experience to be stored in the episode buffer\n",
    "            experience = [state, action, reward, next_state, done]\n",
    "\n",
    "            # Store the experience in the episode buffer\n",
    "            experiences_episode.append(experience)\n",
    "\n",
    "            # Update the state\n",
    "            state = next_state\n",
    "\n",
    "        return experiences_episode\n",
    "\n",
    "    def generate_target_q(self, train_state, train_action, train_reward, train_next_state, train_done):\n",
    "        # Our predictions (actions to take) from the main Q network\n",
    "        target_q = self.main_qn.model.predict(train_state)\n",
    "\n",
    "        # Tells us whether game over or not\n",
    "        # We will multiply our rewards by this value\n",
    "        # to ensure we don't train on the last move\n",
    "        train_gameover = train_done == 0\n",
    "\n",
    "        # Q value of the next state based on action\n",
    "        target_q_next_state = self.target_qn.model.predict(train_next_state)\n",
    "        train_next_state_values = np.max(target_q_next_state[range(self.batch_size)], axis=1)\n",
    "\n",
    "        # Reward from the action chosen in the train batch\n",
    "        actual_reward = train_reward + (self.y * train_next_state_values * train_gameover)\n",
    "        target_q[range(self.batch_size), train_action] = actual_reward\n",
    "        return target_q\n",
    "\n",
    "    def train_one_step(self):\n",
    "        # Train batch is [[state,action,reward,next_state,done],...]\n",
    "        train_batch = self.experience_replay.sample(self.batch_size)\n",
    "\n",
    "        # Separate the batch into numpy array for each compents\n",
    "        train_state = np.array([x[0] for x in train_batch])\n",
    "        train_action = np.array([x[1] for x in train_batch])\n",
    "        train_reward = np.array([x[2] for x in train_batch])\n",
    "        train_next_state = np.array([x[3] for x in train_batch])\n",
    "        train_done = np.array([x[4] for x in train_batch])\n",
    "\n",
    "        # Generate target Q\n",
    "        target_q = self.generate_target_q(\n",
    "            train_state=train_state,\n",
    "            train_action=train_action,\n",
    "            train_reward=train_reward,\n",
    "            train_next_state=train_next_state,\n",
    "            train_done=train_done\n",
    "        )\n",
    "\n",
    "        # Train the main model\n",
    "        loss = self.main_qn.model.train_on_batch(train_state, target_q)\n",
    "        return loss\n",
    "\n",
    "    def train(self):\n",
    "\n",
    "        # Make the networks equal\n",
    "        self.update_target_graph()\n",
    "\n",
    "        # We'll begin by acting complete randomly. As we gain experience and improve,\n",
    "        # we will begin reducing the probability of acting randomly, and instead\n",
    "        # take the actions that our Q network suggests\n",
    "        prob_random = self.prob_random_start\n",
    "        prob_random_drop = (self.prob_random_start - self.prob_random_end) / self.annealing_steps\n",
    "\n",
    "        # Init variable\n",
    "        num_steps = []  # Tracks number of steps per episode\n",
    "        rewards = []  # Tracks rewards per episode\n",
    "        print_every = 50  # How often to print status\n",
    "        losses = [0]  # Tracking training losses\n",
    "        num_episode = 0\n",
    "\n",
    "        while True:\n",
    "            # Run one episode\n",
    "            experiences_episode = self.run_one_episode(num_episode, prob_random)\n",
    "\n",
    "            # Save the episode in the replay buffer\n",
    "            self.experience_replay.add(experiences_episode)\n",
    "\n",
    "            # If we have play enoug episode. Start the training\n",
    "            if num_episode > self.min_pre_train_episodes:\n",
    "\n",
    "                # Drop the probability of a random action if wi didn't reach the prob_random_end value\n",
    "                if prob_random > self.prob_random_end:\n",
    "                    prob_random -= prob_random_drop\n",
    "\n",
    "                # Every train_frequency iteration, train the model\n",
    "                if num_episode % self.train_frequency == 0:\n",
    "                    for num_epoch in range(self.num_epochs):\n",
    "                        loss = self.train_one_step()\n",
    "                        losses.append(loss)\n",
    "\n",
    "                    # Update the target model with values from the main model\n",
    "                    self.update_target_graph()\n",
    "\n",
    "            # Increment the episode\n",
    "            num_episode += 1\n",
    "            num_steps.append(len(experiences_episode))\n",
    "            rewards.append(sum([e[2] for e in experiences_episode]))\n",
    "\n",
    "            # Print Info\n",
    "            if num_episode % print_every == 0:\n",
    "                # datetime object containing current date and time\n",
    "                now = datetime.now()\n",
    "                dt_string = now.strftime(\"%d/%m/%Y %H:%M:%S\")\n",
    "                mean_loss = np.mean(losses[-(print_every * self.num_epochs):])\n",
    "                print(\"{} - Num episode: {} Mean reward: {:0.4f} Prob random: {:0.4f}, Loss: {:0.04f}\".format(\n",
    "                    dt_string, num_episode, np.mean(rewards[-print_every:]), prob_random, mean_loss))\n",
    "\n",
    "            # Stop Condition\n",
    "            if np.mean(rewards[-print_every:]) >= self.goal:\n",
    "                now = datetime.now()\n",
    "                dt_string = now.strftime(\"%d/%m/%Y %H:%M:%S\")\n",
    "                mean_loss = np.mean(losses[-(print_every * self.num_epochs):])\n",
    "                print(\"{} - Num episode: {} Mean reward: {:0.4f} Prob random: {:0.4f}, Loss: {:0.04f}\".format(\n",
    "                    dt_string, num_episode, np.mean(rewards[-print_every:]), prob_random, mean_loss))\n",
    "                print(\"Training complete because we reached goal rewards.\")\n",
    "                break\n",
    "            if num_episode > self.max_num_episodes:\n",
    "                print(\"Training Stop because we reached max num of episodes\")\n",
    "                break"
   ]
  },
  {
   "cell_type": "markdown",
   "metadata": {},
   "source": [
    "Train the model"
   ]
  },
  {
   "cell_type": "code",
   "execution_count": null,
   "metadata": {
    "scrolled": true
   },
   "outputs": [
    {
     "name": "stdout",
     "output_type": "stream",
     "text": [
      "07/11/2020 17:34:31 - Num episode: 50 Mean reward: 2.1600 Prob random: 0.6000, Loss: 0.0000\n",
      "07/11/2020 17:34:32 - Num episode: 100 Mean reward: 1.7000 Prob random: 0.6000, Loss: 0.0000\n",
      "07/11/2020 17:36:10 - Num episode: 150 Mean reward: 1.4600 Prob random: 0.5755, Loss: 1.1373\n",
      "07/11/2020 17:37:59 - Num episode: 200 Mean reward: 1.5000 Prob random: 0.5505, Loss: 0.5895\n",
      "07/11/2020 17:39:36 - Num episode: 250 Mean reward: 2.0000 Prob random: 0.5255, Loss: 0.4171\n",
      "07/11/2020 17:41:09 - Num episode: 300 Mean reward: 2.1000 Prob random: 0.5005, Loss: 0.3310\n",
      "07/11/2020 17:42:52 - Num episode: 350 Mean reward: 1.9000 Prob random: 0.4755, Loss: 0.2790\n",
      "07/11/2020 17:44:33 - Num episode: 400 Mean reward: 2.7400 Prob random: 0.4505, Loss: 0.0817\n",
      "07/11/2020 17:46:13 - Num episode: 450 Mean reward: 2.7000 Prob random: 0.4255, Loss: 0.0775\n",
      "07/11/2020 17:47:59 - Num episode: 500 Mean reward: 2.3800 Prob random: 0.4005, Loss: 0.0762\n",
      "07/11/2020 17:49:40 - Num episode: 550 Mean reward: 3.2000 Prob random: 0.3755, Loss: 0.0707\n",
      "07/11/2020 17:51:04 - Num episode: 600 Mean reward: 3.2800 Prob random: 0.3505, Loss: 0.0683\n",
      "07/11/2020 17:52:29 - Num episode: 650 Mean reward: 2.6800 Prob random: 0.3255, Loss: 0.0666\n"
     ]
    }
   ],
   "source": [
    "dqn = DQN()\n",
    "dqn.train()"
   ]
  },
  {
   "cell_type": "markdown",
   "metadata": {},
   "source": [
    "**Exercise** Play a pacman game and display the result of a game in video."
   ]
  },
  {
   "cell_type": "code",
   "execution_count": 12,
   "metadata": {},
   "outputs": [],
   "source": [
    "# %load solutions/exercise_2_5.py"
   ]
  },
  {
   "cell_type": "markdown",
   "metadata": {},
   "source": [
    "### DQN Improvement\n",
    "\n",
    "DQN has  been improved recently by using two different tricks (among others):\n",
    "\n",
    "* Dueling\n",
    "* Double DQN\n",
    "\n",
    "Implement these two solutions."
   ]
  },
  {
   "cell_type": "markdown",
   "metadata": {},
   "source": [
    "#### Dueling\n",
    "\n",
    "See the dueling architecture : \n",
    "\n",
    "\n",
    "In order to explain the reasoning behind the architecture changes that Dueling DQN makes, we need to first explain some a few additional reinforcement learning terms. The Q-values that we have been discussing so far correspond to how good it is to take a certain action given a certain state. This can be written as Q(s,a). This action given state can actually be decomposed into two more fundamental notions of value. The first is the value function V(s), which says simple how good it is to be in any given state. The second is the advantage function A(a), which tells how much better taking a certain action would be compared to the others. We can then think of Q as being the combination of V and A. More formally:\n",
    "$$Q(s,a) =V(s) + A(a)$$\n",
    "The goal of Dueling DQN is to have a network that separately computes the advantage and value functions, and combines them back into a single Q-function only at the final layer. It may seem somewhat pointless to do this at first glance. Why decompose a function that we will just put back together? The key to realizing the benefit is to appreciate that our reinforcement learning agent may not need to care about both value and advantage at any given time. For example: imagine sitting outside in a park watching the sunset. It is beautiful, and highly rewarding to be sitting there. No action needs to be taken, and it doesn’t really make sense to think of the value of sitting there as being conditioned on anything beyond the environmental state you are in. We can achieve more robust estimates of state value by decoupling it from the necessity of being attached to specific actions."
   ]
  },
  {
   "cell_type": "code",
   "execution_count": 13,
   "metadata": {},
   "outputs": [],
   "source": [
    "# %load solutions/exercise_2_6.py"
   ]
  },
  {
   "cell_type": "code",
   "execution_count": 14,
   "metadata": {},
   "outputs": [
    {
     "name": "stdout",
     "output_type": "stream",
     "text": [
      "Model: \"functional_5\"\n",
      "_________________________________________________________________\n",
      "Layer (type)                 Output Shape              Param #   \n",
      "=================================================================\n",
      "main_input (InputLayer)      [(None, 84, 84, 3)]       0         \n",
      "_________________________________________________________________\n",
      "conv1 (Conv2D)               (None, 20, 20, 32)        6176      \n",
      "_________________________________________________________________\n",
      "conv2 (Conv2D)               (None, 9, 9, 64)          32832     \n",
      "_________________________________________________________________\n",
      "conv3 (Conv2D)               (None, 7, 7, 64)          36928     \n",
      "_________________________________________________________________\n",
      "conv4 (Conv2D)               (None, 1, 1, 512)         1606144   \n",
      "_________________________________________________________________\n",
      "flatten_2 (Flatten)          (None, 512)               0         \n",
      "_________________________________________________________________\n",
      "dense_4 (Dense)              (None, 256)               131328    \n",
      "_________________________________________________________________\n",
      "dense_5 (Dense)              (None, 4)                 1028      \n",
      "=================================================================\n",
      "Total params: 1,814,436\n",
      "Trainable params: 1,814,436\n",
      "Non-trainable params: 0\n",
      "_________________________________________________________________\n"
     ]
    }
   ],
   "source": [
    "main_qn = Qnetwork()\n",
    "main_qn.model.summary()"
   ]
  },
  {
   "cell_type": "markdown",
   "metadata": {},
   "source": [
    "#### Double DQN\n",
    "\n",
    "\n",
    "This lead to often overestimates the Q-values of the potential actions to take in a given state. While this would be fine if all actions were always overestimates equally, there was reason to believe this wasn’t the case. You can easily imagine that if certain suboptimal actions regularly were given higher Q-values than optimal actions, the agent would have a hard time ever learning the ideal policy. In order to correct for this, the authors of DDQN paper propose a simple trick: instead of taking the max over Q-values when computing the target-Q value for our training step, we use our primary network to chose an action, and our target network to generate the target Q-value for that action. By decoupling the action choice from the target Q-value generation, we are able to substantially reduce the overestimation, and train faster and more reliably. Below is the new DDQN equation for updating the target value.\n",
    "\n",
    "\n",
    "$$target = R(s,a,s')+\\gamma Q_k(s',argmax_aQ(s',a;\\theta);\\theta_{target}) $$\n",
    "\n"
   ]
  },
  {
   "cell_type": "code",
   "execution_count": 15,
   "metadata": {},
   "outputs": [],
   "source": [
    "%load solutions/exercise_2_7.py"
   ]
  },
  {
   "cell_type": "code",
   "execution_count": 16,
   "metadata": {},
   "outputs": [
    {
     "ename": "AttributeError",
     "evalue": "module 'datetime' has no attribute 'now'",
     "output_type": "error",
     "traceback": [
      "\u001b[0;31m---------------------------------------------------------------------------\u001b[0m",
      "\u001b[0;31mAttributeError\u001b[0m                            Traceback (most recent call last)",
      "\u001b[0;32m<ipython-input-16-e4697a0341fb>\u001b[0m in \u001b[0;36m<module>\u001b[0;34m\u001b[0m\n\u001b[1;32m      1\u001b[0m \u001b[0mdqn\u001b[0m \u001b[0;34m=\u001b[0m \u001b[0mDQN\u001b[0m\u001b[0;34m(\u001b[0m\u001b[0;34m)\u001b[0m\u001b[0;34m\u001b[0m\u001b[0;34m\u001b[0m\u001b[0m\n\u001b[0;32m----> 2\u001b[0;31m \u001b[0mdqn\u001b[0m\u001b[0;34m.\u001b[0m\u001b[0mtrain\u001b[0m\u001b[0;34m(\u001b[0m\u001b[0;34m)\u001b[0m\u001b[0;34m\u001b[0m\u001b[0;34m\u001b[0m\u001b[0m\n\u001b[0m",
      "\u001b[0;32m<ipython-input-10-3b4fae1c5f5a>\u001b[0m in \u001b[0;36mtrain\u001b[0;34m(self)\u001b[0m\n\u001b[1;32m    167\u001b[0m             \u001b[0;32mif\u001b[0m \u001b[0mnum_episode\u001b[0m \u001b[0;34m%\u001b[0m \u001b[0mprint_every\u001b[0m \u001b[0;34m==\u001b[0m \u001b[0;36m0\u001b[0m\u001b[0;34m:\u001b[0m\u001b[0;34m\u001b[0m\u001b[0;34m\u001b[0m\u001b[0m\n\u001b[1;32m    168\u001b[0m                 \u001b[0;31m# datetime object containing current date and time\u001b[0m\u001b[0;34m\u001b[0m\u001b[0;34m\u001b[0m\u001b[0;34m\u001b[0m\u001b[0m\n\u001b[0;32m--> 169\u001b[0;31m                 \u001b[0mnow\u001b[0m \u001b[0;34m=\u001b[0m \u001b[0mdatetime\u001b[0m\u001b[0;34m.\u001b[0m\u001b[0mnow\u001b[0m\u001b[0;34m(\u001b[0m\u001b[0;34m)\u001b[0m\u001b[0;34m\u001b[0m\u001b[0;34m\u001b[0m\u001b[0m\n\u001b[0m\u001b[1;32m    170\u001b[0m                 \u001b[0mdt_string\u001b[0m \u001b[0;34m=\u001b[0m \u001b[0mnow\u001b[0m\u001b[0;34m.\u001b[0m\u001b[0mstrftime\u001b[0m\u001b[0;34m(\u001b[0m\u001b[0;34m\"%d/%m/%Y %H:%M:%S\"\u001b[0m\u001b[0;34m)\u001b[0m\u001b[0;34m\u001b[0m\u001b[0;34m\u001b[0m\u001b[0m\n\u001b[1;32m    171\u001b[0m                 \u001b[0mmean_loss\u001b[0m \u001b[0;34m=\u001b[0m \u001b[0mnp\u001b[0m\u001b[0;34m.\u001b[0m\u001b[0mmean\u001b[0m\u001b[0;34m(\u001b[0m\u001b[0mlosses\u001b[0m\u001b[0;34m[\u001b[0m\u001b[0;34m-\u001b[0m\u001b[0;34m(\u001b[0m\u001b[0mprint_every\u001b[0m \u001b[0;34m*\u001b[0m \u001b[0mself\u001b[0m\u001b[0;34m.\u001b[0m\u001b[0mnum_epochs\u001b[0m\u001b[0;34m)\u001b[0m\u001b[0;34m:\u001b[0m\u001b[0;34m]\u001b[0m\u001b[0;34m)\u001b[0m\u001b[0;34m\u001b[0m\u001b[0;34m\u001b[0m\u001b[0m\n",
      "\u001b[0;31mAttributeError\u001b[0m: module 'datetime' has no attribute 'now'"
     ]
    }
   ],
   "source": [
    "dqn = DQN()\n",
    "dqn.train()"
   ]
  },
  {
   "cell_type": "markdown",
   "metadata": {},
   "source": [
    "## Real Pacman!"
   ]
  },
  {
   "cell_type": "markdown",
   "metadata": {},
   "source": [
    "### Creating the MsPacman environment"
   ]
  },
  {
   "cell_type": "code",
   "execution_count": 124,
   "metadata": {
    "scrolled": true
   },
   "outputs": [
    {
     "data": {
      "text/plain": [
       "(210, 160, 3)"
      ]
     },
     "execution_count": 124,
     "metadata": {},
     "output_type": "execute_result"
    }
   ],
   "source": [
    "env = gym.make(\"MsPacman-v0\")\n",
    "obs = env.reset()\n",
    "obs.shape"
   ]
  },
  {
   "cell_type": "code",
   "execution_count": 83,
   "metadata": {},
   "outputs": [
    {
     "data": {
      "text/plain": [
       "Discrete(9)"
      ]
     },
     "execution_count": 83,
     "metadata": {},
     "output_type": "execute_result"
    }
   ],
   "source": [
    "env.action_space"
   ]
  },
  {
   "cell_type": "markdown",
   "metadata": {},
   "source": [
    "### Preprocessing"
   ]
  },
  {
   "cell_type": "markdown",
   "metadata": {},
   "source": [
    "Preprocessing the images is optional but greatly speeds up training."
   ]
  },
  {
   "cell_type": "code",
   "execution_count": null,
   "metadata": {},
   "outputs": [],
   "source": [
    "mspacman_color = 210 + 164 + 74\n",
    "\n",
    "def preprocess_observation(obs):\n",
    "    img = obs[1:176:2, ::2] # crop and downsize\n",
    "    img = img.sum(axis=2) # to greyscale\n",
    "    img[img==mspacman_color] = 0 # Improve contrast\n",
    "    img = (img // 3 - 128).astype(np.int8) # normalize from -128 to 127\n",
    "    return img.reshape(88, 80, 1)/128\n",
    "\n",
    "img = preprocess_observation(obs)\n",
    "img.shape"
   ]
  },
  {
   "cell_type": "markdown",
   "metadata": {},
   "source": [
    "Note: the `preprocess_observation()` function is slightly different from the one in the book: instead of representing pixels as 64-bit floats from -1.0 to 1.0, it represents them as signed bytes (from -128 to 127). The benefit is that the replay memory will take up roughly 8 times less RAM (about 6.5 GB instead of 52 GB). The reduced precision has no visible impact on training."
   ]
  },
  {
   "cell_type": "code",
   "execution_count": null,
   "metadata": {},
   "outputs": [],
   "source": [
    "plt.figure(figsize=(11, 7))\n",
    "plt.subplot(121)\n",
    "plt.title(\"Original observation (160×210 RGB)\")\n",
    "plt.imshow(obs)\n",
    "plt.axis(\"off\")\n",
    "plt.subplot(122)\n",
    "plt.title(\"Preprocessed observation (88×80 greyscale)\")\n",
    "plt.imshow(img.reshape(88, 80), interpolation=\"nearest\", cmap=\"gray\")\n",
    "plt.axis(\"off\")\n",
    "plt.show()"
   ]
  },
  {
   "cell_type": "code",
   "execution_count": null,
   "metadata": {},
   "outputs": [],
   "source": []
  }
 ],
 "metadata": {
  "kernelspec": {
   "display_name": "Python 3",
   "language": "python",
   "name": "python3"
  },
  "language_info": {
   "codemirror_mode": {
    "name": "ipython",
    "version": 3
   },
   "file_extension": ".py",
   "mimetype": "text/x-python",
   "name": "python",
   "nbconvert_exporter": "python",
   "pygments_lexer": "ipython3",
   "version": "3.8.5"
  }
 },
 "nbformat": 4,
 "nbformat_minor": 4
}
